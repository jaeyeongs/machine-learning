{
 "cells": [
  {
   "cell_type": "markdown",
   "id": "82d3d597",
   "metadata": {},
   "source": [
    "# 카드 거래 내역 데이터셋을 이용해 이상거래를 예측"
   ]
  },
  {
   "cell_type": "markdown",
   "id": "a1de922a",
   "metadata": {},
   "source": [
    "## 라이브러리 및 데이터 확인"
   ]
  },
  {
   "cell_type": "code",
   "execution_count": 1,
   "id": "be84028c",
   "metadata": {},
   "outputs": [],
   "source": [
    "import pandas as pd\n",
    "import numpy as np\n",
    "import matplotlib.pyplot as plt\n",
    "import seaborn as sns\n",
    "\n",
    "file_url = 'https://media.githubusercontent.com/media/musthave-ML10/data_source/main/fraud.csv'\n",
    "data = pd.read_csv(file_url)"
   ]
  },
  {
   "cell_type": "code",
   "execution_count": 2,
   "id": "3106e857",
   "metadata": {},
   "outputs": [
    {
     "data": {
      "text/html": [
       "<div>\n",
       "<style scoped>\n",
       "    .dataframe tbody tr th:only-of-type {\n",
       "        vertical-align: middle;\n",
       "    }\n",
       "\n",
       "    .dataframe tbody tr th {\n",
       "        vertical-align: top;\n",
       "    }\n",
       "\n",
       "    .dataframe thead th {\n",
       "        text-align: right;\n",
       "    }\n",
       "</style>\n",
       "<table border=\"1\" class=\"dataframe\">\n",
       "  <thead>\n",
       "    <tr style=\"text-align: right;\">\n",
       "      <th></th>\n",
       "      <th>trans_date_trans_time</th>\n",
       "      <th>cc_num</th>\n",
       "      <th>merchant</th>\n",
       "      <th>category</th>\n",
       "      <th>amt</th>\n",
       "      <th>first</th>\n",
       "      <th>last</th>\n",
       "      <th>gender</th>\n",
       "      <th>street</th>\n",
       "      <th>city</th>\n",
       "      <th>...</th>\n",
       "      <th>lat</th>\n",
       "      <th>long</th>\n",
       "      <th>city_pop</th>\n",
       "      <th>job</th>\n",
       "      <th>dob</th>\n",
       "      <th>trans_num</th>\n",
       "      <th>unix_time</th>\n",
       "      <th>merch_lat</th>\n",
       "      <th>merch_long</th>\n",
       "      <th>is_fraud</th>\n",
       "    </tr>\n",
       "  </thead>\n",
       "  <tbody>\n",
       "    <tr>\n",
       "      <th>0</th>\n",
       "      <td>2019-01-01 00:00:18</td>\n",
       "      <td>2703186189652095</td>\n",
       "      <td>fraud_Rippin, Kub and Mann</td>\n",
       "      <td>misc_net</td>\n",
       "      <td>4.97</td>\n",
       "      <td>Jennifer</td>\n",
       "      <td>Banks</td>\n",
       "      <td>F</td>\n",
       "      <td>561 Perry Cove</td>\n",
       "      <td>Moravian Falls</td>\n",
       "      <td>...</td>\n",
       "      <td>36.0788</td>\n",
       "      <td>-81.1781</td>\n",
       "      <td>3495</td>\n",
       "      <td>Psychologist, counselling</td>\n",
       "      <td>1988-03-09</td>\n",
       "      <td>0b242abb623afc578575680df30655b9</td>\n",
       "      <td>1325376018</td>\n",
       "      <td>36.011293</td>\n",
       "      <td>-82.048315</td>\n",
       "      <td>0</td>\n",
       "    </tr>\n",
       "    <tr>\n",
       "      <th>1</th>\n",
       "      <td>2019-01-01 00:00:44</td>\n",
       "      <td>630423337322</td>\n",
       "      <td>fraud_Heller, Gutmann and Zieme</td>\n",
       "      <td>grocery_pos</td>\n",
       "      <td>107.23</td>\n",
       "      <td>Stephanie</td>\n",
       "      <td>Gill</td>\n",
       "      <td>F</td>\n",
       "      <td>43039 Riley Greens Suite 393</td>\n",
       "      <td>Orient</td>\n",
       "      <td>...</td>\n",
       "      <td>48.8878</td>\n",
       "      <td>-118.2105</td>\n",
       "      <td>149</td>\n",
       "      <td>Special educational needs teacher</td>\n",
       "      <td>1978-06-21</td>\n",
       "      <td>1f76529f8574734946361c461b024d99</td>\n",
       "      <td>1325376044</td>\n",
       "      <td>49.159047</td>\n",
       "      <td>-118.186462</td>\n",
       "      <td>0</td>\n",
       "    </tr>\n",
       "    <tr>\n",
       "      <th>2</th>\n",
       "      <td>2019-01-01 00:00:51</td>\n",
       "      <td>38859492057661</td>\n",
       "      <td>fraud_Lind-Buckridge</td>\n",
       "      <td>entertainment</td>\n",
       "      <td>220.11</td>\n",
       "      <td>Edward</td>\n",
       "      <td>Sanchez</td>\n",
       "      <td>M</td>\n",
       "      <td>594 White Dale Suite 530</td>\n",
       "      <td>Malad City</td>\n",
       "      <td>...</td>\n",
       "      <td>42.1808</td>\n",
       "      <td>-112.2620</td>\n",
       "      <td>4154</td>\n",
       "      <td>Nature conservation officer</td>\n",
       "      <td>1962-01-19</td>\n",
       "      <td>a1a22d70485983eac12b5b88dad1cf95</td>\n",
       "      <td>1325376051</td>\n",
       "      <td>43.150704</td>\n",
       "      <td>-112.154481</td>\n",
       "      <td>0</td>\n",
       "    </tr>\n",
       "    <tr>\n",
       "      <th>3</th>\n",
       "      <td>2019-01-01 00:01:16</td>\n",
       "      <td>3534093764340240</td>\n",
       "      <td>fraud_Kutch, Hermiston and Farrell</td>\n",
       "      <td>gas_transport</td>\n",
       "      <td>45.00</td>\n",
       "      <td>Jeremy</td>\n",
       "      <td>White</td>\n",
       "      <td>M</td>\n",
       "      <td>9443 Cynthia Court Apt. 038</td>\n",
       "      <td>Boulder</td>\n",
       "      <td>...</td>\n",
       "      <td>46.2306</td>\n",
       "      <td>-112.1138</td>\n",
       "      <td>1939</td>\n",
       "      <td>Patent attorney</td>\n",
       "      <td>1967-01-12</td>\n",
       "      <td>6b849c168bdad6f867558c3793159a81</td>\n",
       "      <td>1325376076</td>\n",
       "      <td>47.034331</td>\n",
       "      <td>-112.561071</td>\n",
       "      <td>0</td>\n",
       "    </tr>\n",
       "    <tr>\n",
       "      <th>4</th>\n",
       "      <td>2019-01-01 00:03:06</td>\n",
       "      <td>375534208663984</td>\n",
       "      <td>fraud_Keeling-Crist</td>\n",
       "      <td>misc_pos</td>\n",
       "      <td>41.96</td>\n",
       "      <td>Tyler</td>\n",
       "      <td>Garcia</td>\n",
       "      <td>M</td>\n",
       "      <td>408 Bradley Rest</td>\n",
       "      <td>Doe Hill</td>\n",
       "      <td>...</td>\n",
       "      <td>38.4207</td>\n",
       "      <td>-79.4629</td>\n",
       "      <td>99</td>\n",
       "      <td>Dance movement psychotherapist</td>\n",
       "      <td>1986-03-28</td>\n",
       "      <td>a41d7549acf90789359a9aa5346dcb46</td>\n",
       "      <td>1325376186</td>\n",
       "      <td>38.674999</td>\n",
       "      <td>-78.632459</td>\n",
       "      <td>0</td>\n",
       "    </tr>\n",
       "  </tbody>\n",
       "</table>\n",
       "<p>5 rows × 22 columns</p>\n",
       "</div>"
      ],
      "text/plain": [
       "  trans_date_trans_time            cc_num                            merchant  \\\n",
       "0   2019-01-01 00:00:18  2703186189652095          fraud_Rippin, Kub and Mann   \n",
       "1   2019-01-01 00:00:44      630423337322     fraud_Heller, Gutmann and Zieme   \n",
       "2   2019-01-01 00:00:51    38859492057661                fraud_Lind-Buckridge   \n",
       "3   2019-01-01 00:01:16  3534093764340240  fraud_Kutch, Hermiston and Farrell   \n",
       "4   2019-01-01 00:03:06   375534208663984                 fraud_Keeling-Crist   \n",
       "\n",
       "        category     amt      first     last gender  \\\n",
       "0       misc_net    4.97   Jennifer    Banks      F   \n",
       "1    grocery_pos  107.23  Stephanie     Gill      F   \n",
       "2  entertainment  220.11     Edward  Sanchez      M   \n",
       "3  gas_transport   45.00     Jeremy    White      M   \n",
       "4       misc_pos   41.96      Tyler   Garcia      M   \n",
       "\n",
       "                         street            city  ...      lat      long  \\\n",
       "0                561 Perry Cove  Moravian Falls  ...  36.0788  -81.1781   \n",
       "1  43039 Riley Greens Suite 393          Orient  ...  48.8878 -118.2105   \n",
       "2      594 White Dale Suite 530      Malad City  ...  42.1808 -112.2620   \n",
       "3   9443 Cynthia Court Apt. 038         Boulder  ...  46.2306 -112.1138   \n",
       "4              408 Bradley Rest        Doe Hill  ...  38.4207  -79.4629   \n",
       "\n",
       "   city_pop                                job         dob  \\\n",
       "0      3495          Psychologist, counselling  1988-03-09   \n",
       "1       149  Special educational needs teacher  1978-06-21   \n",
       "2      4154        Nature conservation officer  1962-01-19   \n",
       "3      1939                    Patent attorney  1967-01-12   \n",
       "4        99     Dance movement psychotherapist  1986-03-28   \n",
       "\n",
       "                          trans_num   unix_time  merch_lat  merch_long  \\\n",
       "0  0b242abb623afc578575680df30655b9  1325376018  36.011293  -82.048315   \n",
       "1  1f76529f8574734946361c461b024d99  1325376044  49.159047 -118.186462   \n",
       "2  a1a22d70485983eac12b5b88dad1cf95  1325376051  43.150704 -112.154481   \n",
       "3  6b849c168bdad6f867558c3793159a81  1325376076  47.034331 -112.561071   \n",
       "4  a41d7549acf90789359a9aa5346dcb46  1325376186  38.674999  -78.632459   \n",
       "\n",
       "   is_fraud  \n",
       "0         0  \n",
       "1         0  \n",
       "2         0  \n",
       "3         0  \n",
       "4         0  \n",
       "\n",
       "[5 rows x 22 columns]"
      ]
     },
     "execution_count": 2,
     "metadata": {},
     "output_type": "execute_result"
    }
   ],
   "source": [
    "data.head()"
   ]
  },
  {
   "cell_type": "code",
   "execution_count": 3,
   "id": "7d7b2c5d",
   "metadata": {},
   "outputs": [
    {
     "name": "stdout",
     "output_type": "stream",
     "text": [
      "<class 'pandas.core.frame.DataFrame'>\n",
      "RangeIndex: 1852394 entries, 0 to 1852393\n",
      "Data columns (total 22 columns):\n",
      " #   Column                 Dtype  \n",
      "---  ------                 -----  \n",
      " 0   trans_date_trans_time  object \n",
      " 1   cc_num                 int64  \n",
      " 2   merchant               object \n",
      " 3   category               object \n",
      " 4   amt                    float64\n",
      " 5   first                  object \n",
      " 6   last                   object \n",
      " 7   gender                 object \n",
      " 8   street                 object \n",
      " 9   city                   object \n",
      " 10  state                  object \n",
      " 11  zip                    int64  \n",
      " 12  lat                    float64\n",
      " 13  long                   float64\n",
      " 14  city_pop               int64  \n",
      " 15  job                    object \n",
      " 16  dob                    object \n",
      " 17  trans_num              object \n",
      " 18  unix_time              int64  \n",
      " 19  merch_lat              float64\n",
      " 20  merch_long             float64\n",
      " 21  is_fraud               int64  \n",
      "dtypes: float64(5), int64(5), object(12)\n",
      "memory usage: 310.9+ MB\n"
     ]
    }
   ],
   "source": [
    "data.info()"
   ]
  },
  {
   "cell_type": "code",
   "execution_count": 4,
   "id": "4db8d5ee",
   "metadata": {},
   "outputs": [
    {
     "name": "stdout",
     "output_type": "stream",
     "text": [
      "<class 'pandas.core.frame.DataFrame'>\n",
      "RangeIndex: 1852394 entries, 0 to 1852393\n",
      "Data columns (total 22 columns):\n",
      " #   Column                 Non-Null Count    Dtype  \n",
      "---  ------                 --------------    -----  \n",
      " 0   trans_date_trans_time  1852394 non-null  object \n",
      " 1   cc_num                 1852394 non-null  int64  \n",
      " 2   merchant               1852394 non-null  object \n",
      " 3   category               1852394 non-null  object \n",
      " 4   amt                    1852394 non-null  float64\n",
      " 5   first                  1852394 non-null  object \n",
      " 6   last                   1852394 non-null  object \n",
      " 7   gender                 1852394 non-null  object \n",
      " 8   street                 1852394 non-null  object \n",
      " 9   city                   1852394 non-null  object \n",
      " 10  state                  1852394 non-null  object \n",
      " 11  zip                    1852394 non-null  int64  \n",
      " 12  lat                    1852394 non-null  float64\n",
      " 13  long                   1852394 non-null  float64\n",
      " 14  city_pop               1852394 non-null  int64  \n",
      " 15  job                    1852394 non-null  object \n",
      " 16  dob                    1852394 non-null  object \n",
      " 17  trans_num              1852394 non-null  object \n",
      " 18  unix_time              1852394 non-null  int64  \n",
      " 19  merch_lat              1852394 non-null  float64\n",
      " 20  merch_long             1852394 non-null  float64\n",
      " 21  is_fraud               1852394 non-null  int64  \n",
      "dtypes: float64(5), int64(5), object(12)\n",
      "memory usage: 310.9+ MB\n"
     ]
    }
   ],
   "source": [
    "# 데이터가 너무 클 경우\n",
    "data.info(show_counts=True)"
   ]
  },
  {
   "cell_type": "code",
   "execution_count": 5,
   "id": "0639af00",
   "metadata": {},
   "outputs": [
    {
     "data": {
      "text/html": [
       "<div>\n",
       "<style scoped>\n",
       "    .dataframe tbody tr th:only-of-type {\n",
       "        vertical-align: middle;\n",
       "    }\n",
       "\n",
       "    .dataframe tbody tr th {\n",
       "        vertical-align: top;\n",
       "    }\n",
       "\n",
       "    .dataframe thead th {\n",
       "        text-align: right;\n",
       "    }\n",
       "</style>\n",
       "<table border=\"1\" class=\"dataframe\">\n",
       "  <thead>\n",
       "    <tr style=\"text-align: right;\">\n",
       "      <th></th>\n",
       "      <th>cc_num</th>\n",
       "      <th>amt</th>\n",
       "      <th>zip</th>\n",
       "      <th>lat</th>\n",
       "      <th>long</th>\n",
       "      <th>city_pop</th>\n",
       "      <th>unix_time</th>\n",
       "      <th>merch_lat</th>\n",
       "      <th>merch_long</th>\n",
       "      <th>is_fraud</th>\n",
       "    </tr>\n",
       "  </thead>\n",
       "  <tbody>\n",
       "    <tr>\n",
       "      <th>count</th>\n",
       "      <td>1.852394e+06</td>\n",
       "      <td>1852394.00</td>\n",
       "      <td>1852394.00</td>\n",
       "      <td>1852394.00</td>\n",
       "      <td>1852394.00</td>\n",
       "      <td>1852394.00</td>\n",
       "      <td>1.852394e+06</td>\n",
       "      <td>1852394.00</td>\n",
       "      <td>1852394.00</td>\n",
       "      <td>1852394.00</td>\n",
       "    </tr>\n",
       "    <tr>\n",
       "      <th>mean</th>\n",
       "      <td>4.173860e+17</td>\n",
       "      <td>70.06</td>\n",
       "      <td>48813.26</td>\n",
       "      <td>38.54</td>\n",
       "      <td>-90.23</td>\n",
       "      <td>88643.67</td>\n",
       "      <td>1.358674e+09</td>\n",
       "      <td>38.54</td>\n",
       "      <td>-90.23</td>\n",
       "      <td>0.01</td>\n",
       "    </tr>\n",
       "    <tr>\n",
       "      <th>std</th>\n",
       "      <td>1.309115e+18</td>\n",
       "      <td>159.25</td>\n",
       "      <td>26881.85</td>\n",
       "      <td>5.07</td>\n",
       "      <td>13.75</td>\n",
       "      <td>301487.62</td>\n",
       "      <td>1.819508e+07</td>\n",
       "      <td>5.11</td>\n",
       "      <td>13.76</td>\n",
       "      <td>0.07</td>\n",
       "    </tr>\n",
       "    <tr>\n",
       "      <th>min</th>\n",
       "      <td>6.041621e+10</td>\n",
       "      <td>1.00</td>\n",
       "      <td>1257.00</td>\n",
       "      <td>20.03</td>\n",
       "      <td>-165.67</td>\n",
       "      <td>23.00</td>\n",
       "      <td>1.325376e+09</td>\n",
       "      <td>19.03</td>\n",
       "      <td>-166.67</td>\n",
       "      <td>0.00</td>\n",
       "    </tr>\n",
       "    <tr>\n",
       "      <th>25%</th>\n",
       "      <td>1.800429e+14</td>\n",
       "      <td>9.64</td>\n",
       "      <td>26237.00</td>\n",
       "      <td>34.67</td>\n",
       "      <td>-96.80</td>\n",
       "      <td>741.00</td>\n",
       "      <td>1.343017e+09</td>\n",
       "      <td>34.74</td>\n",
       "      <td>-96.90</td>\n",
       "      <td>0.00</td>\n",
       "    </tr>\n",
       "    <tr>\n",
       "      <th>50%</th>\n",
       "      <td>3.521417e+15</td>\n",
       "      <td>47.45</td>\n",
       "      <td>48174.00</td>\n",
       "      <td>39.35</td>\n",
       "      <td>-87.48</td>\n",
       "      <td>2443.00</td>\n",
       "      <td>1.357089e+09</td>\n",
       "      <td>39.37</td>\n",
       "      <td>-87.44</td>\n",
       "      <td>0.00</td>\n",
       "    </tr>\n",
       "    <tr>\n",
       "      <th>75%</th>\n",
       "      <td>4.642255e+15</td>\n",
       "      <td>83.10</td>\n",
       "      <td>72042.00</td>\n",
       "      <td>41.94</td>\n",
       "      <td>-80.16</td>\n",
       "      <td>20328.00</td>\n",
       "      <td>1.374581e+09</td>\n",
       "      <td>41.96</td>\n",
       "      <td>-80.25</td>\n",
       "      <td>0.00</td>\n",
       "    </tr>\n",
       "    <tr>\n",
       "      <th>max</th>\n",
       "      <td>4.992346e+18</td>\n",
       "      <td>28948.90</td>\n",
       "      <td>99921.00</td>\n",
       "      <td>66.69</td>\n",
       "      <td>-67.95</td>\n",
       "      <td>2906700.00</td>\n",
       "      <td>1.388534e+09</td>\n",
       "      <td>67.51</td>\n",
       "      <td>-66.95</td>\n",
       "      <td>1.00</td>\n",
       "    </tr>\n",
       "  </tbody>\n",
       "</table>\n",
       "</div>"
      ],
      "text/plain": [
       "             cc_num         amt         zip         lat        long  \\\n",
       "count  1.852394e+06  1852394.00  1852394.00  1852394.00  1852394.00   \n",
       "mean   4.173860e+17       70.06    48813.26       38.54      -90.23   \n",
       "std    1.309115e+18      159.25    26881.85        5.07       13.75   \n",
       "min    6.041621e+10        1.00     1257.00       20.03     -165.67   \n",
       "25%    1.800429e+14        9.64    26237.00       34.67      -96.80   \n",
       "50%    3.521417e+15       47.45    48174.00       39.35      -87.48   \n",
       "75%    4.642255e+15       83.10    72042.00       41.94      -80.16   \n",
       "max    4.992346e+18    28948.90    99921.00       66.69      -67.95   \n",
       "\n",
       "         city_pop     unix_time   merch_lat  merch_long    is_fraud  \n",
       "count  1852394.00  1.852394e+06  1852394.00  1852394.00  1852394.00  \n",
       "mean     88643.67  1.358674e+09       38.54      -90.23        0.01  \n",
       "std     301487.62  1.819508e+07        5.11       13.76        0.07  \n",
       "min         23.00  1.325376e+09       19.03     -166.67        0.00  \n",
       "25%        741.00  1.343017e+09       34.74      -96.90        0.00  \n",
       "50%       2443.00  1.357089e+09       39.37      -87.44        0.00  \n",
       "75%      20328.00  1.374581e+09       41.96      -80.25        0.00  \n",
       "max    2906700.00  1.388534e+09       67.51      -66.95        1.00  "
      ]
     },
     "execution_count": 5,
     "metadata": {},
     "output_type": "execute_result"
    }
   ],
   "source": [
    "round(data.describe(), 2)"
   ]
  },
  {
   "cell_type": "markdown",
   "id": "25c5a5a9",
   "metadata": {},
   "source": [
    "## 전처리 : 데이터 클리닝"
   ]
  },
  {
   "cell_type": "code",
   "execution_count": 6,
   "id": "159cd26f",
   "metadata": {},
   "outputs": [],
   "source": [
    "# 이상 탐지(is_fraud)를 예측하기 위해 불필요한 변수 제거\n",
    "data.drop(['first',\n",
    "           'last',\n",
    "           'street',\n",
    "           'city',\n",
    "           'state',\n",
    "           'zip',\n",
    "           'trans_num',\n",
    "           'unix_time',\n",
    "           'job',\n",
    "           'merchant'], axis=1, inplace= True)"
   ]
  },
  {
   "cell_type": "code",
   "execution_count": 7,
   "id": "76956e8f",
   "metadata": {},
   "outputs": [],
   "source": [
    "# 거래일시(trans_date_trans_time) 변수를 datetime 형태로 변환\n",
    "data['trans_date_trans_time'] = pd.to_datetime(data['trans_date_trans_time'])"
   ]
  },
  {
   "cell_type": "code",
   "execution_count": 8,
   "id": "bd0117b3",
   "metadata": {},
   "outputs": [
    {
     "name": "stdout",
     "output_type": "stream",
     "text": [
      "<class 'pandas.core.frame.DataFrame'>\n",
      "RangeIndex: 1852394 entries, 0 to 1852393\n",
      "Data columns (total 12 columns):\n",
      " #   Column                 Dtype         \n",
      "---  ------                 -----         \n",
      " 0   trans_date_trans_time  datetime64[ns]\n",
      " 1   cc_num                 int64         \n",
      " 2   category               object        \n",
      " 3   amt                    float64       \n",
      " 4   gender                 object        \n",
      " 5   lat                    float64       \n",
      " 6   long                   float64       \n",
      " 7   city_pop               int64         \n",
      " 8   dob                    object        \n",
      " 9   merch_lat              float64       \n",
      " 10  merch_long             float64       \n",
      " 11  is_fraud               int64         \n",
      "dtypes: datetime64[ns](1), float64(5), int64(3), object(3)\n",
      "memory usage: 169.6+ MB\n"
     ]
    }
   ],
   "source": [
    "data.info()"
   ]
  },
  {
   "cell_type": "markdown",
   "id": "2850d29a",
   "metadata": {},
   "source": [
    "## 전처리 : 피처 엔지니어링"
   ]
  },
  {
   "cell_type": "code",
   "execution_count": 9,
   "id": "3566236c",
   "metadata": {},
   "outputs": [],
   "source": [
    "# cc_num별 amt 평균과 표준편차 계산\n",
    "amt_info = data.groupby('cc_num').agg(['mean', 'std'])['amt'].reset_index()"
   ]
  },
  {
   "cell_type": "code",
   "execution_count": 10,
   "id": "3153d952",
   "metadata": {},
   "outputs": [
    {
     "data": {
      "text/html": [
       "<div>\n",
       "<style scoped>\n",
       "    .dataframe tbody tr th:only-of-type {\n",
       "        vertical-align: middle;\n",
       "    }\n",
       "\n",
       "    .dataframe tbody tr th {\n",
       "        vertical-align: top;\n",
       "    }\n",
       "\n",
       "    .dataframe thead th {\n",
       "        text-align: right;\n",
       "    }\n",
       "</style>\n",
       "<table border=\"1\" class=\"dataframe\">\n",
       "  <thead>\n",
       "    <tr style=\"text-align: right;\">\n",
       "      <th></th>\n",
       "      <th>cc_num</th>\n",
       "      <th>mean</th>\n",
       "      <th>std</th>\n",
       "    </tr>\n",
       "  </thead>\n",
       "  <tbody>\n",
       "    <tr>\n",
       "      <th>0</th>\n",
       "      <td>60416207185</td>\n",
       "      <td>59.257796</td>\n",
       "      <td>142.869746</td>\n",
       "    </tr>\n",
       "    <tr>\n",
       "      <th>1</th>\n",
       "      <td>60422928733</td>\n",
       "      <td>65.483159</td>\n",
       "      <td>92.042844</td>\n",
       "    </tr>\n",
       "    <tr>\n",
       "      <th>2</th>\n",
       "      <td>60423098130</td>\n",
       "      <td>96.376084</td>\n",
       "      <td>1000.693872</td>\n",
       "    </tr>\n",
       "    <tr>\n",
       "      <th>3</th>\n",
       "      <td>60427851591</td>\n",
       "      <td>107.487550</td>\n",
       "      <td>131.014534</td>\n",
       "    </tr>\n",
       "    <tr>\n",
       "      <th>4</th>\n",
       "      <td>60487002085</td>\n",
       "      <td>64.096925</td>\n",
       "      <td>153.207660</td>\n",
       "    </tr>\n",
       "  </tbody>\n",
       "</table>\n",
       "</div>"
      ],
      "text/plain": [
       "        cc_num        mean          std\n",
       "0  60416207185   59.257796   142.869746\n",
       "1  60422928733   65.483159    92.042844\n",
       "2  60423098130   96.376084  1000.693872\n",
       "3  60427851591  107.487550   131.014534\n",
       "4  60487002085   64.096925   153.207660"
      ]
     },
     "execution_count": 10,
     "metadata": {},
     "output_type": "execute_result"
    }
   ],
   "source": [
    "amt_info.head()"
   ]
  },
  {
   "cell_type": "code",
   "execution_count": 11,
   "id": "5563f7b5",
   "metadata": {},
   "outputs": [],
   "source": [
    "data = data.merge(amt_info, on='cc_num', how='left')"
   ]
  },
  {
   "cell_type": "code",
   "execution_count": 12,
   "id": "499ec33c",
   "metadata": {},
   "outputs": [],
   "source": [
    "# z-score 계산\n",
    "data['amt_z_score'] = (data['amt'] - data['mean']) / data['std']"
   ]
  },
  {
   "cell_type": "code",
   "execution_count": 13,
   "id": "398ed1dd",
   "metadata": {},
   "outputs": [
    {
     "data": {
      "text/html": [
       "<div>\n",
       "<style scoped>\n",
       "    .dataframe tbody tr th:only-of-type {\n",
       "        vertical-align: middle;\n",
       "    }\n",
       "\n",
       "    .dataframe tbody tr th {\n",
       "        vertical-align: top;\n",
       "    }\n",
       "\n",
       "    .dataframe thead th {\n",
       "        text-align: right;\n",
       "    }\n",
       "</style>\n",
       "<table border=\"1\" class=\"dataframe\">\n",
       "  <thead>\n",
       "    <tr style=\"text-align: right;\">\n",
       "      <th></th>\n",
       "      <th>amt</th>\n",
       "      <th>mean</th>\n",
       "      <th>std</th>\n",
       "      <th>amt_z_score</th>\n",
       "    </tr>\n",
       "  </thead>\n",
       "  <tbody>\n",
       "    <tr>\n",
       "      <th>0</th>\n",
       "      <td>4.97</td>\n",
       "      <td>89.408743</td>\n",
       "      <td>127.530101</td>\n",
       "      <td>-0.662108</td>\n",
       "    </tr>\n",
       "    <tr>\n",
       "      <th>1</th>\n",
       "      <td>107.23</td>\n",
       "      <td>56.078113</td>\n",
       "      <td>159.201852</td>\n",
       "      <td>0.321302</td>\n",
       "    </tr>\n",
       "    <tr>\n",
       "      <th>2</th>\n",
       "      <td>220.11</td>\n",
       "      <td>69.924272</td>\n",
       "      <td>116.688602</td>\n",
       "      <td>1.287064</td>\n",
       "    </tr>\n",
       "    <tr>\n",
       "      <th>3</th>\n",
       "      <td>45.00</td>\n",
       "      <td>80.090040</td>\n",
       "      <td>280.077880</td>\n",
       "      <td>-0.125287</td>\n",
       "    </tr>\n",
       "    <tr>\n",
       "      <th>4</th>\n",
       "      <td>41.96</td>\n",
       "      <td>95.341146</td>\n",
       "      <td>94.322842</td>\n",
       "      <td>-0.565941</td>\n",
       "    </tr>\n",
       "  </tbody>\n",
       "</table>\n",
       "</div>"
      ],
      "text/plain": [
       "      amt       mean         std  amt_z_score\n",
       "0    4.97  89.408743  127.530101    -0.662108\n",
       "1  107.23  56.078113  159.201852     0.321302\n",
       "2  220.11  69.924272  116.688602     1.287064\n",
       "3   45.00  80.090040  280.077880    -0.125287\n",
       "4   41.96  95.341146   94.322842    -0.565941"
      ]
     },
     "execution_count": 13,
     "metadata": {},
     "output_type": "execute_result"
    }
   ],
   "source": [
    "data[['amt', 'mean', 'std', 'amt_z_score']].head()"
   ]
  },
  {
   "cell_type": "code",
   "execution_count": 14,
   "id": "4618c53e",
   "metadata": {},
   "outputs": [],
   "source": [
    "data.drop(['mean', 'std'], axis=1, inplace=True)"
   ]
  },
  {
   "cell_type": "code",
   "execution_count": 15,
   "id": "2eb4e980",
   "metadata": {},
   "outputs": [
    {
     "data": {
      "text/html": [
       "<div>\n",
       "<style scoped>\n",
       "    .dataframe tbody tr th:only-of-type {\n",
       "        vertical-align: middle;\n",
       "    }\n",
       "\n",
       "    .dataframe tbody tr th {\n",
       "        vertical-align: top;\n",
       "    }\n",
       "\n",
       "    .dataframe thead th {\n",
       "        text-align: right;\n",
       "    }\n",
       "</style>\n",
       "<table border=\"1\" class=\"dataframe\">\n",
       "  <thead>\n",
       "    <tr style=\"text-align: right;\">\n",
       "      <th></th>\n",
       "      <th>trans_date_trans_time</th>\n",
       "      <th>cc_num</th>\n",
       "      <th>category</th>\n",
       "      <th>amt</th>\n",
       "      <th>gender</th>\n",
       "      <th>lat</th>\n",
       "      <th>long</th>\n",
       "      <th>city_pop</th>\n",
       "      <th>dob</th>\n",
       "      <th>merch_lat</th>\n",
       "      <th>merch_long</th>\n",
       "      <th>is_fraud</th>\n",
       "      <th>amt_z_score</th>\n",
       "    </tr>\n",
       "  </thead>\n",
       "  <tbody>\n",
       "    <tr>\n",
       "      <th>0</th>\n",
       "      <td>2019-01-01 00:00:18</td>\n",
       "      <td>2703186189652095</td>\n",
       "      <td>misc_net</td>\n",
       "      <td>4.97</td>\n",
       "      <td>F</td>\n",
       "      <td>36.0788</td>\n",
       "      <td>-81.1781</td>\n",
       "      <td>3495</td>\n",
       "      <td>1988-03-09</td>\n",
       "      <td>36.011293</td>\n",
       "      <td>-82.048315</td>\n",
       "      <td>0</td>\n",
       "      <td>-0.662108</td>\n",
       "    </tr>\n",
       "    <tr>\n",
       "      <th>1</th>\n",
       "      <td>2019-01-01 00:00:44</td>\n",
       "      <td>630423337322</td>\n",
       "      <td>grocery_pos</td>\n",
       "      <td>107.23</td>\n",
       "      <td>F</td>\n",
       "      <td>48.8878</td>\n",
       "      <td>-118.2105</td>\n",
       "      <td>149</td>\n",
       "      <td>1978-06-21</td>\n",
       "      <td>49.159047</td>\n",
       "      <td>-118.186462</td>\n",
       "      <td>0</td>\n",
       "      <td>0.321302</td>\n",
       "    </tr>\n",
       "    <tr>\n",
       "      <th>2</th>\n",
       "      <td>2019-01-01 00:00:51</td>\n",
       "      <td>38859492057661</td>\n",
       "      <td>entertainment</td>\n",
       "      <td>220.11</td>\n",
       "      <td>M</td>\n",
       "      <td>42.1808</td>\n",
       "      <td>-112.2620</td>\n",
       "      <td>4154</td>\n",
       "      <td>1962-01-19</td>\n",
       "      <td>43.150704</td>\n",
       "      <td>-112.154481</td>\n",
       "      <td>0</td>\n",
       "      <td>1.287064</td>\n",
       "    </tr>\n",
       "    <tr>\n",
       "      <th>3</th>\n",
       "      <td>2019-01-01 00:01:16</td>\n",
       "      <td>3534093764340240</td>\n",
       "      <td>gas_transport</td>\n",
       "      <td>45.00</td>\n",
       "      <td>M</td>\n",
       "      <td>46.2306</td>\n",
       "      <td>-112.1138</td>\n",
       "      <td>1939</td>\n",
       "      <td>1967-01-12</td>\n",
       "      <td>47.034331</td>\n",
       "      <td>-112.561071</td>\n",
       "      <td>0</td>\n",
       "      <td>-0.125287</td>\n",
       "    </tr>\n",
       "    <tr>\n",
       "      <th>4</th>\n",
       "      <td>2019-01-01 00:03:06</td>\n",
       "      <td>375534208663984</td>\n",
       "      <td>misc_pos</td>\n",
       "      <td>41.96</td>\n",
       "      <td>M</td>\n",
       "      <td>38.4207</td>\n",
       "      <td>-79.4629</td>\n",
       "      <td>99</td>\n",
       "      <td>1986-03-28</td>\n",
       "      <td>38.674999</td>\n",
       "      <td>-78.632459</td>\n",
       "      <td>0</td>\n",
       "      <td>-0.565941</td>\n",
       "    </tr>\n",
       "  </tbody>\n",
       "</table>\n",
       "</div>"
      ],
      "text/plain": [
       "  trans_date_trans_time            cc_num       category     amt gender  \\\n",
       "0   2019-01-01 00:00:18  2703186189652095       misc_net    4.97      F   \n",
       "1   2019-01-01 00:00:44      630423337322    grocery_pos  107.23      F   \n",
       "2   2019-01-01 00:00:51    38859492057661  entertainment  220.11      M   \n",
       "3   2019-01-01 00:01:16  3534093764340240  gas_transport   45.00      M   \n",
       "4   2019-01-01 00:03:06   375534208663984       misc_pos   41.96      M   \n",
       "\n",
       "       lat      long  city_pop         dob  merch_lat  merch_long  is_fraud  \\\n",
       "0  36.0788  -81.1781      3495  1988-03-09  36.011293  -82.048315         0   \n",
       "1  48.8878 -118.2105       149  1978-06-21  49.159047 -118.186462         0   \n",
       "2  42.1808 -112.2620      4154  1962-01-19  43.150704 -112.154481         0   \n",
       "3  46.2306 -112.1138      1939  1967-01-12  47.034331 -112.561071         0   \n",
       "4  38.4207  -79.4629        99  1986-03-28  38.674999  -78.632459         0   \n",
       "\n",
       "   amt_z_score  \n",
       "0    -0.662108  \n",
       "1     0.321302  \n",
       "2     1.287064  \n",
       "3    -0.125287  \n",
       "4    -0.565941  "
      ]
     },
     "execution_count": 15,
     "metadata": {},
     "output_type": "execute_result"
    }
   ],
   "source": [
    "data.head()"
   ]
  },
  {
   "cell_type": "code",
   "execution_count": 16,
   "id": "cca914ae",
   "metadata": {},
   "outputs": [],
   "source": [
    "# cc_num과 category 기준으로 amt의 평균, 표준편차 계산\n",
    "category_info = data.groupby(['cc_num','category']).agg(['mean','std'])['amt'].reset_index()"
   ]
  },
  {
   "cell_type": "code",
   "execution_count": 17,
   "id": "f112ecf7",
   "metadata": {},
   "outputs": [],
   "source": [
    "data = data.merge(category_info, on=['cc_num', 'category'], how='left')"
   ]
  },
  {
   "cell_type": "code",
   "execution_count": 18,
   "id": "e777fae0",
   "metadata": {},
   "outputs": [],
   "source": [
    "data['cat_z_score'] = (data['amt'] - data['mean']) / data['std']\n",
    "data.drop(['mean','std'], axis=1, inplace=True)"
   ]
  },
  {
   "cell_type": "code",
   "execution_count": 19,
   "id": "7b80a934",
   "metadata": {},
   "outputs": [
    {
     "data": {
      "text/html": [
       "<div>\n",
       "<style scoped>\n",
       "    .dataframe tbody tr th:only-of-type {\n",
       "        vertical-align: middle;\n",
       "    }\n",
       "\n",
       "    .dataframe tbody tr th {\n",
       "        vertical-align: top;\n",
       "    }\n",
       "\n",
       "    .dataframe thead th {\n",
       "        text-align: right;\n",
       "    }\n",
       "</style>\n",
       "<table border=\"1\" class=\"dataframe\">\n",
       "  <thead>\n",
       "    <tr style=\"text-align: right;\">\n",
       "      <th></th>\n",
       "      <th>trans_date_trans_time</th>\n",
       "      <th>cc_num</th>\n",
       "      <th>category</th>\n",
       "      <th>amt</th>\n",
       "      <th>gender</th>\n",
       "      <th>lat</th>\n",
       "      <th>long</th>\n",
       "      <th>city_pop</th>\n",
       "      <th>dob</th>\n",
       "      <th>merch_lat</th>\n",
       "      <th>merch_long</th>\n",
       "      <th>is_fraud</th>\n",
       "      <th>amt_z_score</th>\n",
       "      <th>cat_z_score</th>\n",
       "    </tr>\n",
       "  </thead>\n",
       "  <tbody>\n",
       "    <tr>\n",
       "      <th>0</th>\n",
       "      <td>2019-01-01 00:00:18</td>\n",
       "      <td>2703186189652095</td>\n",
       "      <td>misc_net</td>\n",
       "      <td>4.97</td>\n",
       "      <td>F</td>\n",
       "      <td>36.0788</td>\n",
       "      <td>-81.1781</td>\n",
       "      <td>3495</td>\n",
       "      <td>1988-03-09</td>\n",
       "      <td>36.011293</td>\n",
       "      <td>-82.048315</td>\n",
       "      <td>0</td>\n",
       "      <td>-0.662108</td>\n",
       "      <td>-0.688297</td>\n",
       "    </tr>\n",
       "    <tr>\n",
       "      <th>1</th>\n",
       "      <td>2019-01-01 00:00:44</td>\n",
       "      <td>630423337322</td>\n",
       "      <td>grocery_pos</td>\n",
       "      <td>107.23</td>\n",
       "      <td>F</td>\n",
       "      <td>48.8878</td>\n",
       "      <td>-118.2105</td>\n",
       "      <td>149</td>\n",
       "      <td>1978-06-21</td>\n",
       "      <td>49.159047</td>\n",
       "      <td>-118.186462</td>\n",
       "      <td>0</td>\n",
       "      <td>0.321302</td>\n",
       "      <td>0.317631</td>\n",
       "    </tr>\n",
       "    <tr>\n",
       "      <th>2</th>\n",
       "      <td>2019-01-01 00:00:51</td>\n",
       "      <td>38859492057661</td>\n",
       "      <td>entertainment</td>\n",
       "      <td>220.11</td>\n",
       "      <td>M</td>\n",
       "      <td>42.1808</td>\n",
       "      <td>-112.2620</td>\n",
       "      <td>4154</td>\n",
       "      <td>1962-01-19</td>\n",
       "      <td>43.150704</td>\n",
       "      <td>-112.154481</td>\n",
       "      <td>0</td>\n",
       "      <td>1.287064</td>\n",
       "      <td>2.872509</td>\n",
       "    </tr>\n",
       "    <tr>\n",
       "      <th>3</th>\n",
       "      <td>2019-01-01 00:01:16</td>\n",
       "      <td>3534093764340240</td>\n",
       "      <td>gas_transport</td>\n",
       "      <td>45.00</td>\n",
       "      <td>M</td>\n",
       "      <td>46.2306</td>\n",
       "      <td>-112.1138</td>\n",
       "      <td>1939</td>\n",
       "      <td>1967-01-12</td>\n",
       "      <td>47.034331</td>\n",
       "      <td>-112.561071</td>\n",
       "      <td>0</td>\n",
       "      <td>-0.125287</td>\n",
       "      <td>-1.050197</td>\n",
       "    </tr>\n",
       "    <tr>\n",
       "      <th>4</th>\n",
       "      <td>2019-01-01 00:03:06</td>\n",
       "      <td>375534208663984</td>\n",
       "      <td>misc_pos</td>\n",
       "      <td>41.96</td>\n",
       "      <td>M</td>\n",
       "      <td>38.4207</td>\n",
       "      <td>-79.4629</td>\n",
       "      <td>99</td>\n",
       "      <td>1986-03-28</td>\n",
       "      <td>38.674999</td>\n",
       "      <td>-78.632459</td>\n",
       "      <td>0</td>\n",
       "      <td>-0.565941</td>\n",
       "      <td>1.312866</td>\n",
       "    </tr>\n",
       "  </tbody>\n",
       "</table>\n",
       "</div>"
      ],
      "text/plain": [
       "  trans_date_trans_time            cc_num       category     amt gender  \\\n",
       "0   2019-01-01 00:00:18  2703186189652095       misc_net    4.97      F   \n",
       "1   2019-01-01 00:00:44      630423337322    grocery_pos  107.23      F   \n",
       "2   2019-01-01 00:00:51    38859492057661  entertainment  220.11      M   \n",
       "3   2019-01-01 00:01:16  3534093764340240  gas_transport   45.00      M   \n",
       "4   2019-01-01 00:03:06   375534208663984       misc_pos   41.96      M   \n",
       "\n",
       "       lat      long  city_pop         dob  merch_lat  merch_long  is_fraud  \\\n",
       "0  36.0788  -81.1781      3495  1988-03-09  36.011293  -82.048315         0   \n",
       "1  48.8878 -118.2105       149  1978-06-21  49.159047 -118.186462         0   \n",
       "2  42.1808 -112.2620      4154  1962-01-19  43.150704 -112.154481         0   \n",
       "3  46.2306 -112.1138      1939  1967-01-12  47.034331 -112.561071         0   \n",
       "4  38.4207  -79.4629        99  1986-03-28  38.674999  -78.632459         0   \n",
       "\n",
       "   amt_z_score  cat_z_score  \n",
       "0    -0.662108    -0.688297  \n",
       "1     0.321302     0.317631  \n",
       "2     1.287064     2.872509  \n",
       "3    -0.125287    -1.050197  \n",
       "4    -0.565941     1.312866  "
      ]
     },
     "execution_count": 19,
     "metadata": {},
     "output_type": "execute_result"
    }
   ],
   "source": [
    "data.head()"
   ]
  },
  {
   "cell_type": "code",
   "execution_count": 21,
   "id": "f8d4607a",
   "metadata": {},
   "outputs": [
    {
     "name": "stdout",
     "output_type": "stream",
     "text": [
      "Collecting geopy\n",
      "  Downloading geopy-2.3.0-py3-none-any.whl (119 kB)\n",
      "Collecting geographiclib<3,>=1.52\n",
      "  Downloading geographiclib-2.0-py3-none-any.whl (40 kB)\n",
      "Installing collected packages: geographiclib, geopy\n",
      "Successfully installed geographiclib-2.0 geopy-2.3.0\n"
     ]
    }
   ],
   "source": [
    "# 거리 계산을 위한 라이브러리 설치\n",
    "# !pip install geopy\n",
    "# geopy.distance.distance((위도1, 경도1), (위도2, 경도2))"
   ]
  },
  {
   "cell_type": "code",
   "execution_count": 22,
   "id": "6262fb7e",
   "metadata": {},
   "outputs": [],
   "source": [
    "import geopy.distance"
   ]
  },
  {
   "cell_type": "code",
   "execution_count": 23,
   "id": "d1f9dc5d",
   "metadata": {},
   "outputs": [],
   "source": [
    "data['merch_coord'] = pd.Series(zip(data['merch_lat'], data['merch_long'])) # 위도, 경도 한 변수로 합치기(상점에 대한 위치)\n",
    "data['cust_coord'] = pd.Series(zip(data['lat'], data['long'])) # 위도, 경도 한 변수로 합치기(고객 주소에 대한 위치)"
   ]
  },
  {
   "cell_type": "code",
   "execution_count": 24,
   "id": "a94bc6d9",
   "metadata": {},
   "outputs": [
    {
     "name": "stdout",
     "output_type": "stream",
     "text": [
      "583.0372519493103\n"
     ]
    }
   ],
   "source": [
    "import time\n",
    "start_time = time.time()\n",
    "data['distance'] = data.apply(lambda x: geopy.distance.distance(x['merch_coord'], x['cust_coord']).km, axis=1) # 거리 계산\n",
    "end_time = time.time()\n",
    "print(end_time-start_time)"
   ]
  },
  {
   "cell_type": "code",
   "execution_count": 25,
   "id": "a96a59d4",
   "metadata": {},
   "outputs": [],
   "source": [
    "distance_info = data.groupby('cc_num').agg(['mean','std'])['distance'].reset_index()\n",
    "data = data.merge(distance_info, on ='cc_num', how='left')\n",
    "data['distance_z_score'] = (data['distance'] - data['mean']) / data['std']\n",
    "data.drop(['mean','std'], axis=1, inplace=True)"
   ]
  },
  {
   "cell_type": "code",
   "execution_count": 26,
   "id": "b6136ece",
   "metadata": {},
   "outputs": [
    {
     "data": {
      "text/html": [
       "<div>\n",
       "<style scoped>\n",
       "    .dataframe tbody tr th:only-of-type {\n",
       "        vertical-align: middle;\n",
       "    }\n",
       "\n",
       "    .dataframe tbody tr th {\n",
       "        vertical-align: top;\n",
       "    }\n",
       "\n",
       "    .dataframe thead th {\n",
       "        text-align: right;\n",
       "    }\n",
       "</style>\n",
       "<table border=\"1\" class=\"dataframe\">\n",
       "  <thead>\n",
       "    <tr style=\"text-align: right;\">\n",
       "      <th></th>\n",
       "      <th>trans_date_trans_time</th>\n",
       "      <th>cc_num</th>\n",
       "      <th>category</th>\n",
       "      <th>amt</th>\n",
       "      <th>gender</th>\n",
       "      <th>lat</th>\n",
       "      <th>long</th>\n",
       "      <th>city_pop</th>\n",
       "      <th>dob</th>\n",
       "      <th>merch_lat</th>\n",
       "      <th>merch_long</th>\n",
       "      <th>is_fraud</th>\n",
       "      <th>amt_z_score</th>\n",
       "      <th>cat_z_score</th>\n",
       "      <th>merch_coord</th>\n",
       "      <th>cust_coord</th>\n",
       "      <th>distance</th>\n",
       "      <th>distance_z_score</th>\n",
       "    </tr>\n",
       "  </thead>\n",
       "  <tbody>\n",
       "    <tr>\n",
       "      <th>0</th>\n",
       "      <td>2019-01-01 00:00:18</td>\n",
       "      <td>2703186189652095</td>\n",
       "      <td>misc_net</td>\n",
       "      <td>4.97</td>\n",
       "      <td>F</td>\n",
       "      <td>36.0788</td>\n",
       "      <td>-81.1781</td>\n",
       "      <td>3495</td>\n",
       "      <td>1988-03-09</td>\n",
       "      <td>36.011293</td>\n",
       "      <td>-82.048315</td>\n",
       "      <td>0</td>\n",
       "      <td>-0.662108</td>\n",
       "      <td>-0.688297</td>\n",
       "      <td>(36.011293, -82.048315)</td>\n",
       "      <td>(36.0788, -81.1781)</td>\n",
       "      <td>78.773821</td>\n",
       "      <td>0.030974</td>\n",
       "    </tr>\n",
       "    <tr>\n",
       "      <th>1</th>\n",
       "      <td>2019-01-01 00:00:44</td>\n",
       "      <td>630423337322</td>\n",
       "      <td>grocery_pos</td>\n",
       "      <td>107.23</td>\n",
       "      <td>F</td>\n",
       "      <td>48.8878</td>\n",
       "      <td>-118.2105</td>\n",
       "      <td>149</td>\n",
       "      <td>1978-06-21</td>\n",
       "      <td>49.159047</td>\n",
       "      <td>-118.186462</td>\n",
       "      <td>0</td>\n",
       "      <td>0.321302</td>\n",
       "      <td>0.317631</td>\n",
       "      <td>(49.159047, -118.186462)</td>\n",
       "      <td>(48.8878, -118.2105)</td>\n",
       "      <td>30.216618</td>\n",
       "      <td>-1.475224</td>\n",
       "    </tr>\n",
       "    <tr>\n",
       "      <th>2</th>\n",
       "      <td>2019-01-01 00:00:51</td>\n",
       "      <td>38859492057661</td>\n",
       "      <td>entertainment</td>\n",
       "      <td>220.11</td>\n",
       "      <td>M</td>\n",
       "      <td>42.1808</td>\n",
       "      <td>-112.2620</td>\n",
       "      <td>4154</td>\n",
       "      <td>1962-01-19</td>\n",
       "      <td>43.150704</td>\n",
       "      <td>-112.154481</td>\n",
       "      <td>0</td>\n",
       "      <td>1.287064</td>\n",
       "      <td>2.872509</td>\n",
       "      <td>(43.150704, -112.154481)</td>\n",
       "      <td>(42.1808, -112.262)</td>\n",
       "      <td>108.102912</td>\n",
       "      <td>1.160572</td>\n",
       "    </tr>\n",
       "    <tr>\n",
       "      <th>3</th>\n",
       "      <td>2019-01-01 00:01:16</td>\n",
       "      <td>3534093764340240</td>\n",
       "      <td>gas_transport</td>\n",
       "      <td>45.00</td>\n",
       "      <td>M</td>\n",
       "      <td>46.2306</td>\n",
       "      <td>-112.1138</td>\n",
       "      <td>1939</td>\n",
       "      <td>1967-01-12</td>\n",
       "      <td>47.034331</td>\n",
       "      <td>-112.561071</td>\n",
       "      <td>0</td>\n",
       "      <td>-0.125287</td>\n",
       "      <td>-1.050197</td>\n",
       "      <td>(47.034331, -112.561071)</td>\n",
       "      <td>(46.2306, -112.1138)</td>\n",
       "      <td>95.685115</td>\n",
       "      <td>0.818063</td>\n",
       "    </tr>\n",
       "    <tr>\n",
       "      <th>4</th>\n",
       "      <td>2019-01-01 00:03:06</td>\n",
       "      <td>375534208663984</td>\n",
       "      <td>misc_pos</td>\n",
       "      <td>41.96</td>\n",
       "      <td>M</td>\n",
       "      <td>38.4207</td>\n",
       "      <td>-79.4629</td>\n",
       "      <td>99</td>\n",
       "      <td>1986-03-28</td>\n",
       "      <td>38.674999</td>\n",
       "      <td>-78.632459</td>\n",
       "      <td>0</td>\n",
       "      <td>-0.565941</td>\n",
       "      <td>1.312866</td>\n",
       "      <td>(38.674999, -78.632459)</td>\n",
       "      <td>(38.4207, -79.4629)</td>\n",
       "      <td>77.702395</td>\n",
       "      <td>0.064037</td>\n",
       "    </tr>\n",
       "  </tbody>\n",
       "</table>\n",
       "</div>"
      ],
      "text/plain": [
       "  trans_date_trans_time            cc_num       category     amt gender  \\\n",
       "0   2019-01-01 00:00:18  2703186189652095       misc_net    4.97      F   \n",
       "1   2019-01-01 00:00:44      630423337322    grocery_pos  107.23      F   \n",
       "2   2019-01-01 00:00:51    38859492057661  entertainment  220.11      M   \n",
       "3   2019-01-01 00:01:16  3534093764340240  gas_transport   45.00      M   \n",
       "4   2019-01-01 00:03:06   375534208663984       misc_pos   41.96      M   \n",
       "\n",
       "       lat      long  city_pop         dob  merch_lat  merch_long  is_fraud  \\\n",
       "0  36.0788  -81.1781      3495  1988-03-09  36.011293  -82.048315         0   \n",
       "1  48.8878 -118.2105       149  1978-06-21  49.159047 -118.186462         0   \n",
       "2  42.1808 -112.2620      4154  1962-01-19  43.150704 -112.154481         0   \n",
       "3  46.2306 -112.1138      1939  1967-01-12  47.034331 -112.561071         0   \n",
       "4  38.4207  -79.4629        99  1986-03-28  38.674999  -78.632459         0   \n",
       "\n",
       "   amt_z_score  cat_z_score               merch_coord            cust_coord  \\\n",
       "0    -0.662108    -0.688297   (36.011293, -82.048315)   (36.0788, -81.1781)   \n",
       "1     0.321302     0.317631  (49.159047, -118.186462)  (48.8878, -118.2105)   \n",
       "2     1.287064     2.872509  (43.150704, -112.154481)   (42.1808, -112.262)   \n",
       "3    -0.125287    -1.050197  (47.034331, -112.561071)  (46.2306, -112.1138)   \n",
       "4    -0.565941     1.312866   (38.674999, -78.632459)   (38.4207, -79.4629)   \n",
       "\n",
       "     distance  distance_z_score  \n",
       "0   78.773821          0.030974  \n",
       "1   30.216618         -1.475224  \n",
       "2  108.102912          1.160572  \n",
       "3   95.685115          0.818063  \n",
       "4   77.702395          0.064037  "
      ]
     },
     "execution_count": 26,
     "metadata": {},
     "output_type": "execute_result"
    }
   ],
   "source": [
    "data.head()"
   ]
  },
  {
   "cell_type": "code",
   "execution_count": 27,
   "id": "7fab1b43",
   "metadata": {},
   "outputs": [],
   "source": [
    "# 생년월일로 나이 구하기\n",
    "data['age'] = 2023 - pd.to_datetime(data['dob']).dt.year"
   ]
  },
  {
   "cell_type": "code",
   "execution_count": 28,
   "id": "e63bd6ac",
   "metadata": {},
   "outputs": [],
   "source": [
    "# 불필요 변수 제거\n",
    "data.drop(['cc_num',\n",
    "           'lat','long', \n",
    "           'merch_lat', \n",
    "           'merch_long',\n",
    "           'dob',\n",
    "           'merch_coord',\n",
    "           'cust_coord'], axis = 1, inplace=True)"
   ]
  },
  {
   "cell_type": "code",
   "execution_count": 29,
   "id": "5ed55ae3",
   "metadata": {},
   "outputs": [
    {
     "data": {
      "text/html": [
       "<div>\n",
       "<style scoped>\n",
       "    .dataframe tbody tr th:only-of-type {\n",
       "        vertical-align: middle;\n",
       "    }\n",
       "\n",
       "    .dataframe tbody tr th {\n",
       "        vertical-align: top;\n",
       "    }\n",
       "\n",
       "    .dataframe thead th {\n",
       "        text-align: right;\n",
       "    }\n",
       "</style>\n",
       "<table border=\"1\" class=\"dataframe\">\n",
       "  <thead>\n",
       "    <tr style=\"text-align: right;\">\n",
       "      <th></th>\n",
       "      <th>trans_date_trans_time</th>\n",
       "      <th>category</th>\n",
       "      <th>amt</th>\n",
       "      <th>gender</th>\n",
       "      <th>city_pop</th>\n",
       "      <th>is_fraud</th>\n",
       "      <th>amt_z_score</th>\n",
       "      <th>cat_z_score</th>\n",
       "      <th>distance</th>\n",
       "      <th>distance_z_score</th>\n",
       "      <th>age</th>\n",
       "    </tr>\n",
       "  </thead>\n",
       "  <tbody>\n",
       "    <tr>\n",
       "      <th>0</th>\n",
       "      <td>2019-01-01 00:00:18</td>\n",
       "      <td>misc_net</td>\n",
       "      <td>4.97</td>\n",
       "      <td>F</td>\n",
       "      <td>3495</td>\n",
       "      <td>0</td>\n",
       "      <td>-0.662108</td>\n",
       "      <td>-0.688297</td>\n",
       "      <td>78.773821</td>\n",
       "      <td>0.030974</td>\n",
       "      <td>35</td>\n",
       "    </tr>\n",
       "    <tr>\n",
       "      <th>1</th>\n",
       "      <td>2019-01-01 00:00:44</td>\n",
       "      <td>grocery_pos</td>\n",
       "      <td>107.23</td>\n",
       "      <td>F</td>\n",
       "      <td>149</td>\n",
       "      <td>0</td>\n",
       "      <td>0.321302</td>\n",
       "      <td>0.317631</td>\n",
       "      <td>30.216618</td>\n",
       "      <td>-1.475224</td>\n",
       "      <td>45</td>\n",
       "    </tr>\n",
       "    <tr>\n",
       "      <th>2</th>\n",
       "      <td>2019-01-01 00:00:51</td>\n",
       "      <td>entertainment</td>\n",
       "      <td>220.11</td>\n",
       "      <td>M</td>\n",
       "      <td>4154</td>\n",
       "      <td>0</td>\n",
       "      <td>1.287064</td>\n",
       "      <td>2.872509</td>\n",
       "      <td>108.102912</td>\n",
       "      <td>1.160572</td>\n",
       "      <td>61</td>\n",
       "    </tr>\n",
       "    <tr>\n",
       "      <th>3</th>\n",
       "      <td>2019-01-01 00:01:16</td>\n",
       "      <td>gas_transport</td>\n",
       "      <td>45.00</td>\n",
       "      <td>M</td>\n",
       "      <td>1939</td>\n",
       "      <td>0</td>\n",
       "      <td>-0.125287</td>\n",
       "      <td>-1.050197</td>\n",
       "      <td>95.685115</td>\n",
       "      <td>0.818063</td>\n",
       "      <td>56</td>\n",
       "    </tr>\n",
       "    <tr>\n",
       "      <th>4</th>\n",
       "      <td>2019-01-01 00:03:06</td>\n",
       "      <td>misc_pos</td>\n",
       "      <td>41.96</td>\n",
       "      <td>M</td>\n",
       "      <td>99</td>\n",
       "      <td>0</td>\n",
       "      <td>-0.565941</td>\n",
       "      <td>1.312866</td>\n",
       "      <td>77.702395</td>\n",
       "      <td>0.064037</td>\n",
       "      <td>37</td>\n",
       "    </tr>\n",
       "  </tbody>\n",
       "</table>\n",
       "</div>"
      ],
      "text/plain": [
       "  trans_date_trans_time       category     amt gender  city_pop  is_fraud  \\\n",
       "0   2019-01-01 00:00:18       misc_net    4.97      F      3495         0   \n",
       "1   2019-01-01 00:00:44    grocery_pos  107.23      F       149         0   \n",
       "2   2019-01-01 00:00:51  entertainment  220.11      M      4154         0   \n",
       "3   2019-01-01 00:01:16  gas_transport   45.00      M      1939         0   \n",
       "4   2019-01-01 00:03:06       misc_pos   41.96      M        99         0   \n",
       "\n",
       "   amt_z_score  cat_z_score    distance  distance_z_score  age  \n",
       "0    -0.662108    -0.688297   78.773821          0.030974   35  \n",
       "1     0.321302     0.317631   30.216618         -1.475224   45  \n",
       "2     1.287064     2.872509  108.102912          1.160572   61  \n",
       "3    -0.125287    -1.050197   95.685115          0.818063   56  \n",
       "4    -0.565941     1.312866   77.702395          0.064037   37  "
      ]
     },
     "execution_count": 29,
     "metadata": {},
     "output_type": "execute_result"
    }
   ],
   "source": [
    "data.head()"
   ]
  },
  {
   "cell_type": "code",
   "execution_count": 30,
   "id": "4bde5dec",
   "metadata": {},
   "outputs": [],
   "source": [
    "data = pd.get_dummies(data, columns = ['category','gender'], drop_first = True)"
   ]
  },
  {
   "cell_type": "code",
   "execution_count": 31,
   "id": "d716a63e",
   "metadata": {},
   "outputs": [
    {
     "data": {
      "text/html": [
       "<div>\n",
       "<style scoped>\n",
       "    .dataframe tbody tr th:only-of-type {\n",
       "        vertical-align: middle;\n",
       "    }\n",
       "\n",
       "    .dataframe tbody tr th {\n",
       "        vertical-align: top;\n",
       "    }\n",
       "\n",
       "    .dataframe thead th {\n",
       "        text-align: right;\n",
       "    }\n",
       "</style>\n",
       "<table border=\"1\" class=\"dataframe\">\n",
       "  <thead>\n",
       "    <tr style=\"text-align: right;\">\n",
       "      <th></th>\n",
       "      <th>amt</th>\n",
       "      <th>city_pop</th>\n",
       "      <th>is_fraud</th>\n",
       "      <th>amt_z_score</th>\n",
       "      <th>cat_z_score</th>\n",
       "      <th>distance</th>\n",
       "      <th>distance_z_score</th>\n",
       "      <th>age</th>\n",
       "      <th>category_food_dining</th>\n",
       "      <th>category_gas_transport</th>\n",
       "      <th>...</th>\n",
       "      <th>category_health_fitness</th>\n",
       "      <th>category_home</th>\n",
       "      <th>category_kids_pets</th>\n",
       "      <th>category_misc_net</th>\n",
       "      <th>category_misc_pos</th>\n",
       "      <th>category_personal_care</th>\n",
       "      <th>category_shopping_net</th>\n",
       "      <th>category_shopping_pos</th>\n",
       "      <th>category_travel</th>\n",
       "      <th>gender_M</th>\n",
       "    </tr>\n",
       "    <tr>\n",
       "      <th>trans_date_trans_time</th>\n",
       "      <th></th>\n",
       "      <th></th>\n",
       "      <th></th>\n",
       "      <th></th>\n",
       "      <th></th>\n",
       "      <th></th>\n",
       "      <th></th>\n",
       "      <th></th>\n",
       "      <th></th>\n",
       "      <th></th>\n",
       "      <th></th>\n",
       "      <th></th>\n",
       "      <th></th>\n",
       "      <th></th>\n",
       "      <th></th>\n",
       "      <th></th>\n",
       "      <th></th>\n",
       "      <th></th>\n",
       "      <th></th>\n",
       "      <th></th>\n",
       "      <th></th>\n",
       "    </tr>\n",
       "  </thead>\n",
       "  <tbody>\n",
       "    <tr>\n",
       "      <th>2019-01-01 00:00:18</th>\n",
       "      <td>4.97</td>\n",
       "      <td>3495</td>\n",
       "      <td>0</td>\n",
       "      <td>-0.662108</td>\n",
       "      <td>-0.688297</td>\n",
       "      <td>78.773821</td>\n",
       "      <td>0.030974</td>\n",
       "      <td>35</td>\n",
       "      <td>0</td>\n",
       "      <td>0</td>\n",
       "      <td>...</td>\n",
       "      <td>0</td>\n",
       "      <td>0</td>\n",
       "      <td>0</td>\n",
       "      <td>1</td>\n",
       "      <td>0</td>\n",
       "      <td>0</td>\n",
       "      <td>0</td>\n",
       "      <td>0</td>\n",
       "      <td>0</td>\n",
       "      <td>0</td>\n",
       "    </tr>\n",
       "    <tr>\n",
       "      <th>2019-01-01 00:00:44</th>\n",
       "      <td>107.23</td>\n",
       "      <td>149</td>\n",
       "      <td>0</td>\n",
       "      <td>0.321302</td>\n",
       "      <td>0.317631</td>\n",
       "      <td>30.216618</td>\n",
       "      <td>-1.475224</td>\n",
       "      <td>45</td>\n",
       "      <td>0</td>\n",
       "      <td>0</td>\n",
       "      <td>...</td>\n",
       "      <td>0</td>\n",
       "      <td>0</td>\n",
       "      <td>0</td>\n",
       "      <td>0</td>\n",
       "      <td>0</td>\n",
       "      <td>0</td>\n",
       "      <td>0</td>\n",
       "      <td>0</td>\n",
       "      <td>0</td>\n",
       "      <td>0</td>\n",
       "    </tr>\n",
       "    <tr>\n",
       "      <th>2019-01-01 00:00:51</th>\n",
       "      <td>220.11</td>\n",
       "      <td>4154</td>\n",
       "      <td>0</td>\n",
       "      <td>1.287064</td>\n",
       "      <td>2.872509</td>\n",
       "      <td>108.102912</td>\n",
       "      <td>1.160572</td>\n",
       "      <td>61</td>\n",
       "      <td>0</td>\n",
       "      <td>0</td>\n",
       "      <td>...</td>\n",
       "      <td>0</td>\n",
       "      <td>0</td>\n",
       "      <td>0</td>\n",
       "      <td>0</td>\n",
       "      <td>0</td>\n",
       "      <td>0</td>\n",
       "      <td>0</td>\n",
       "      <td>0</td>\n",
       "      <td>0</td>\n",
       "      <td>1</td>\n",
       "    </tr>\n",
       "    <tr>\n",
       "      <th>2019-01-01 00:01:16</th>\n",
       "      <td>45.00</td>\n",
       "      <td>1939</td>\n",
       "      <td>0</td>\n",
       "      <td>-0.125287</td>\n",
       "      <td>-1.050197</td>\n",
       "      <td>95.685115</td>\n",
       "      <td>0.818063</td>\n",
       "      <td>56</td>\n",
       "      <td>0</td>\n",
       "      <td>1</td>\n",
       "      <td>...</td>\n",
       "      <td>0</td>\n",
       "      <td>0</td>\n",
       "      <td>0</td>\n",
       "      <td>0</td>\n",
       "      <td>0</td>\n",
       "      <td>0</td>\n",
       "      <td>0</td>\n",
       "      <td>0</td>\n",
       "      <td>0</td>\n",
       "      <td>1</td>\n",
       "    </tr>\n",
       "    <tr>\n",
       "      <th>2019-01-01 00:03:06</th>\n",
       "      <td>41.96</td>\n",
       "      <td>99</td>\n",
       "      <td>0</td>\n",
       "      <td>-0.565941</td>\n",
       "      <td>1.312866</td>\n",
       "      <td>77.702395</td>\n",
       "      <td>0.064037</td>\n",
       "      <td>37</td>\n",
       "      <td>0</td>\n",
       "      <td>0</td>\n",
       "      <td>...</td>\n",
       "      <td>0</td>\n",
       "      <td>0</td>\n",
       "      <td>0</td>\n",
       "      <td>0</td>\n",
       "      <td>1</td>\n",
       "      <td>0</td>\n",
       "      <td>0</td>\n",
       "      <td>0</td>\n",
       "      <td>0</td>\n",
       "      <td>1</td>\n",
       "    </tr>\n",
       "  </tbody>\n",
       "</table>\n",
       "<p>5 rows × 22 columns</p>\n",
       "</div>"
      ],
      "text/plain": [
       "                          amt  city_pop  is_fraud  amt_z_score  cat_z_score  \\\n",
       "trans_date_trans_time                                                         \n",
       "2019-01-01 00:00:18      4.97      3495         0    -0.662108    -0.688297   \n",
       "2019-01-01 00:00:44    107.23       149         0     0.321302     0.317631   \n",
       "2019-01-01 00:00:51    220.11      4154         0     1.287064     2.872509   \n",
       "2019-01-01 00:01:16     45.00      1939         0    -0.125287    -1.050197   \n",
       "2019-01-01 00:03:06     41.96        99         0    -0.565941     1.312866   \n",
       "\n",
       "                         distance  distance_z_score  age  \\\n",
       "trans_date_trans_time                                      \n",
       "2019-01-01 00:00:18     78.773821          0.030974   35   \n",
       "2019-01-01 00:00:44     30.216618         -1.475224   45   \n",
       "2019-01-01 00:00:51    108.102912          1.160572   61   \n",
       "2019-01-01 00:01:16     95.685115          0.818063   56   \n",
       "2019-01-01 00:03:06     77.702395          0.064037   37   \n",
       "\n",
       "                       category_food_dining  category_gas_transport  ...  \\\n",
       "trans_date_trans_time                                                ...   \n",
       "2019-01-01 00:00:18                       0                       0  ...   \n",
       "2019-01-01 00:00:44                       0                       0  ...   \n",
       "2019-01-01 00:00:51                       0                       0  ...   \n",
       "2019-01-01 00:01:16                       0                       1  ...   \n",
       "2019-01-01 00:03:06                       0                       0  ...   \n",
       "\n",
       "                       category_health_fitness  category_home  \\\n",
       "trans_date_trans_time                                           \n",
       "2019-01-01 00:00:18                          0              0   \n",
       "2019-01-01 00:00:44                          0              0   \n",
       "2019-01-01 00:00:51                          0              0   \n",
       "2019-01-01 00:01:16                          0              0   \n",
       "2019-01-01 00:03:06                          0              0   \n",
       "\n",
       "                       category_kids_pets  category_misc_net  \\\n",
       "trans_date_trans_time                                          \n",
       "2019-01-01 00:00:18                     0                  1   \n",
       "2019-01-01 00:00:44                     0                  0   \n",
       "2019-01-01 00:00:51                     0                  0   \n",
       "2019-01-01 00:01:16                     0                  0   \n",
       "2019-01-01 00:03:06                     0                  0   \n",
       "\n",
       "                       category_misc_pos  category_personal_care  \\\n",
       "trans_date_trans_time                                              \n",
       "2019-01-01 00:00:18                    0                       0   \n",
       "2019-01-01 00:00:44                    0                       0   \n",
       "2019-01-01 00:00:51                    0                       0   \n",
       "2019-01-01 00:01:16                    0                       0   \n",
       "2019-01-01 00:03:06                    1                       0   \n",
       "\n",
       "                       category_shopping_net  category_shopping_pos  \\\n",
       "trans_date_trans_time                                                 \n",
       "2019-01-01 00:00:18                        0                      0   \n",
       "2019-01-01 00:00:44                        0                      0   \n",
       "2019-01-01 00:00:51                        0                      0   \n",
       "2019-01-01 00:01:16                        0                      0   \n",
       "2019-01-01 00:03:06                        0                      0   \n",
       "\n",
       "                       category_travel  gender_M  \n",
       "trans_date_trans_time                             \n",
       "2019-01-01 00:00:18                  0         0  \n",
       "2019-01-01 00:00:44                  0         0  \n",
       "2019-01-01 00:00:51                  0         1  \n",
       "2019-01-01 00:01:16                  0         1  \n",
       "2019-01-01 00:03:06                  0         1  \n",
       "\n",
       "[5 rows x 22 columns]"
      ]
     },
     "execution_count": 31,
     "metadata": {},
     "output_type": "execute_result"
    }
   ],
   "source": [
    "data.set_index('trans_date_trans_time', inplace=True)\n",
    "data.head()"
   ]
  },
  {
   "cell_type": "markdown",
   "id": "1b72bedb",
   "metadata": {},
   "source": [
    "## 모델링 및 평가"
   ]
  },
  {
   "cell_type": "code",
   "execution_count": 32,
   "id": "7eba1273",
   "metadata": {},
   "outputs": [],
   "source": [
    "# 앞으로 일어날 이상 거래 예측이므로 날짜 기준으로 훈련셋과 평가셋 분리\n",
    "train = data[data.index < '2020-07-01']\n",
    "test = data[data.index >= '2020-07-01']"
   ]
  },
  {
   "cell_type": "code",
   "execution_count": 34,
   "id": "4efe06b1",
   "metadata": {},
   "outputs": [
    {
     "name": "stdout",
     "output_type": "stream",
     "text": [
      "훈련셋 비율 : 0.7162261376359457\n",
      "평가셋 비율 : 0.2837738623640543\n"
     ]
    }
   ],
   "source": [
    "print('훈련셋 비율 :', len(train)/len(data)) # 훈련셋 비율\n",
    "print('평가셋 비율 :', len(test)/len(data)) # 평가셋 비율"
   ]
  },
  {
   "cell_type": "code",
   "execution_count": 35,
   "id": "529c09a8",
   "metadata": {},
   "outputs": [],
   "source": [
    "X_train = train.drop('is_fraud', axis = 1)\n",
    "X_test = test.drop('is_fraud', axis = 1)\n",
    "y_train = train['is_fraud']\n",
    "y_test = test['is_fraud']"
   ]
  },
  {
   "cell_type": "code",
   "execution_count": 36,
   "id": "b36aeea9",
   "metadata": {},
   "outputs": [],
   "source": [
    "import lightgbm as lgb"
   ]
  },
  {
   "cell_type": "code",
   "execution_count": 37,
   "id": "36182215",
   "metadata": {},
   "outputs": [],
   "source": [
    "model_1 = lgb.LGBMClassifier(random_state = 100)\n",
    "model_1.fit(X_train, y_train)\n",
    "pred_1 = model_1.predict(X_test)"
   ]
  },
  {
   "cell_type": "code",
   "execution_count": 38,
   "id": "f50c0772",
   "metadata": {},
   "outputs": [],
   "source": [
    "from sklearn.metrics import accuracy_score, confusion_matrix, classification_report, roc_auc_score"
   ]
  },
  {
   "cell_type": "code",
   "execution_count": 39,
   "id": "303f72d9",
   "metadata": {},
   "outputs": [
    {
     "data": {
      "text/plain": [
       "0.9970760623291437"
      ]
     },
     "execution_count": 39,
     "metadata": {},
     "output_type": "execute_result"
    }
   ],
   "source": [
    "accuracy_score(y_test, pred_1)"
   ]
  },
  {
   "cell_type": "code",
   "execution_count": 40,
   "id": "80fbc5fa",
   "metadata": {},
   "outputs": [
    {
     "name": "stdout",
     "output_type": "stream",
     "text": [
      "[[522933    716]\n",
      " [   821   1191]]\n"
     ]
    }
   ],
   "source": [
    "print(confusion_matrix(y_test, pred_1))"
   ]
  },
  {
   "cell_type": "code",
   "execution_count": 41,
   "id": "bc077dc7",
   "metadata": {},
   "outputs": [
    {
     "name": "stdout",
     "output_type": "stream",
     "text": [
      "              precision    recall  f1-score   support\n",
      "\n",
      "           0       1.00      1.00      1.00    523649\n",
      "           1       0.62      0.59      0.61      2012\n",
      "\n",
      "    accuracy                           1.00    525661\n",
      "   macro avg       0.81      0.80      0.80    525661\n",
      "weighted avg       1.00      1.00      1.00    525661\n",
      "\n"
     ]
    }
   ],
   "source": [
    "print(classification_report(y_test, pred_1))"
   ]
  },
  {
   "cell_type": "code",
   "execution_count": 42,
   "id": "b6203908",
   "metadata": {},
   "outputs": [
    {
     "data": {
      "text/plain": [
       "array([[9.99968780e-01, 3.12200159e-05],\n",
       "       [9.99973950e-01, 2.60503888e-05],\n",
       "       [9.99960796e-01, 3.92036962e-05],\n",
       "       ...,\n",
       "       [9.99964825e-01, 3.51746051e-05],\n",
       "       [9.99844073e-01, 1.55926950e-04],\n",
       "       [9.99945924e-01, 5.40758390e-05]])"
      ]
     },
     "execution_count": 42,
     "metadata": {},
     "output_type": "execute_result"
    }
   ],
   "source": [
    "# 모델이 데이터를 예측한 확률\n",
    "proba_1 = model_1.predict_proba(X_test)\n",
    "proba_1"
   ]
  },
  {
   "cell_type": "code",
   "execution_count": 43,
   "id": "7f772f99",
   "metadata": {},
   "outputs": [
    {
     "data": {
      "text/plain": [
       "array([3.12200159e-05, 2.60503888e-05, 3.92036962e-05, ...,\n",
       "       3.51746051e-05, 1.55926950e-04, 5.40758390e-05])"
      ]
     },
     "execution_count": 43,
     "metadata": {},
     "output_type": "execute_result"
    }
   ],
   "source": [
    "proba_1[:,1] # 1:이상거래 예측만 출력"
   ]
  },
  {
   "cell_type": "code",
   "execution_count": 44,
   "id": "31727e4b",
   "metadata": {},
   "outputs": [],
   "source": [
    "proba_1 = proba_1[:,1]"
   ]
  },
  {
   "cell_type": "code",
   "execution_count": 45,
   "id": "7e42584f",
   "metadata": {},
   "outputs": [],
   "source": [
    "proba_int1 = (proba_1 > 0.2).astype('int')\n",
    "proba_int2 = (proba_1 > 0.8).astype('int')"
   ]
  },
  {
   "cell_type": "code",
   "execution_count": 46,
   "id": "6781966b",
   "metadata": {},
   "outputs": [
    {
     "name": "stdout",
     "output_type": "stream",
     "text": [
      "[[522105   1544]\n",
      " [   598   1414]]\n",
      "              precision    recall  f1-score   support\n",
      "\n",
      "           0       1.00      1.00      1.00    523649\n",
      "           1       0.48      0.70      0.57      2012\n",
      "\n",
      "    accuracy                           1.00    525661\n",
      "   macro avg       0.74      0.85      0.78    525661\n",
      "weighted avg       1.00      1.00      1.00    525661\n",
      "\n"
     ]
    }
   ],
   "source": [
    "# 0.2 기준\n",
    "print(confusion_matrix(y_test, proba_int1))\n",
    "print(classification_report(y_test, proba_int1))"
   ]
  },
  {
   "cell_type": "code",
   "execution_count": 47,
   "id": "2adeb57a",
   "metadata": {},
   "outputs": [
    {
     "name": "stdout",
     "output_type": "stream",
     "text": [
      "[[523183    466]\n",
      " [   958   1054]]\n",
      "              precision    recall  f1-score   support\n",
      "\n",
      "           0       1.00      1.00      1.00    523649\n",
      "           1       0.69      0.52      0.60      2012\n",
      "\n",
      "    accuracy                           1.00    525661\n",
      "   macro avg       0.85      0.76      0.80    525661\n",
      "weighted avg       1.00      1.00      1.00    525661\n",
      "\n"
     ]
    }
   ],
   "source": [
    "# 0.8 기준\n",
    "print(confusion_matrix(y_test, proba_int2))\n",
    "print(classification_report(y_test, proba_int2))"
   ]
  },
  {
   "cell_type": "code",
   "execution_count": 48,
   "id": "5d51be5c",
   "metadata": {},
   "outputs": [
    {
     "data": {
      "text/plain": [
       "0.9366009333487075"
      ]
     },
     "execution_count": 48,
     "metadata": {},
     "output_type": "execute_result"
    }
   ],
   "source": [
    "roc_auc_score(y_test, proba_1) # AUC 값"
   ]
  },
  {
   "cell_type": "markdown",
   "id": "ee2a9999",
   "metadata": {},
   "source": [
    "## 하이퍼파라미터 튜닝 : 랜덤 그리드 서치"
   ]
  },
  {
   "cell_type": "code",
   "execution_count": 49,
   "id": "8f901236",
   "metadata": {},
   "outputs": [],
   "source": [
    "from sklearn.model_selection import RandomizedSearchCV"
   ]
  },
  {
   "cell_type": "code",
   "execution_count": 50,
   "id": "7a725ab3",
   "metadata": {},
   "outputs": [],
   "source": [
    "# 파라미터별 조합 설정\n",
    "params = {\n",
    "          'n_estimators': [100, 500, 1000],\n",
    "          'learning_rate': [0.01, 0.05, 0.1, 0.3],\n",
    "          'lambda_l1': [0,10,20,30,50],\n",
    "          'lambda_l2': [0,10,20,30,50],\n",
    "          'max_depth': [5,10,15,20],          \n",
    "          'subsample': [0.6, 0.8, 1]\n",
    "}"
   ]
  },
  {
   "cell_type": "code",
   "execution_count": 51,
   "id": "63962e29",
   "metadata": {},
   "outputs": [],
   "source": [
    "model_2 = lgb.LGBMClassifier(random_state = 100)\n",
    "rs = RandomizedSearchCV(model_2,\n",
    "                        param_distributions=params,\n",
    "                        n_iter= 30,\n",
    "                        scoring = 'roc_auc', \n",
    "                        random_state=100, \n",
    "                        n_jobs=-1)"
   ]
  },
  {
   "cell_type": "code",
   "execution_count": 52,
   "id": "e744c604",
   "metadata": {},
   "outputs": [
    {
     "name": "stdout",
     "output_type": "stream",
     "text": [
      "[LightGBM] [Warning] lambda_l1 is set=0, reg_alpha=0.0 will be ignored. Current value: lambda_l1=0\n",
      "[LightGBM] [Warning] lambda_l2 is set=20, reg_lambda=0.0 will be ignored. Current value: lambda_l2=20\n",
      "6087.717385292053\n"
     ]
    }
   ],
   "source": [
    "start = time.time()\n",
    "rs.fit(X_train, y_train)\n",
    "print(time.time() - start)"
   ]
  },
  {
   "cell_type": "code",
   "execution_count": 53,
   "id": "e4f4dd58",
   "metadata": {},
   "outputs": [
    {
     "data": {
      "text/plain": [
       "{'subsample': 1,\n",
       " 'n_estimators': 1000,\n",
       " 'max_depth': 15,\n",
       " 'learning_rate': 0.05,\n",
       " 'lambda_l2': 20,\n",
       " 'lambda_l1': 0}"
      ]
     },
     "execution_count": 53,
     "metadata": {},
     "output_type": "execute_result"
    }
   ],
   "source": [
    "# 최적 파라미터 출력\n",
    "rs.best_params_"
   ]
  },
  {
   "cell_type": "code",
   "execution_count": 54,
   "id": "2b47a33b",
   "metadata": {},
   "outputs": [
    {
     "data": {
      "text/plain": [
       "0.9953122884656392"
      ]
     },
     "execution_count": 54,
     "metadata": {},
     "output_type": "execute_result"
    }
   ],
   "source": [
    "rs_proba = rs.predict_proba(X_test)\n",
    "roc_auc_score(y_test, rs_proba[:,1])"
   ]
  },
  {
   "cell_type": "code",
   "execution_count": 55,
   "id": "21b993c5",
   "metadata": {},
   "outputs": [
    {
     "name": "stdout",
     "output_type": "stream",
     "text": [
      "[[522519   1130]\n",
      " [   504   1508]]\n",
      "              precision    recall  f1-score   support\n",
      "\n",
      "           0       1.00      1.00      1.00    523649\n",
      "           1       0.57      0.75      0.65      2012\n",
      "\n",
      "    accuracy                           1.00    525661\n",
      "   macro avg       0.79      0.87      0.82    525661\n",
      "weighted avg       1.00      1.00      1.00    525661\n",
      "\n"
     ]
    }
   ],
   "source": [
    "rs_proba_int = (rs_proba[:,1] > 0.2).astype('int')\n",
    "\n",
    "print(confusion_matrix(y_test, rs_proba_int))\n",
    "print(classification_report(y_test, rs_proba_int))"
   ]
  },
  {
   "cell_type": "markdown",
   "id": "850ae22f",
   "metadata": {},
   "source": [
    "## LightGBM의 train() 함수 사용하기"
   ]
  },
  {
   "cell_type": "code",
   "execution_count": 56,
   "id": "a8c3cd8f",
   "metadata": {},
   "outputs": [],
   "source": [
    "train = data[data.index < '2020-01-01']\n",
    "val = data[(data.index >= '2020-01-01') & (data.index < '2020-07-01')]\n",
    "test = data[data.index >= '2020-07-01']"
   ]
  },
  {
   "cell_type": "code",
   "execution_count": 57,
   "id": "a0ed7133",
   "metadata": {},
   "outputs": [],
   "source": [
    "X_train = train.drop('is_fraud', axis = 1)\n",
    "X_val = val.drop('is_fraud', axis = 1)\n",
    "X_test = test.drop('is_fraud', axis = 1)\n",
    "y_train = train['is_fraud']\n",
    "y_val = val['is_fraud']\n",
    "y_test = test['is_fraud']"
   ]
  },
  {
   "cell_type": "code",
   "execution_count": 58,
   "id": "96b19b9f",
   "metadata": {},
   "outputs": [],
   "source": [
    "d_train = lgb.Dataset(X_train, label=y_train)\n",
    "d_val = lgb.Dataset(X_val, label=y_val)"
   ]
  },
  {
   "cell_type": "code",
   "execution_count": 59,
   "id": "58c67114",
   "metadata": {},
   "outputs": [],
   "source": [
    "params_set = rs.best_params_\n",
    "params_set['metrics'] = 'auc'"
   ]
  },
  {
   "cell_type": "code",
   "execution_count": 60,
   "id": "16ab897d",
   "metadata": {},
   "outputs": [
    {
     "data": {
      "text/plain": [
       "{'subsample': 1,\n",
       " 'n_estimators': 1000,\n",
       " 'max_depth': 15,\n",
       " 'learning_rate': 0.05,\n",
       " 'lambda_l2': 20,\n",
       " 'lambda_l1': 0,\n",
       " 'metrics': 'auc'}"
      ]
     },
     "execution_count": 60,
     "metadata": {},
     "output_type": "execute_result"
    }
   ],
   "source": [
    "params_set"
   ]
  },
  {
   "cell_type": "code",
   "execution_count": 61,
   "id": "8d1b5c70",
   "metadata": {},
   "outputs": [
    {
     "name": "stderr",
     "output_type": "stream",
     "text": [
      "C:\\Users\\sjyt1\\anaconda3\\lib\\site-packages\\lightgbm\\engine.py:148: UserWarning: Found `n_estimators` in params. Will use it instead of argument\n",
      "  _log_warning(\"Found `{}` in params. Will use it instead of argument\".format(alias))\n"
     ]
    },
    {
     "name": "stdout",
     "output_type": "stream",
     "text": [
      "[LightGBM] [Warning] Accuracy may be bad since you didn't explicitly set num_leaves OR 2^max_depth > num_leaves. (num_leaves=31).\n",
      "[LightGBM] [Warning] Accuracy may be bad since you didn't explicitly set num_leaves OR 2^max_depth > num_leaves. (num_leaves=31).\n",
      "[LightGBM] [Warning] Auto-choosing col-wise multi-threading, the overhead of testing was 0.040316 seconds.\n",
      "You can set `force_col_wise=true` to remove the overhead.\n",
      "[LightGBM] [Info] Total Bins 1633\n",
      "[LightGBM] [Info] Number of data points in the train set: 924850, number of used features: 21\n",
      "[LightGBM] [Warning] Accuracy may be bad since you didn't explicitly set num_leaves OR 2^max_depth > num_leaves. (num_leaves=31).\n",
      "[LightGBM] [Info] Start training from score 0.005644\n",
      "Training until validation scores don't improve for 100 rounds\n",
      "[100]\tvalid_0's auc: 0.97237\n",
      "[200]\tvalid_0's auc: 0.988574\n",
      "[300]\tvalid_0's auc: 0.993031\n",
      "[400]\tvalid_0's auc: 0.992582\n",
      "Early stopping, best iteration is:\n",
      "[327]\tvalid_0's auc: 0.993459\n"
     ]
    }
   ],
   "source": [
    "model_3 = lgb.train(params_set, d_train, valid_sets=[d_val], early_stopping_rounds=100,verbose_eval=100)"
   ]
  },
  {
   "cell_type": "code",
   "execution_count": 62,
   "id": "17384612",
   "metadata": {},
   "outputs": [],
   "source": [
    "pred_3 = model_3.predict(X_test)"
   ]
  },
  {
   "cell_type": "code",
   "execution_count": 63,
   "id": "bd2a647c",
   "metadata": {},
   "outputs": [
    {
     "data": {
      "text/plain": [
       "0.991352108964131"
      ]
     },
     "execution_count": 63,
     "metadata": {},
     "output_type": "execute_result"
    }
   ],
   "source": [
    "roc_auc_score(y_test, pred_3)"
   ]
  },
  {
   "cell_type": "code",
   "execution_count": 64,
   "id": "dd36aa06",
   "metadata": {},
   "outputs": [
    {
     "data": {
      "image/png": "[encoded data removed]",
      "text/plain": [
       "<Figure size 1440x720 with 1 Axes>"
      ]
     },
     "metadata": {
      "needs_background": "light"
     },
     "output_type": "display_data"
    }
   ],
   "source": [
    "feature_imp = pd.DataFrame({'feature_name': X_train.columns, 'importance': model_1.feature_importances_}).sort_values('importance', ascending = False)\n",
    "plt.figure(figsize=(20, 10))\n",
    "sns.barplot(x=\"importance\", y=\"feature_name\", data=feature_imp.head(10))\n",
    "plt.show()"
   ]
  },
  {
   "cell_type": "code",
   "execution_count": 65,
   "id": "134f0e53",
   "metadata": {},
   "outputs": [
    {
     "data": {
      "image/png": "[encoded data removed]",
      "text/plain": [
       "<Figure size 1440x720 with 1 Axes>"
      ]
     },
     "metadata": {
      "needs_background": "light"
     },
     "output_type": "display_data"
    }
   ],
   "source": [
    "feature_imp_3 = pd.DataFrame(sorted(zip(model_3.feature_importance(), X_train.columns)), columns=['Value','Feature'])\n",
    "plt.figure(figsize=(20, 10))\n",
    "sns.barplot(x=\"importance\", y=\"feature_name\", data=feature_imp.head(10))\n",
    "plt.show()"
   ]
  },
  {
   "cell_type": "code",
   "execution_count": null,
   "id": "de623cba",
   "metadata": {},
   "outputs": [],
   "source": []
  }
 ],
 "metadata": {
  "kernelspec": {
   "display_name": "Python 3",
   "language": "python",
   "name": "python3"
  },
  "language_info": {
   "codemirror_mode": {
    "name": "ipython",
    "version": 3
   },
   "file_extension": ".py",
   "mimetype": "text/x-python",
   "name": "python",
   "nbconvert_exporter": "python",
   "pygments_lexer": "ipython3",
   "version": "3.8.8"
  }
 },
 "nbformat": 4,
 "nbformat_minor": 5
}
