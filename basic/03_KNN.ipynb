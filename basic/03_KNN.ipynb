{
 "cells": [
  {
   "cell_type": "markdown",
   "source": [
    "# 와인 정보가 들어 있는 데이터셋을 이용해 와인 등급을 예측"
   ],
   "metadata": {
    "collapsed": false,
    "pycharm": {
     "name": "#%% md\n"
    }
   }
  },
  {
   "cell_type": "markdown",
   "source": [
    "## 라이브러리 및 데이터 불러오기"
   ],
   "metadata": {
    "collapsed": false,
    "pycharm": {
     "name": "#%% md\n"
    }
   }
  },
  {
   "cell_type": "code",
   "execution_count": 27,
   "outputs": [],
   "source": [
    "import pandas as pd\n",
    "import numpy as np\n",
    "import matplotlib.pyplot as plt\n",
    "import seaborn as sns\n",
    "from sklearn.preprocessing import StandardScaler, MinMaxScaler, RobustScaler\n",
    "from sklearn.model_selection import train_test_split\n",
    "from sklearn.neighbors import KNeighborsClassifier\n",
    "from sklearn.metrics import accuracy_score"
   ],
   "metadata": {
    "collapsed": false,
    "pycharm": {
     "name": "#%%\n"
    }
   }
  },
  {
   "cell_type": "code",
   "execution_count": 2,
   "outputs": [],
   "source": [
    "file_url = 'https://media.githubusercontent.com/media/musthave-ML10/data_source/main/wine.csv'\n",
    "data = pd.read_csv(file_url)"
   ],
   "metadata": {
    "collapsed": false,
    "pycharm": {
     "name": "#%%\n"
    }
   }
  },
  {
   "cell_type": "markdown",
   "source": [
    "## 데이터 확인하기"
   ],
   "metadata": {
    "collapsed": false,
    "pycharm": {
     "name": "#%% md\n"
    }
   }
  },
  {
   "cell_type": "code",
   "execution_count": 3,
   "outputs": [
    {
     "data": {
      "text/plain": "   alcohol  malic_acid   ash  alcalinity_of_ash  magnesium  total_phenols   \n0    14.23        1.71  2.43               15.6        127           2.80  \\\n1      NaN        1.78  2.14               11.2        100           2.65   \n2    13.16        2.36  2.67               18.6        101           2.80   \n3    14.37        1.95  2.50               16.8        113           3.85   \n4    13.24        2.59  2.87               21.0        118           2.80   \n\n   flavanoids  nonflavanoid_phenols  proanthocyanins  color_intensity   hue   \n0        3.06                  0.28             2.29             5.64  1.04  \\\n1        2.76                  0.26             1.28             4.38  1.05   \n2        3.24                  0.30             2.81             5.68  1.03   \n3        3.49                  0.24             2.18             7.80  0.86   \n4        2.69                  0.39             1.82             4.32  1.04   \n\n   od280/od315_of_diluted_wines  proline  class  \n0                          3.92     1065      0  \n1                          3.40     1050      0  \n2                          3.17     1185      0  \n3                          3.45     1480      0  \n4                          2.93      735      0  ",
      "text/html": "<div>\n<style scoped>\n    .dataframe tbody tr th:only-of-type {\n        vertical-align: middle;\n    }\n\n    .dataframe tbody tr th {\n        vertical-align: top;\n    }\n\n    .dataframe thead th {\n        text-align: right;\n    }\n</style>\n<table border=\"1\" class=\"dataframe\">\n  <thead>\n    <tr style=\"text-align: right;\">\n      <th></th>\n      <th>alcohol</th>\n      <th>malic_acid</th>\n      <th>ash</th>\n      <th>alcalinity_of_ash</th>\n      <th>magnesium</th>\n      <th>total_phenols</th>\n      <th>flavanoids</th>\n      <th>nonflavanoid_phenols</th>\n      <th>proanthocyanins</th>\n      <th>color_intensity</th>\n      <th>hue</th>\n      <th>od280/od315_of_diluted_wines</th>\n      <th>proline</th>\n      <th>class</th>\n    </tr>\n  </thead>\n  <tbody>\n    <tr>\n      <th>0</th>\n      <td>14.23</td>\n      <td>1.71</td>\n      <td>2.43</td>\n      <td>15.6</td>\n      <td>127</td>\n      <td>2.80</td>\n      <td>3.06</td>\n      <td>0.28</td>\n      <td>2.29</td>\n      <td>5.64</td>\n      <td>1.04</td>\n      <td>3.92</td>\n      <td>1065</td>\n      <td>0</td>\n    </tr>\n    <tr>\n      <th>1</th>\n      <td>NaN</td>\n      <td>1.78</td>\n      <td>2.14</td>\n      <td>11.2</td>\n      <td>100</td>\n      <td>2.65</td>\n      <td>2.76</td>\n      <td>0.26</td>\n      <td>1.28</td>\n      <td>4.38</td>\n      <td>1.05</td>\n      <td>3.40</td>\n      <td>1050</td>\n      <td>0</td>\n    </tr>\n    <tr>\n      <th>2</th>\n      <td>13.16</td>\n      <td>2.36</td>\n      <td>2.67</td>\n      <td>18.6</td>\n      <td>101</td>\n      <td>2.80</td>\n      <td>3.24</td>\n      <td>0.30</td>\n      <td>2.81</td>\n      <td>5.68</td>\n      <td>1.03</td>\n      <td>3.17</td>\n      <td>1185</td>\n      <td>0</td>\n    </tr>\n    <tr>\n      <th>3</th>\n      <td>14.37</td>\n      <td>1.95</td>\n      <td>2.50</td>\n      <td>16.8</td>\n      <td>113</td>\n      <td>3.85</td>\n      <td>3.49</td>\n      <td>0.24</td>\n      <td>2.18</td>\n      <td>7.80</td>\n      <td>0.86</td>\n      <td>3.45</td>\n      <td>1480</td>\n      <td>0</td>\n    </tr>\n    <tr>\n      <th>4</th>\n      <td>13.24</td>\n      <td>2.59</td>\n      <td>2.87</td>\n      <td>21.0</td>\n      <td>118</td>\n      <td>2.80</td>\n      <td>2.69</td>\n      <td>0.39</td>\n      <td>1.82</td>\n      <td>4.32</td>\n      <td>1.04</td>\n      <td>2.93</td>\n      <td>735</td>\n      <td>0</td>\n    </tr>\n  </tbody>\n</table>\n</div>"
     },
     "execution_count": 3,
     "metadata": {},
     "output_type": "execute_result"
    }
   ],
   "source": [
    "data.head()"
   ],
   "metadata": {
    "collapsed": false,
    "pycharm": {
     "name": "#%%\n"
    }
   }
  },
  {
   "cell_type": "code",
   "execution_count": 4,
   "outputs": [
    {
     "name": "stdout",
     "output_type": "stream",
     "text": [
      "<class 'pandas.core.frame.DataFrame'>\n",
      "RangeIndex: 178 entries, 0 to 177\n",
      "Data columns (total 14 columns):\n",
      " #   Column                        Non-Null Count  Dtype  \n",
      "---  ------                        --------------  -----  \n",
      " 0   alcohol                       176 non-null    float64\n",
      " 1   malic_acid                    178 non-null    float64\n",
      " 2   ash                           178 non-null    float64\n",
      " 3   alcalinity_of_ash             178 non-null    float64\n",
      " 4   magnesium                     178 non-null    int64  \n",
      " 5   total_phenols                 178 non-null    float64\n",
      " 6   flavanoids                    178 non-null    float64\n",
      " 7   nonflavanoid_phenols          173 non-null    float64\n",
      " 8   proanthocyanins               178 non-null    float64\n",
      " 9   color_intensity               178 non-null    float64\n",
      " 10  hue                           178 non-null    float64\n",
      " 11  od280/od315_of_diluted_wines  178 non-null    float64\n",
      " 12  proline                       178 non-null    int64  \n",
      " 13  class                         178 non-null    int64  \n",
      "dtypes: float64(11), int64(3)\n",
      "memory usage: 19.6 KB\n"
     ]
    }
   ],
   "source": [
    "data.info()"
   ],
   "metadata": {
    "collapsed": false,
    "pycharm": {
     "name": "#%%\n"
    }
   }
  },
  {
   "cell_type": "code",
   "execution_count": 5,
   "outputs": [
    {
     "data": {
      "text/plain": "          alcohol  malic_acid         ash  alcalinity_of_ash   magnesium   \ncount  176.000000  178.000000  178.000000         178.000000  178.000000  \\\nmean    12.989091    2.336348    2.366517          19.494944   99.741573   \nstd      0.804431    1.117146    0.274344           3.339564   14.282484   \nmin     11.030000    0.740000    1.360000          10.600000   70.000000   \n25%     12.355000    1.602500    2.210000          17.200000   88.000000   \n50%     13.050000    1.865000    2.360000          19.500000   98.000000   \n75%     13.672500    3.082500    2.557500          21.500000  107.000000   \nmax     14.750000    5.800000    3.230000          30.000000  162.000000   \n\n       total_phenols  flavanoids  nonflavanoid_phenols  proanthocyanins   \ncount     178.000000  178.000000            173.000000       178.000000  \\\nmean        2.295112    2.029270              0.362370         1.590899   \nstd         0.625851    0.998859              0.126153         0.572359   \nmin         0.980000    0.340000              0.130000         0.410000   \n25%         1.742500    1.205000              0.260000         1.250000   \n50%         2.355000    2.135000              0.340000         1.555000   \n75%         2.800000    2.875000              0.450000         1.950000   \nmax         3.880000    5.080000              0.660000         3.580000   \n\n       color_intensity         hue  od280/od315_of_diluted_wines      proline   \ncount       178.000000  178.000000                    178.000000   178.000000  \\\nmean          5.058090    0.957449                      2.611685   746.893258   \nstd           2.318286    0.228572                      0.709990   314.907474   \nmin           1.280000    0.480000                      1.270000   278.000000   \n25%           3.220000    0.782500                      1.937500   500.500000   \n50%           4.690000    0.965000                      2.780000   673.500000   \n75%           6.200000    1.120000                      3.170000   985.000000   \nmax          13.000000    1.710000                      4.000000  1680.000000   \n\n            class  \ncount  178.000000  \nmean     0.938202  \nstd      0.775035  \nmin      0.000000  \n25%      0.000000  \n50%      1.000000  \n75%      2.000000  \nmax      2.000000  ",
      "text/html": "<div>\n<style scoped>\n    .dataframe tbody tr th:only-of-type {\n        vertical-align: middle;\n    }\n\n    .dataframe tbody tr th {\n        vertical-align: top;\n    }\n\n    .dataframe thead th {\n        text-align: right;\n    }\n</style>\n<table border=\"1\" class=\"dataframe\">\n  <thead>\n    <tr style=\"text-align: right;\">\n      <th></th>\n      <th>alcohol</th>\n      <th>malic_acid</th>\n      <th>ash</th>\n      <th>alcalinity_of_ash</th>\n      <th>magnesium</th>\n      <th>total_phenols</th>\n      <th>flavanoids</th>\n      <th>nonflavanoid_phenols</th>\n      <th>proanthocyanins</th>\n      <th>color_intensity</th>\n      <th>hue</th>\n      <th>od280/od315_of_diluted_wines</th>\n      <th>proline</th>\n      <th>class</th>\n    </tr>\n  </thead>\n  <tbody>\n    <tr>\n      <th>count</th>\n      <td>176.000000</td>\n      <td>178.000000</td>\n      <td>178.000000</td>\n      <td>178.000000</td>\n      <td>178.000000</td>\n      <td>178.000000</td>\n      <td>178.000000</td>\n      <td>173.000000</td>\n      <td>178.000000</td>\n      <td>178.000000</td>\n      <td>178.000000</td>\n      <td>178.000000</td>\n      <td>178.000000</td>\n      <td>178.000000</td>\n    </tr>\n    <tr>\n      <th>mean</th>\n      <td>12.989091</td>\n      <td>2.336348</td>\n      <td>2.366517</td>\n      <td>19.494944</td>\n      <td>99.741573</td>\n      <td>2.295112</td>\n      <td>2.029270</td>\n      <td>0.362370</td>\n      <td>1.590899</td>\n      <td>5.058090</td>\n      <td>0.957449</td>\n      <td>2.611685</td>\n      <td>746.893258</td>\n      <td>0.938202</td>\n    </tr>\n    <tr>\n      <th>std</th>\n      <td>0.804431</td>\n      <td>1.117146</td>\n      <td>0.274344</td>\n      <td>3.339564</td>\n      <td>14.282484</td>\n      <td>0.625851</td>\n      <td>0.998859</td>\n      <td>0.126153</td>\n      <td>0.572359</td>\n      <td>2.318286</td>\n      <td>0.228572</td>\n      <td>0.709990</td>\n      <td>314.907474</td>\n      <td>0.775035</td>\n    </tr>\n    <tr>\n      <th>min</th>\n      <td>11.030000</td>\n      <td>0.740000</td>\n      <td>1.360000</td>\n      <td>10.600000</td>\n      <td>70.000000</td>\n      <td>0.980000</td>\n      <td>0.340000</td>\n      <td>0.130000</td>\n      <td>0.410000</td>\n      <td>1.280000</td>\n      <td>0.480000</td>\n      <td>1.270000</td>\n      <td>278.000000</td>\n      <td>0.000000</td>\n    </tr>\n    <tr>\n      <th>25%</th>\n      <td>12.355000</td>\n      <td>1.602500</td>\n      <td>2.210000</td>\n      <td>17.200000</td>\n      <td>88.000000</td>\n      <td>1.742500</td>\n      <td>1.205000</td>\n      <td>0.260000</td>\n      <td>1.250000</td>\n      <td>3.220000</td>\n      <td>0.782500</td>\n      <td>1.937500</td>\n      <td>500.500000</td>\n      <td>0.000000</td>\n    </tr>\n    <tr>\n      <th>50%</th>\n      <td>13.050000</td>\n      <td>1.865000</td>\n      <td>2.360000</td>\n      <td>19.500000</td>\n      <td>98.000000</td>\n      <td>2.355000</td>\n      <td>2.135000</td>\n      <td>0.340000</td>\n      <td>1.555000</td>\n      <td>4.690000</td>\n      <td>0.965000</td>\n      <td>2.780000</td>\n      <td>673.500000</td>\n      <td>1.000000</td>\n    </tr>\n    <tr>\n      <th>75%</th>\n      <td>13.672500</td>\n      <td>3.082500</td>\n      <td>2.557500</td>\n      <td>21.500000</td>\n      <td>107.000000</td>\n      <td>2.800000</td>\n      <td>2.875000</td>\n      <td>0.450000</td>\n      <td>1.950000</td>\n      <td>6.200000</td>\n      <td>1.120000</td>\n      <td>3.170000</td>\n      <td>985.000000</td>\n      <td>2.000000</td>\n    </tr>\n    <tr>\n      <th>max</th>\n      <td>14.750000</td>\n      <td>5.800000</td>\n      <td>3.230000</td>\n      <td>30.000000</td>\n      <td>162.000000</td>\n      <td>3.880000</td>\n      <td>5.080000</td>\n      <td>0.660000</td>\n      <td>3.580000</td>\n      <td>13.000000</td>\n      <td>1.710000</td>\n      <td>4.000000</td>\n      <td>1680.000000</td>\n      <td>2.000000</td>\n    </tr>\n  </tbody>\n</table>\n</div>"
     },
     "execution_count": 5,
     "metadata": {},
     "output_type": "execute_result"
    }
   ],
   "source": [
    "data.describe()"
   ],
   "metadata": {
    "collapsed": false,
    "pycharm": {
     "name": "#%%\n"
    }
   }
  },
  {
   "cell_type": "markdown",
   "source": [
    "## 목표값에서 고유값 확인"
   ],
   "metadata": {
    "collapsed": false,
    "pycharm": {
     "name": "#%% md\n"
    }
   }
  },
  {
   "cell_type": "code",
   "execution_count": 6,
   "outputs": [
    {
     "data": {
      "text/plain": "array([0, 1, 2], dtype=int64)"
     },
     "execution_count": 6,
     "metadata": {},
     "output_type": "execute_result"
    }
   ],
   "source": [
    "data['class'].unique()"
   ],
   "metadata": {
    "collapsed": false,
    "pycharm": {
     "name": "#%%\n"
    }
   }
  },
  {
   "cell_type": "code",
   "execution_count": 7,
   "outputs": [
    {
     "data": {
      "text/plain": "3"
     },
     "execution_count": 7,
     "metadata": {},
     "output_type": "execute_result"
    }
   ],
   "source": [
    "data['class'].nunique() # 클래스 개수 확인"
   ],
   "metadata": {
    "collapsed": false,
    "pycharm": {
     "name": "#%%\n"
    }
   }
  },
  {
   "cell_type": "code",
   "execution_count": 8,
   "outputs": [
    {
     "data": {
      "text/plain": "class\n1    71\n0    59\n2    48\nName: count, dtype: int64"
     },
     "execution_count": 8,
     "metadata": {},
     "output_type": "execute_result"
    }
   ],
   "source": [
    "data['class'].value_counts() # 클래스 별 데이터 수 확인"
   ],
   "metadata": {
    "collapsed": false,
    "pycharm": {
     "name": "#%%\n"
    }
   }
  },
  {
   "cell_type": "code",
   "execution_count": 9,
   "outputs": [
    {
     "data": {
      "text/plain": "<Axes: xlabel='class', ylabel='count'>"
     },
     "execution_count": 9,
     "metadata": {},
     "output_type": "execute_result"
    },
    {
     "data": {
      "text/plain": "<Figure size 640x480 with 1 Axes>",
      "image/png": "[encoded data removed]"
     },
     "metadata": {},
     "output_type": "display_data"
    }
   ],
   "source": [
    "sns.barplot(x = data['class'].value_counts().index, y = data['class'].value_counts())"
   ],
   "metadata": {
    "collapsed": false,
    "pycharm": {
     "name": "#%%\n"
    }
   }
  },
  {
   "cell_type": "code",
   "execution_count": 10,
   "outputs": [
    {
     "data": {
      "text/plain": "Index([1, 0, 2], dtype='int64', name='class')"
     },
     "execution_count": 10,
     "metadata": {},
     "output_type": "execute_result"
    }
   ],
   "source": [
    "data['class'].value_counts().index"
   ],
   "metadata": {
    "collapsed": false,
    "pycharm": {
     "name": "#%%\n"
    }
   }
  },
  {
   "cell_type": "code",
   "execution_count": 12,
   "outputs": [
    {
     "data": {
      "text/plain": "<Axes: ylabel='count'>"
     },
     "execution_count": 12,
     "metadata": {},
     "output_type": "execute_result"
    },
    {
     "data": {
      "text/plain": "<Figure size 640x480 with 1 Axes>",
      "image/png": "[encoded data removed]"
     },
     "metadata": {},
     "output_type": "display_data"
    }
   ],
   "source": [
    "sns.countplot(data['class'])"
   ],
   "metadata": {
    "collapsed": false,
    "pycharm": {
     "name": "#%%\n"
    }
   }
  },
  {
   "cell_type": "markdown",
   "source": [
    "## 전처리: 결측치 처리하기"
   ],
   "metadata": {
    "collapsed": false,
    "pycharm": {
     "name": "#%% md\n"
    }
   }
  },
  {
   "cell_type": "code",
   "execution_count": 13,
   "outputs": [
    {
     "data": {
      "text/plain": "     alcohol  malic_acid    ash  alcalinity_of_ash  magnesium  total_phenols   \n0      False       False  False              False      False          False  \\\n1       True       False  False              False      False          False   \n2      False       False  False              False      False          False   \n3      False       False  False              False      False          False   \n4      False       False  False              False      False          False   \n..       ...         ...    ...                ...        ...            ...   \n173    False       False  False              False      False          False   \n174    False       False  False              False      False          False   \n175    False       False  False              False      False          False   \n176    False       False  False              False      False          False   \n177    False       False  False              False      False          False   \n\n     flavanoids  nonflavanoid_phenols  proanthocyanins  color_intensity   \n0         False                 False            False            False  \\\n1         False                 False            False            False   \n2         False                 False            False            False   \n3         False                 False            False            False   \n4         False                 False            False            False   \n..          ...                   ...              ...              ...   \n173       False                 False            False            False   \n174       False                 False            False            False   \n175       False                 False            False            False   \n176       False                 False            False            False   \n177       False                 False            False            False   \n\n       hue  od280/od315_of_diluted_wines  proline  class  \n0    False                         False    False  False  \n1    False                         False    False  False  \n2    False                         False    False  False  \n3    False                         False    False  False  \n4    False                         False    False  False  \n..     ...                           ...      ...    ...  \n173  False                         False    False  False  \n174  False                         False    False  False  \n175  False                         False    False  False  \n176  False                         False    False  False  \n177  False                         False    False  False  \n\n[178 rows x 14 columns]",
      "text/html": "<div>\n<style scoped>\n    .dataframe tbody tr th:only-of-type {\n        vertical-align: middle;\n    }\n\n    .dataframe tbody tr th {\n        vertical-align: top;\n    }\n\n    .dataframe thead th {\n        text-align: right;\n    }\n</style>\n<table border=\"1\" class=\"dataframe\">\n  <thead>\n    <tr style=\"text-align: right;\">\n      <th></th>\n      <th>alcohol</th>\n      <th>malic_acid</th>\n      <th>ash</th>\n      <th>alcalinity_of_ash</th>\n      <th>magnesium</th>\n      <th>total_phenols</th>\n      <th>flavanoids</th>\n      <th>nonflavanoid_phenols</th>\n      <th>proanthocyanins</th>\n      <th>color_intensity</th>\n      <th>hue</th>\n      <th>od280/od315_of_diluted_wines</th>\n      <th>proline</th>\n      <th>class</th>\n    </tr>\n  </thead>\n  <tbody>\n    <tr>\n      <th>0</th>\n      <td>False</td>\n      <td>False</td>\n      <td>False</td>\n      <td>False</td>\n      <td>False</td>\n      <td>False</td>\n      <td>False</td>\n      <td>False</td>\n      <td>False</td>\n      <td>False</td>\n      <td>False</td>\n      <td>False</td>\n      <td>False</td>\n      <td>False</td>\n    </tr>\n    <tr>\n      <th>1</th>\n      <td>True</td>\n      <td>False</td>\n      <td>False</td>\n      <td>False</td>\n      <td>False</td>\n      <td>False</td>\n      <td>False</td>\n      <td>False</td>\n      <td>False</td>\n      <td>False</td>\n      <td>False</td>\n      <td>False</td>\n      <td>False</td>\n      <td>False</td>\n    </tr>\n    <tr>\n      <th>2</th>\n      <td>False</td>\n      <td>False</td>\n      <td>False</td>\n      <td>False</td>\n      <td>False</td>\n      <td>False</td>\n      <td>False</td>\n      <td>False</td>\n      <td>False</td>\n      <td>False</td>\n      <td>False</td>\n      <td>False</td>\n      <td>False</td>\n      <td>False</td>\n    </tr>\n    <tr>\n      <th>3</th>\n      <td>False</td>\n      <td>False</td>\n      <td>False</td>\n      <td>False</td>\n      <td>False</td>\n      <td>False</td>\n      <td>False</td>\n      <td>False</td>\n      <td>False</td>\n      <td>False</td>\n      <td>False</td>\n      <td>False</td>\n      <td>False</td>\n      <td>False</td>\n    </tr>\n    <tr>\n      <th>4</th>\n      <td>False</td>\n      <td>False</td>\n      <td>False</td>\n      <td>False</td>\n      <td>False</td>\n      <td>False</td>\n      <td>False</td>\n      <td>False</td>\n      <td>False</td>\n      <td>False</td>\n      <td>False</td>\n      <td>False</td>\n      <td>False</td>\n      <td>False</td>\n    </tr>\n    <tr>\n      <th>...</th>\n      <td>...</td>\n      <td>...</td>\n      <td>...</td>\n      <td>...</td>\n      <td>...</td>\n      <td>...</td>\n      <td>...</td>\n      <td>...</td>\n      <td>...</td>\n      <td>...</td>\n      <td>...</td>\n      <td>...</td>\n      <td>...</td>\n      <td>...</td>\n    </tr>\n    <tr>\n      <th>173</th>\n      <td>False</td>\n      <td>False</td>\n      <td>False</td>\n      <td>False</td>\n      <td>False</td>\n      <td>False</td>\n      <td>False</td>\n      <td>False</td>\n      <td>False</td>\n      <td>False</td>\n      <td>False</td>\n      <td>False</td>\n      <td>False</td>\n      <td>False</td>\n    </tr>\n    <tr>\n      <th>174</th>\n      <td>False</td>\n      <td>False</td>\n      <td>False</td>\n      <td>False</td>\n      <td>False</td>\n      <td>False</td>\n      <td>False</td>\n      <td>False</td>\n      <td>False</td>\n      <td>False</td>\n      <td>False</td>\n      <td>False</td>\n      <td>False</td>\n      <td>False</td>\n    </tr>\n    <tr>\n      <th>175</th>\n      <td>False</td>\n      <td>False</td>\n      <td>False</td>\n      <td>False</td>\n      <td>False</td>\n      <td>False</td>\n      <td>False</td>\n      <td>False</td>\n      <td>False</td>\n      <td>False</td>\n      <td>False</td>\n      <td>False</td>\n      <td>False</td>\n      <td>False</td>\n    </tr>\n    <tr>\n      <th>176</th>\n      <td>False</td>\n      <td>False</td>\n      <td>False</td>\n      <td>False</td>\n      <td>False</td>\n      <td>False</td>\n      <td>False</td>\n      <td>False</td>\n      <td>False</td>\n      <td>False</td>\n      <td>False</td>\n      <td>False</td>\n      <td>False</td>\n      <td>False</td>\n    </tr>\n    <tr>\n      <th>177</th>\n      <td>False</td>\n      <td>False</td>\n      <td>False</td>\n      <td>False</td>\n      <td>False</td>\n      <td>False</td>\n      <td>False</td>\n      <td>False</td>\n      <td>False</td>\n      <td>False</td>\n      <td>False</td>\n      <td>False</td>\n      <td>False</td>\n      <td>False</td>\n    </tr>\n  </tbody>\n</table>\n<p>178 rows × 14 columns</p>\n</div>"
     },
     "execution_count": 13,
     "metadata": {},
     "output_type": "execute_result"
    }
   ],
   "source": [
    "data.isna() # 결측치 여부 확인"
   ],
   "metadata": {
    "collapsed": false,
    "pycharm": {
     "name": "#%%\n"
    }
   }
  },
  {
   "cell_type": "code",
   "execution_count": 14,
   "outputs": [
    {
     "data": {
      "text/plain": "alcohol                           2286.080000\nmalic_acid                         415.870000\nash                                421.240000\nalcalinity_of_ash                 3470.100000\nmagnesium                        17754.000000\ntotal_phenols                      408.530000\nflavanoids                         361.210000\nnonflavanoid_phenols                62.690000\nproanthocyanins                    283.180000\ncolor_intensity                    900.339999\nhue                                170.426000\nod280/od315_of_diluted_wines       464.880000\nproline                         132947.000000\nclass                              167.000000\ndtype: float64"
     },
     "execution_count": 14,
     "metadata": {},
     "output_type": "execute_result"
    }
   ],
   "source": [
    "data.sum() # 변수별 합"
   ],
   "metadata": {
    "collapsed": false,
    "pycharm": {
     "name": "#%%\n"
    }
   }
  },
  {
   "cell_type": "code",
   "execution_count": 15,
   "outputs": [
    {
     "data": {
      "text/plain": "alcohol                         2\nmalic_acid                      0\nash                             0\nalcalinity_of_ash               0\nmagnesium                       0\ntotal_phenols                   0\nflavanoids                      0\nnonflavanoid_phenols            5\nproanthocyanins                 0\ncolor_intensity                 0\nhue                             0\nod280/od315_of_diluted_wines    0\nproline                         0\nclass                           0\ndtype: int64"
     },
     "execution_count": 15,
     "metadata": {},
     "output_type": "execute_result"
    }
   ],
   "source": [
    "data.isna().sum() # 변수별 결측치 합계"
   ],
   "metadata": {
    "collapsed": false,
    "pycharm": {
     "name": "#%%\n"
    }
   }
  },
  {
   "cell_type": "code",
   "execution_count": 16,
   "outputs": [
    {
     "data": {
      "text/plain": "alcohol                          12.989091\nmalic_acid                        2.336348\nash                               2.366517\nalcalinity_of_ash                19.494944\nmagnesium                        99.741573\ntotal_phenols                     2.295112\nflavanoids                        2.029270\nnonflavanoid_phenols              0.362370\nproanthocyanins                   1.590899\ncolor_intensity                   5.058090\nhue                               0.957449\nod280/od315_of_diluted_wines      2.611685\nproline                         746.893258\nclass                             0.938202\ndtype: float64"
     },
     "execution_count": 16,
     "metadata": {},
     "output_type": "execute_result"
    }
   ],
   "source": [
    "data.mean() # 변수별 평균"
   ],
   "metadata": {
    "collapsed": false,
    "pycharm": {
     "name": "#%%\n"
    }
   }
  },
  {
   "cell_type": "code",
   "execution_count": 17,
   "outputs": [
    {
     "data": {
      "text/plain": "alcohol                         0.011236\nmalic_acid                      0.000000\nash                             0.000000\nalcalinity_of_ash               0.000000\nmagnesium                       0.000000\ntotal_phenols                   0.000000\nflavanoids                      0.000000\nnonflavanoid_phenols            0.028090\nproanthocyanins                 0.000000\ncolor_intensity                 0.000000\nhue                             0.000000\nod280/od315_of_diluted_wines    0.000000\nproline                         0.000000\nclass                           0.000000\ndtype: float64"
     },
     "execution_count": 17,
     "metadata": {},
     "output_type": "execute_result"
    }
   ],
   "source": [
    "data.isna().mean() # 변수별 결측치 평균"
   ],
   "metadata": {
    "collapsed": false,
    "pycharm": {
     "name": "#%%\n"
    }
   }
  },
  {
   "cell_type": "code",
   "execution_count": 18,
   "outputs": [
    {
     "data": {
      "text/plain": "     alcohol  malic_acid   ash  alcalinity_of_ash  magnesium  total_phenols   \n0      14.23        1.71  2.43               15.6        127           2.80  \\\n2      13.16        2.36  2.67               18.6        101           2.80   \n3      14.37        1.95  2.50               16.8        113           3.85   \n4      13.24        2.59  2.87               21.0        118           2.80   \n5      14.20        1.76  2.45               15.2        112           3.27   \n..       ...         ...   ...                ...        ...            ...   \n173    13.71        5.65  2.45               20.5         95           1.68   \n174    13.40        3.91  2.48               23.0        102           1.80   \n175    13.27        4.28  2.26               20.0        120           1.59   \n176    13.17        2.59  2.37               20.0        120           1.65   \n177    14.13        4.10  2.74               24.5         96           2.05   \n\n     flavanoids  nonflavanoid_phenols  proanthocyanins  color_intensity   hue   \n0          3.06                  0.28             2.29             5.64  1.04  \\\n2          3.24                  0.30             2.81             5.68  1.03   \n3          3.49                  0.24             2.18             7.80  0.86   \n4          2.69                  0.39             1.82             4.32  1.04   \n5          3.39                  0.34             1.97             6.75  1.05   \n..          ...                   ...              ...              ...   ...   \n173        0.61                  0.52             1.06             7.70  0.64   \n174        0.75                  0.43             1.41             7.30  0.70   \n175        0.69                  0.43             1.35            10.20  0.59   \n176        0.68                  0.53             1.46             9.30  0.60   \n177        0.76                  0.56             1.35             9.20  0.61   \n\n     od280/od315_of_diluted_wines  proline  class  \n0                            3.92     1065      0  \n2                            3.17     1185      0  \n3                            3.45     1480      0  \n4                            2.93      735      0  \n5                            2.85     1450      0  \n..                            ...      ...    ...  \n173                          1.74      740      2  \n174                          1.56      750      2  \n175                          1.56      835      2  \n176                          1.62      840      2  \n177                          1.60      560      2  \n\n[171 rows x 14 columns]",
      "text/html": "<div>\n<style scoped>\n    .dataframe tbody tr th:only-of-type {\n        vertical-align: middle;\n    }\n\n    .dataframe tbody tr th {\n        vertical-align: top;\n    }\n\n    .dataframe thead th {\n        text-align: right;\n    }\n</style>\n<table border=\"1\" class=\"dataframe\">\n  <thead>\n    <tr style=\"text-align: right;\">\n      <th></th>\n      <th>alcohol</th>\n      <th>malic_acid</th>\n      <th>ash</th>\n      <th>alcalinity_of_ash</th>\n      <th>magnesium</th>\n      <th>total_phenols</th>\n      <th>flavanoids</th>\n      <th>nonflavanoid_phenols</th>\n      <th>proanthocyanins</th>\n      <th>color_intensity</th>\n      <th>hue</th>\n      <th>od280/od315_of_diluted_wines</th>\n      <th>proline</th>\n      <th>class</th>\n    </tr>\n  </thead>\n  <tbody>\n    <tr>\n      <th>0</th>\n      <td>14.23</td>\n      <td>1.71</td>\n      <td>2.43</td>\n      <td>15.6</td>\n      <td>127</td>\n      <td>2.80</td>\n      <td>3.06</td>\n      <td>0.28</td>\n      <td>2.29</td>\n      <td>5.64</td>\n      <td>1.04</td>\n      <td>3.92</td>\n      <td>1065</td>\n      <td>0</td>\n    </tr>\n    <tr>\n      <th>2</th>\n      <td>13.16</td>\n      <td>2.36</td>\n      <td>2.67</td>\n      <td>18.6</td>\n      <td>101</td>\n      <td>2.80</td>\n      <td>3.24</td>\n      <td>0.30</td>\n      <td>2.81</td>\n      <td>5.68</td>\n      <td>1.03</td>\n      <td>3.17</td>\n      <td>1185</td>\n      <td>0</td>\n    </tr>\n    <tr>\n      <th>3</th>\n      <td>14.37</td>\n      <td>1.95</td>\n      <td>2.50</td>\n      <td>16.8</td>\n      <td>113</td>\n      <td>3.85</td>\n      <td>3.49</td>\n      <td>0.24</td>\n      <td>2.18</td>\n      <td>7.80</td>\n      <td>0.86</td>\n      <td>3.45</td>\n      <td>1480</td>\n      <td>0</td>\n    </tr>\n    <tr>\n      <th>4</th>\n      <td>13.24</td>\n      <td>2.59</td>\n      <td>2.87</td>\n      <td>21.0</td>\n      <td>118</td>\n      <td>2.80</td>\n      <td>2.69</td>\n      <td>0.39</td>\n      <td>1.82</td>\n      <td>4.32</td>\n      <td>1.04</td>\n      <td>2.93</td>\n      <td>735</td>\n      <td>0</td>\n    </tr>\n    <tr>\n      <th>5</th>\n      <td>14.20</td>\n      <td>1.76</td>\n      <td>2.45</td>\n      <td>15.2</td>\n      <td>112</td>\n      <td>3.27</td>\n      <td>3.39</td>\n      <td>0.34</td>\n      <td>1.97</td>\n      <td>6.75</td>\n      <td>1.05</td>\n      <td>2.85</td>\n      <td>1450</td>\n      <td>0</td>\n    </tr>\n    <tr>\n      <th>...</th>\n      <td>...</td>\n      <td>...</td>\n      <td>...</td>\n      <td>...</td>\n      <td>...</td>\n      <td>...</td>\n      <td>...</td>\n      <td>...</td>\n      <td>...</td>\n      <td>...</td>\n      <td>...</td>\n      <td>...</td>\n      <td>...</td>\n      <td>...</td>\n    </tr>\n    <tr>\n      <th>173</th>\n      <td>13.71</td>\n      <td>5.65</td>\n      <td>2.45</td>\n      <td>20.5</td>\n      <td>95</td>\n      <td>1.68</td>\n      <td>0.61</td>\n      <td>0.52</td>\n      <td>1.06</td>\n      <td>7.70</td>\n      <td>0.64</td>\n      <td>1.74</td>\n      <td>740</td>\n      <td>2</td>\n    </tr>\n    <tr>\n      <th>174</th>\n      <td>13.40</td>\n      <td>3.91</td>\n      <td>2.48</td>\n      <td>23.0</td>\n      <td>102</td>\n      <td>1.80</td>\n      <td>0.75</td>\n      <td>0.43</td>\n      <td>1.41</td>\n      <td>7.30</td>\n      <td>0.70</td>\n      <td>1.56</td>\n      <td>750</td>\n      <td>2</td>\n    </tr>\n    <tr>\n      <th>175</th>\n      <td>13.27</td>\n      <td>4.28</td>\n      <td>2.26</td>\n      <td>20.0</td>\n      <td>120</td>\n      <td>1.59</td>\n      <td>0.69</td>\n      <td>0.43</td>\n      <td>1.35</td>\n      <td>10.20</td>\n      <td>0.59</td>\n      <td>1.56</td>\n      <td>835</td>\n      <td>2</td>\n    </tr>\n    <tr>\n      <th>176</th>\n      <td>13.17</td>\n      <td>2.59</td>\n      <td>2.37</td>\n      <td>20.0</td>\n      <td>120</td>\n      <td>1.65</td>\n      <td>0.68</td>\n      <td>0.53</td>\n      <td>1.46</td>\n      <td>9.30</td>\n      <td>0.60</td>\n      <td>1.62</td>\n      <td>840</td>\n      <td>2</td>\n    </tr>\n    <tr>\n      <th>177</th>\n      <td>14.13</td>\n      <td>4.10</td>\n      <td>2.74</td>\n      <td>24.5</td>\n      <td>96</td>\n      <td>2.05</td>\n      <td>0.76</td>\n      <td>0.56</td>\n      <td>1.35</td>\n      <td>9.20</td>\n      <td>0.61</td>\n      <td>1.60</td>\n      <td>560</td>\n      <td>2</td>\n    </tr>\n  </tbody>\n</table>\n<p>171 rows × 14 columns</p>\n</div>"
     },
     "execution_count": 18,
     "metadata": {},
     "output_type": "execute_result"
    }
   ],
   "source": [
    "# 방식1 결측치 제거\n",
    "data.dropna() # 결측치 행 제거"
   ],
   "metadata": {
    "collapsed": false,
    "pycharm": {
     "name": "#%%\n"
    }
   }
  },
  {
   "cell_type": "code",
   "execution_count": 19,
   "outputs": [
    {
     "data": {
      "text/plain": "alcohol                         0.0\nmalic_acid                      0.0\nash                             0.0\nalcalinity_of_ash               0.0\nmagnesium                       0.0\ntotal_phenols                   0.0\nflavanoids                      0.0\nnonflavanoid_phenols            0.0\nproanthocyanins                 0.0\ncolor_intensity                 0.0\nhue                             0.0\nod280/od315_of_diluted_wines    0.0\nproline                         0.0\nclass                           0.0\ndtype: float64"
     },
     "execution_count": 19,
     "metadata": {},
     "output_type": "execute_result"
    }
   ],
   "source": [
    "data.dropna().isna().mean()"
   ],
   "metadata": {
    "collapsed": false,
    "pycharm": {
     "name": "#%%\n"
    }
   }
  },
  {
   "cell_type": "code",
   "execution_count": 20,
   "outputs": [
    {
     "data": {
      "text/plain": "     alcohol  malic_acid   ash  alcalinity_of_ash  magnesium  total_phenols   \n0      14.23        1.71  2.43               15.6        127           2.80  \\\n2      13.16        2.36  2.67               18.6        101           2.80   \n3      14.37        1.95  2.50               16.8        113           3.85   \n4      13.24        2.59  2.87               21.0        118           2.80   \n5      14.20        1.76  2.45               15.2        112           3.27   \n..       ...         ...   ...                ...        ...            ...   \n173    13.71        5.65  2.45               20.5         95           1.68   \n174    13.40        3.91  2.48               23.0        102           1.80   \n175    13.27        4.28  2.26               20.0        120           1.59   \n176    13.17        2.59  2.37               20.0        120           1.65   \n177    14.13        4.10  2.74               24.5         96           2.05   \n\n     flavanoids  nonflavanoid_phenols  proanthocyanins  color_intensity   hue   \n0          3.06                  0.28             2.29             5.64  1.04  \\\n2          3.24                  0.30             2.81             5.68  1.03   \n3          3.49                  0.24             2.18             7.80  0.86   \n4          2.69                  0.39             1.82             4.32  1.04   \n5          3.39                  0.34             1.97             6.75  1.05   \n..          ...                   ...              ...              ...   ...   \n173        0.61                  0.52             1.06             7.70  0.64   \n174        0.75                  0.43             1.41             7.30  0.70   \n175        0.69                  0.43             1.35            10.20  0.59   \n176        0.68                  0.53             1.46             9.30  0.60   \n177        0.76                  0.56             1.35             9.20  0.61   \n\n     od280/od315_of_diluted_wines  proline  class  \n0                            3.92     1065      0  \n2                            3.17     1185      0  \n3                            3.45     1480      0  \n4                            2.93      735      0  \n5                            2.85     1450      0  \n..                            ...      ...    ...  \n173                          1.74      740      2  \n174                          1.56      750      2  \n175                          1.56      835      2  \n176                          1.62      840      2  \n177                          1.60      560      2  \n\n[176 rows x 14 columns]",
      "text/html": "<div>\n<style scoped>\n    .dataframe tbody tr th:only-of-type {\n        vertical-align: middle;\n    }\n\n    .dataframe tbody tr th {\n        vertical-align: top;\n    }\n\n    .dataframe thead th {\n        text-align: right;\n    }\n</style>\n<table border=\"1\" class=\"dataframe\">\n  <thead>\n    <tr style=\"text-align: right;\">\n      <th></th>\n      <th>alcohol</th>\n      <th>malic_acid</th>\n      <th>ash</th>\n      <th>alcalinity_of_ash</th>\n      <th>magnesium</th>\n      <th>total_phenols</th>\n      <th>flavanoids</th>\n      <th>nonflavanoid_phenols</th>\n      <th>proanthocyanins</th>\n      <th>color_intensity</th>\n      <th>hue</th>\n      <th>od280/od315_of_diluted_wines</th>\n      <th>proline</th>\n      <th>class</th>\n    </tr>\n  </thead>\n  <tbody>\n    <tr>\n      <th>0</th>\n      <td>14.23</td>\n      <td>1.71</td>\n      <td>2.43</td>\n      <td>15.6</td>\n      <td>127</td>\n      <td>2.80</td>\n      <td>3.06</td>\n      <td>0.28</td>\n      <td>2.29</td>\n      <td>5.64</td>\n      <td>1.04</td>\n      <td>3.92</td>\n      <td>1065</td>\n      <td>0</td>\n    </tr>\n    <tr>\n      <th>2</th>\n      <td>13.16</td>\n      <td>2.36</td>\n      <td>2.67</td>\n      <td>18.6</td>\n      <td>101</td>\n      <td>2.80</td>\n      <td>3.24</td>\n      <td>0.30</td>\n      <td>2.81</td>\n      <td>5.68</td>\n      <td>1.03</td>\n      <td>3.17</td>\n      <td>1185</td>\n      <td>0</td>\n    </tr>\n    <tr>\n      <th>3</th>\n      <td>14.37</td>\n      <td>1.95</td>\n      <td>2.50</td>\n      <td>16.8</td>\n      <td>113</td>\n      <td>3.85</td>\n      <td>3.49</td>\n      <td>0.24</td>\n      <td>2.18</td>\n      <td>7.80</td>\n      <td>0.86</td>\n      <td>3.45</td>\n      <td>1480</td>\n      <td>0</td>\n    </tr>\n    <tr>\n      <th>4</th>\n      <td>13.24</td>\n      <td>2.59</td>\n      <td>2.87</td>\n      <td>21.0</td>\n      <td>118</td>\n      <td>2.80</td>\n      <td>2.69</td>\n      <td>0.39</td>\n      <td>1.82</td>\n      <td>4.32</td>\n      <td>1.04</td>\n      <td>2.93</td>\n      <td>735</td>\n      <td>0</td>\n    </tr>\n    <tr>\n      <th>5</th>\n      <td>14.20</td>\n      <td>1.76</td>\n      <td>2.45</td>\n      <td>15.2</td>\n      <td>112</td>\n      <td>3.27</td>\n      <td>3.39</td>\n      <td>0.34</td>\n      <td>1.97</td>\n      <td>6.75</td>\n      <td>1.05</td>\n      <td>2.85</td>\n      <td>1450</td>\n      <td>0</td>\n    </tr>\n    <tr>\n      <th>...</th>\n      <td>...</td>\n      <td>...</td>\n      <td>...</td>\n      <td>...</td>\n      <td>...</td>\n      <td>...</td>\n      <td>...</td>\n      <td>...</td>\n      <td>...</td>\n      <td>...</td>\n      <td>...</td>\n      <td>...</td>\n      <td>...</td>\n      <td>...</td>\n    </tr>\n    <tr>\n      <th>173</th>\n      <td>13.71</td>\n      <td>5.65</td>\n      <td>2.45</td>\n      <td>20.5</td>\n      <td>95</td>\n      <td>1.68</td>\n      <td>0.61</td>\n      <td>0.52</td>\n      <td>1.06</td>\n      <td>7.70</td>\n      <td>0.64</td>\n      <td>1.74</td>\n      <td>740</td>\n      <td>2</td>\n    </tr>\n    <tr>\n      <th>174</th>\n      <td>13.40</td>\n      <td>3.91</td>\n      <td>2.48</td>\n      <td>23.0</td>\n      <td>102</td>\n      <td>1.80</td>\n      <td>0.75</td>\n      <td>0.43</td>\n      <td>1.41</td>\n      <td>7.30</td>\n      <td>0.70</td>\n      <td>1.56</td>\n      <td>750</td>\n      <td>2</td>\n    </tr>\n    <tr>\n      <th>175</th>\n      <td>13.27</td>\n      <td>4.28</td>\n      <td>2.26</td>\n      <td>20.0</td>\n      <td>120</td>\n      <td>1.59</td>\n      <td>0.69</td>\n      <td>0.43</td>\n      <td>1.35</td>\n      <td>10.20</td>\n      <td>0.59</td>\n      <td>1.56</td>\n      <td>835</td>\n      <td>2</td>\n    </tr>\n    <tr>\n      <th>176</th>\n      <td>13.17</td>\n      <td>2.59</td>\n      <td>2.37</td>\n      <td>20.0</td>\n      <td>120</td>\n      <td>1.65</td>\n      <td>0.68</td>\n      <td>0.53</td>\n      <td>1.46</td>\n      <td>9.30</td>\n      <td>0.60</td>\n      <td>1.62</td>\n      <td>840</td>\n      <td>2</td>\n    </tr>\n    <tr>\n      <th>177</th>\n      <td>14.13</td>\n      <td>4.10</td>\n      <td>2.74</td>\n      <td>24.5</td>\n      <td>96</td>\n      <td>2.05</td>\n      <td>0.76</td>\n      <td>0.56</td>\n      <td>1.35</td>\n      <td>9.20</td>\n      <td>0.61</td>\n      <td>1.60</td>\n      <td>560</td>\n      <td>2</td>\n    </tr>\n  </tbody>\n</table>\n<p>176 rows × 14 columns</p>\n</div>"
     },
     "execution_count": 20,
     "metadata": {},
     "output_type": "execute_result"
    }
   ],
   "source": [
    "# alcohol 변수의 결측치만 제거\n",
    "data.dropna(subset=['alcohol'])"
   ],
   "metadata": {
    "collapsed": false,
    "pycharm": {
     "name": "#%%\n"
    }
   }
  },
  {
   "cell_type": "code",
   "execution_count": 21,
   "outputs": [
    {
     "data": {
      "text/plain": "alcohol                         0.000000\nmalic_acid                      0.000000\nash                             0.000000\nalcalinity_of_ash               0.000000\nmagnesium                       0.000000\ntotal_phenols                   0.000000\nflavanoids                      0.000000\nnonflavanoid_phenols            0.028409\nproanthocyanins                 0.000000\ncolor_intensity                 0.000000\nhue                             0.000000\nod280/od315_of_diluted_wines    0.000000\nproline                         0.000000\nclass                           0.000000\ndtype: float64"
     },
     "execution_count": 21,
     "metadata": {},
     "output_type": "execute_result"
    }
   ],
   "source": [
    "data.dropna(subset=['alcohol']).isna().mean()"
   ],
   "metadata": {
    "collapsed": false,
    "pycharm": {
     "name": "#%%\n"
    }
   }
  },
  {
   "cell_type": "code",
   "execution_count": 22,
   "outputs": [
    {
     "data": {
      "text/plain": "     malic_acid   ash  alcalinity_of_ash  magnesium  total_phenols   \n0          1.71  2.43               15.6        127           2.80  \\\n1          1.78  2.14               11.2        100           2.65   \n2          2.36  2.67               18.6        101           2.80   \n3          1.95  2.50               16.8        113           3.85   \n4          2.59  2.87               21.0        118           2.80   \n..          ...   ...                ...        ...            ...   \n173        5.65  2.45               20.5         95           1.68   \n174        3.91  2.48               23.0        102           1.80   \n175        4.28  2.26               20.0        120           1.59   \n176        2.59  2.37               20.0        120           1.65   \n177        4.10  2.74               24.5         96           2.05   \n\n     flavanoids  proanthocyanins  color_intensity   hue   \n0          3.06             2.29             5.64  1.04  \\\n1          2.76             1.28             4.38  1.05   \n2          3.24             2.81             5.68  1.03   \n3          3.49             2.18             7.80  0.86   \n4          2.69             1.82             4.32  1.04   \n..          ...              ...              ...   ...   \n173        0.61             1.06             7.70  0.64   \n174        0.75             1.41             7.30  0.70   \n175        0.69             1.35            10.20  0.59   \n176        0.68             1.46             9.30  0.60   \n177        0.76             1.35             9.20  0.61   \n\n     od280/od315_of_diluted_wines  proline  class  \n0                            3.92     1065      0  \n1                            3.40     1050      0  \n2                            3.17     1185      0  \n3                            3.45     1480      0  \n4                            2.93      735      0  \n..                            ...      ...    ...  \n173                          1.74      740      2  \n174                          1.56      750      2  \n175                          1.56      835      2  \n176                          1.62      840      2  \n177                          1.60      560      2  \n\n[178 rows x 12 columns]",
      "text/html": "<div>\n<style scoped>\n    .dataframe tbody tr th:only-of-type {\n        vertical-align: middle;\n    }\n\n    .dataframe tbody tr th {\n        vertical-align: top;\n    }\n\n    .dataframe thead th {\n        text-align: right;\n    }\n</style>\n<table border=\"1\" class=\"dataframe\">\n  <thead>\n    <tr style=\"text-align: right;\">\n      <th></th>\n      <th>malic_acid</th>\n      <th>ash</th>\n      <th>alcalinity_of_ash</th>\n      <th>magnesium</th>\n      <th>total_phenols</th>\n      <th>flavanoids</th>\n      <th>proanthocyanins</th>\n      <th>color_intensity</th>\n      <th>hue</th>\n      <th>od280/od315_of_diluted_wines</th>\n      <th>proline</th>\n      <th>class</th>\n    </tr>\n  </thead>\n  <tbody>\n    <tr>\n      <th>0</th>\n      <td>1.71</td>\n      <td>2.43</td>\n      <td>15.6</td>\n      <td>127</td>\n      <td>2.80</td>\n      <td>3.06</td>\n      <td>2.29</td>\n      <td>5.64</td>\n      <td>1.04</td>\n      <td>3.92</td>\n      <td>1065</td>\n      <td>0</td>\n    </tr>\n    <tr>\n      <th>1</th>\n      <td>1.78</td>\n      <td>2.14</td>\n      <td>11.2</td>\n      <td>100</td>\n      <td>2.65</td>\n      <td>2.76</td>\n      <td>1.28</td>\n      <td>4.38</td>\n      <td>1.05</td>\n      <td>3.40</td>\n      <td>1050</td>\n      <td>0</td>\n    </tr>\n    <tr>\n      <th>2</th>\n      <td>2.36</td>\n      <td>2.67</td>\n      <td>18.6</td>\n      <td>101</td>\n      <td>2.80</td>\n      <td>3.24</td>\n      <td>2.81</td>\n      <td>5.68</td>\n      <td>1.03</td>\n      <td>3.17</td>\n      <td>1185</td>\n      <td>0</td>\n    </tr>\n    <tr>\n      <th>3</th>\n      <td>1.95</td>\n      <td>2.50</td>\n      <td>16.8</td>\n      <td>113</td>\n      <td>3.85</td>\n      <td>3.49</td>\n      <td>2.18</td>\n      <td>7.80</td>\n      <td>0.86</td>\n      <td>3.45</td>\n      <td>1480</td>\n      <td>0</td>\n    </tr>\n    <tr>\n      <th>4</th>\n      <td>2.59</td>\n      <td>2.87</td>\n      <td>21.0</td>\n      <td>118</td>\n      <td>2.80</td>\n      <td>2.69</td>\n      <td>1.82</td>\n      <td>4.32</td>\n      <td>1.04</td>\n      <td>2.93</td>\n      <td>735</td>\n      <td>0</td>\n    </tr>\n    <tr>\n      <th>...</th>\n      <td>...</td>\n      <td>...</td>\n      <td>...</td>\n      <td>...</td>\n      <td>...</td>\n      <td>...</td>\n      <td>...</td>\n      <td>...</td>\n      <td>...</td>\n      <td>...</td>\n      <td>...</td>\n      <td>...</td>\n    </tr>\n    <tr>\n      <th>173</th>\n      <td>5.65</td>\n      <td>2.45</td>\n      <td>20.5</td>\n      <td>95</td>\n      <td>1.68</td>\n      <td>0.61</td>\n      <td>1.06</td>\n      <td>7.70</td>\n      <td>0.64</td>\n      <td>1.74</td>\n      <td>740</td>\n      <td>2</td>\n    </tr>\n    <tr>\n      <th>174</th>\n      <td>3.91</td>\n      <td>2.48</td>\n      <td>23.0</td>\n      <td>102</td>\n      <td>1.80</td>\n      <td>0.75</td>\n      <td>1.41</td>\n      <td>7.30</td>\n      <td>0.70</td>\n      <td>1.56</td>\n      <td>750</td>\n      <td>2</td>\n    </tr>\n    <tr>\n      <th>175</th>\n      <td>4.28</td>\n      <td>2.26</td>\n      <td>20.0</td>\n      <td>120</td>\n      <td>1.59</td>\n      <td>0.69</td>\n      <td>1.35</td>\n      <td>10.20</td>\n      <td>0.59</td>\n      <td>1.56</td>\n      <td>835</td>\n      <td>2</td>\n    </tr>\n    <tr>\n      <th>176</th>\n      <td>2.59</td>\n      <td>2.37</td>\n      <td>20.0</td>\n      <td>120</td>\n      <td>1.65</td>\n      <td>0.68</td>\n      <td>1.46</td>\n      <td>9.30</td>\n      <td>0.60</td>\n      <td>1.62</td>\n      <td>840</td>\n      <td>2</td>\n    </tr>\n    <tr>\n      <th>177</th>\n      <td>4.10</td>\n      <td>2.74</td>\n      <td>24.5</td>\n      <td>96</td>\n      <td>2.05</td>\n      <td>0.76</td>\n      <td>1.35</td>\n      <td>9.20</td>\n      <td>0.61</td>\n      <td>1.60</td>\n      <td>560</td>\n      <td>2</td>\n    </tr>\n  </tbody>\n</table>\n<p>178 rows × 12 columns</p>\n</div>"
     },
     "execution_count": 22,
     "metadata": {},
     "output_type": "execute_result"
    }
   ],
   "source": [
    "# 방식2 변수 제거\n",
    "data.drop(['alcohol','nonflavanoid_phenols'], axis = 1) # 변수 제거"
   ],
   "metadata": {
    "collapsed": false,
    "pycharm": {
     "name": "#%%\n"
    }
   }
  },
  {
   "cell_type": "code",
   "execution_count": 23,
   "outputs": [
    {
     "data": {
      "text/plain": "     alcohol  malic_acid   ash  alcalinity_of_ash  magnesium  total_phenols   \n0      14.23        1.71  2.43               15.6        127           2.80  \\\n1     -99.00        1.78  2.14               11.2        100           2.65   \n2      13.16        2.36  2.67               18.6        101           2.80   \n3      14.37        1.95  2.50               16.8        113           3.85   \n4      13.24        2.59  2.87               21.0        118           2.80   \n..       ...         ...   ...                ...        ...            ...   \n173    13.71        5.65  2.45               20.5         95           1.68   \n174    13.40        3.91  2.48               23.0        102           1.80   \n175    13.27        4.28  2.26               20.0        120           1.59   \n176    13.17        2.59  2.37               20.0        120           1.65   \n177    14.13        4.10  2.74               24.5         96           2.05   \n\n     flavanoids  nonflavanoid_phenols  proanthocyanins  color_intensity   hue   \n0          3.06                  0.28             2.29             5.64  1.04  \\\n1          2.76                  0.26             1.28             4.38  1.05   \n2          3.24                  0.30             2.81             5.68  1.03   \n3          3.49                  0.24             2.18             7.80  0.86   \n4          2.69                  0.39             1.82             4.32  1.04   \n..          ...                   ...              ...              ...   ...   \n173        0.61                  0.52             1.06             7.70  0.64   \n174        0.75                  0.43             1.41             7.30  0.70   \n175        0.69                  0.43             1.35            10.20  0.59   \n176        0.68                  0.53             1.46             9.30  0.60   \n177        0.76                  0.56             1.35             9.20  0.61   \n\n     od280/od315_of_diluted_wines  proline  class  \n0                            3.92     1065      0  \n1                            3.40     1050      0  \n2                            3.17     1185      0  \n3                            3.45     1480      0  \n4                            2.93      735      0  \n..                            ...      ...    ...  \n173                          1.74      740      2  \n174                          1.56      750      2  \n175                          1.56      835      2  \n176                          1.62      840      2  \n177                          1.60      560      2  \n\n[178 rows x 14 columns]",
      "text/html": "<div>\n<style scoped>\n    .dataframe tbody tr th:only-of-type {\n        vertical-align: middle;\n    }\n\n    .dataframe tbody tr th {\n        vertical-align: top;\n    }\n\n    .dataframe thead th {\n        text-align: right;\n    }\n</style>\n<table border=\"1\" class=\"dataframe\">\n  <thead>\n    <tr style=\"text-align: right;\">\n      <th></th>\n      <th>alcohol</th>\n      <th>malic_acid</th>\n      <th>ash</th>\n      <th>alcalinity_of_ash</th>\n      <th>magnesium</th>\n      <th>total_phenols</th>\n      <th>flavanoids</th>\n      <th>nonflavanoid_phenols</th>\n      <th>proanthocyanins</th>\n      <th>color_intensity</th>\n      <th>hue</th>\n      <th>od280/od315_of_diluted_wines</th>\n      <th>proline</th>\n      <th>class</th>\n    </tr>\n  </thead>\n  <tbody>\n    <tr>\n      <th>0</th>\n      <td>14.23</td>\n      <td>1.71</td>\n      <td>2.43</td>\n      <td>15.6</td>\n      <td>127</td>\n      <td>2.80</td>\n      <td>3.06</td>\n      <td>0.28</td>\n      <td>2.29</td>\n      <td>5.64</td>\n      <td>1.04</td>\n      <td>3.92</td>\n      <td>1065</td>\n      <td>0</td>\n    </tr>\n    <tr>\n      <th>1</th>\n      <td>-99.00</td>\n      <td>1.78</td>\n      <td>2.14</td>\n      <td>11.2</td>\n      <td>100</td>\n      <td>2.65</td>\n      <td>2.76</td>\n      <td>0.26</td>\n      <td>1.28</td>\n      <td>4.38</td>\n      <td>1.05</td>\n      <td>3.40</td>\n      <td>1050</td>\n      <td>0</td>\n    </tr>\n    <tr>\n      <th>2</th>\n      <td>13.16</td>\n      <td>2.36</td>\n      <td>2.67</td>\n      <td>18.6</td>\n      <td>101</td>\n      <td>2.80</td>\n      <td>3.24</td>\n      <td>0.30</td>\n      <td>2.81</td>\n      <td>5.68</td>\n      <td>1.03</td>\n      <td>3.17</td>\n      <td>1185</td>\n      <td>0</td>\n    </tr>\n    <tr>\n      <th>3</th>\n      <td>14.37</td>\n      <td>1.95</td>\n      <td>2.50</td>\n      <td>16.8</td>\n      <td>113</td>\n      <td>3.85</td>\n      <td>3.49</td>\n      <td>0.24</td>\n      <td>2.18</td>\n      <td>7.80</td>\n      <td>0.86</td>\n      <td>3.45</td>\n      <td>1480</td>\n      <td>0</td>\n    </tr>\n    <tr>\n      <th>4</th>\n      <td>13.24</td>\n      <td>2.59</td>\n      <td>2.87</td>\n      <td>21.0</td>\n      <td>118</td>\n      <td>2.80</td>\n      <td>2.69</td>\n      <td>0.39</td>\n      <td>1.82</td>\n      <td>4.32</td>\n      <td>1.04</td>\n      <td>2.93</td>\n      <td>735</td>\n      <td>0</td>\n    </tr>\n    <tr>\n      <th>...</th>\n      <td>...</td>\n      <td>...</td>\n      <td>...</td>\n      <td>...</td>\n      <td>...</td>\n      <td>...</td>\n      <td>...</td>\n      <td>...</td>\n      <td>...</td>\n      <td>...</td>\n      <td>...</td>\n      <td>...</td>\n      <td>...</td>\n      <td>...</td>\n    </tr>\n    <tr>\n      <th>173</th>\n      <td>13.71</td>\n      <td>5.65</td>\n      <td>2.45</td>\n      <td>20.5</td>\n      <td>95</td>\n      <td>1.68</td>\n      <td>0.61</td>\n      <td>0.52</td>\n      <td>1.06</td>\n      <td>7.70</td>\n      <td>0.64</td>\n      <td>1.74</td>\n      <td>740</td>\n      <td>2</td>\n    </tr>\n    <tr>\n      <th>174</th>\n      <td>13.40</td>\n      <td>3.91</td>\n      <td>2.48</td>\n      <td>23.0</td>\n      <td>102</td>\n      <td>1.80</td>\n      <td>0.75</td>\n      <td>0.43</td>\n      <td>1.41</td>\n      <td>7.30</td>\n      <td>0.70</td>\n      <td>1.56</td>\n      <td>750</td>\n      <td>2</td>\n    </tr>\n    <tr>\n      <th>175</th>\n      <td>13.27</td>\n      <td>4.28</td>\n      <td>2.26</td>\n      <td>20.0</td>\n      <td>120</td>\n      <td>1.59</td>\n      <td>0.69</td>\n      <td>0.43</td>\n      <td>1.35</td>\n      <td>10.20</td>\n      <td>0.59</td>\n      <td>1.56</td>\n      <td>835</td>\n      <td>2</td>\n    </tr>\n    <tr>\n      <th>176</th>\n      <td>13.17</td>\n      <td>2.59</td>\n      <td>2.37</td>\n      <td>20.0</td>\n      <td>120</td>\n      <td>1.65</td>\n      <td>0.68</td>\n      <td>0.53</td>\n      <td>1.46</td>\n      <td>9.30</td>\n      <td>0.60</td>\n      <td>1.62</td>\n      <td>840</td>\n      <td>2</td>\n    </tr>\n    <tr>\n      <th>177</th>\n      <td>14.13</td>\n      <td>4.10</td>\n      <td>2.74</td>\n      <td>24.5</td>\n      <td>96</td>\n      <td>2.05</td>\n      <td>0.76</td>\n      <td>0.56</td>\n      <td>1.35</td>\n      <td>9.20</td>\n      <td>0.61</td>\n      <td>1.60</td>\n      <td>560</td>\n      <td>2</td>\n    </tr>\n  </tbody>\n</table>\n<p>178 rows × 14 columns</p>\n</div>"
     },
     "execution_count": 23,
     "metadata": {},
     "output_type": "execute_result"
    }
   ],
   "source": [
    "# 방식3 결측값 채우기\n",
    "data.fillna(-99) # 결측치를 -99로 대체"
   ],
   "metadata": {
    "collapsed": false,
    "pycharm": {
     "name": "#%%\n"
    }
   }
  },
  {
   "cell_type": "code",
   "execution_count": 24,
   "outputs": [
    {
     "data": {
      "text/plain": "       alcohol  malic_acid   ash  alcalinity_of_ash  magnesium  total_phenols   \n0    14.230000        1.71  2.43               15.6        127           2.80  \\\n1    12.989091        1.78  2.14               11.2        100           2.65   \n2    13.160000        2.36  2.67               18.6        101           2.80   \n3    14.370000        1.95  2.50               16.8        113           3.85   \n4    13.240000        2.59  2.87               21.0        118           2.80   \n..         ...         ...   ...                ...        ...            ...   \n173  13.710000        5.65  2.45               20.5         95           1.68   \n174  13.400000        3.91  2.48               23.0        102           1.80   \n175  13.270000        4.28  2.26               20.0        120           1.59   \n176  13.170000        2.59  2.37               20.0        120           1.65   \n177  14.130000        4.10  2.74               24.5         96           2.05   \n\n     flavanoids  nonflavanoid_phenols  proanthocyanins  color_intensity   hue   \n0          3.06                  0.28             2.29             5.64  1.04  \\\n1          2.76                  0.26             1.28             4.38  1.05   \n2          3.24                  0.30             2.81             5.68  1.03   \n3          3.49                  0.24             2.18             7.80  0.86   \n4          2.69                  0.39             1.82             4.32  1.04   \n..          ...                   ...              ...              ...   ...   \n173        0.61                  0.52             1.06             7.70  0.64   \n174        0.75                  0.43             1.41             7.30  0.70   \n175        0.69                  0.43             1.35            10.20  0.59   \n176        0.68                  0.53             1.46             9.30  0.60   \n177        0.76                  0.56             1.35             9.20  0.61   \n\n     od280/od315_of_diluted_wines  proline  class  \n0                            3.92     1065      0  \n1                            3.40     1050      0  \n2                            3.17     1185      0  \n3                            3.45     1480      0  \n4                            2.93      735      0  \n..                            ...      ...    ...  \n173                          1.74      740      2  \n174                          1.56      750      2  \n175                          1.56      835      2  \n176                          1.62      840      2  \n177                          1.60      560      2  \n\n[178 rows x 14 columns]",
      "text/html": "<div>\n<style scoped>\n    .dataframe tbody tr th:only-of-type {\n        vertical-align: middle;\n    }\n\n    .dataframe tbody tr th {\n        vertical-align: top;\n    }\n\n    .dataframe thead th {\n        text-align: right;\n    }\n</style>\n<table border=\"1\" class=\"dataframe\">\n  <thead>\n    <tr style=\"text-align: right;\">\n      <th></th>\n      <th>alcohol</th>\n      <th>malic_acid</th>\n      <th>ash</th>\n      <th>alcalinity_of_ash</th>\n      <th>magnesium</th>\n      <th>total_phenols</th>\n      <th>flavanoids</th>\n      <th>nonflavanoid_phenols</th>\n      <th>proanthocyanins</th>\n      <th>color_intensity</th>\n      <th>hue</th>\n      <th>od280/od315_of_diluted_wines</th>\n      <th>proline</th>\n      <th>class</th>\n    </tr>\n  </thead>\n  <tbody>\n    <tr>\n      <th>0</th>\n      <td>14.230000</td>\n      <td>1.71</td>\n      <td>2.43</td>\n      <td>15.6</td>\n      <td>127</td>\n      <td>2.80</td>\n      <td>3.06</td>\n      <td>0.28</td>\n      <td>2.29</td>\n      <td>5.64</td>\n      <td>1.04</td>\n      <td>3.92</td>\n      <td>1065</td>\n      <td>0</td>\n    </tr>\n    <tr>\n      <th>1</th>\n      <td>12.989091</td>\n      <td>1.78</td>\n      <td>2.14</td>\n      <td>11.2</td>\n      <td>100</td>\n      <td>2.65</td>\n      <td>2.76</td>\n      <td>0.26</td>\n      <td>1.28</td>\n      <td>4.38</td>\n      <td>1.05</td>\n      <td>3.40</td>\n      <td>1050</td>\n      <td>0</td>\n    </tr>\n    <tr>\n      <th>2</th>\n      <td>13.160000</td>\n      <td>2.36</td>\n      <td>2.67</td>\n      <td>18.6</td>\n      <td>101</td>\n      <td>2.80</td>\n      <td>3.24</td>\n      <td>0.30</td>\n      <td>2.81</td>\n      <td>5.68</td>\n      <td>1.03</td>\n      <td>3.17</td>\n      <td>1185</td>\n      <td>0</td>\n    </tr>\n    <tr>\n      <th>3</th>\n      <td>14.370000</td>\n      <td>1.95</td>\n      <td>2.50</td>\n      <td>16.8</td>\n      <td>113</td>\n      <td>3.85</td>\n      <td>3.49</td>\n      <td>0.24</td>\n      <td>2.18</td>\n      <td>7.80</td>\n      <td>0.86</td>\n      <td>3.45</td>\n      <td>1480</td>\n      <td>0</td>\n    </tr>\n    <tr>\n      <th>4</th>\n      <td>13.240000</td>\n      <td>2.59</td>\n      <td>2.87</td>\n      <td>21.0</td>\n      <td>118</td>\n      <td>2.80</td>\n      <td>2.69</td>\n      <td>0.39</td>\n      <td>1.82</td>\n      <td>4.32</td>\n      <td>1.04</td>\n      <td>2.93</td>\n      <td>735</td>\n      <td>0</td>\n    </tr>\n    <tr>\n      <th>...</th>\n      <td>...</td>\n      <td>...</td>\n      <td>...</td>\n      <td>...</td>\n      <td>...</td>\n      <td>...</td>\n      <td>...</td>\n      <td>...</td>\n      <td>...</td>\n      <td>...</td>\n      <td>...</td>\n      <td>...</td>\n      <td>...</td>\n      <td>...</td>\n    </tr>\n    <tr>\n      <th>173</th>\n      <td>13.710000</td>\n      <td>5.65</td>\n      <td>2.45</td>\n      <td>20.5</td>\n      <td>95</td>\n      <td>1.68</td>\n      <td>0.61</td>\n      <td>0.52</td>\n      <td>1.06</td>\n      <td>7.70</td>\n      <td>0.64</td>\n      <td>1.74</td>\n      <td>740</td>\n      <td>2</td>\n    </tr>\n    <tr>\n      <th>174</th>\n      <td>13.400000</td>\n      <td>3.91</td>\n      <td>2.48</td>\n      <td>23.0</td>\n      <td>102</td>\n      <td>1.80</td>\n      <td>0.75</td>\n      <td>0.43</td>\n      <td>1.41</td>\n      <td>7.30</td>\n      <td>0.70</td>\n      <td>1.56</td>\n      <td>750</td>\n      <td>2</td>\n    </tr>\n    <tr>\n      <th>175</th>\n      <td>13.270000</td>\n      <td>4.28</td>\n      <td>2.26</td>\n      <td>20.0</td>\n      <td>120</td>\n      <td>1.59</td>\n      <td>0.69</td>\n      <td>0.43</td>\n      <td>1.35</td>\n      <td>10.20</td>\n      <td>0.59</td>\n      <td>1.56</td>\n      <td>835</td>\n      <td>2</td>\n    </tr>\n    <tr>\n      <th>176</th>\n      <td>13.170000</td>\n      <td>2.59</td>\n      <td>2.37</td>\n      <td>20.0</td>\n      <td>120</td>\n      <td>1.65</td>\n      <td>0.68</td>\n      <td>0.53</td>\n      <td>1.46</td>\n      <td>9.30</td>\n      <td>0.60</td>\n      <td>1.62</td>\n      <td>840</td>\n      <td>2</td>\n    </tr>\n    <tr>\n      <th>177</th>\n      <td>14.130000</td>\n      <td>4.10</td>\n      <td>2.74</td>\n      <td>24.5</td>\n      <td>96</td>\n      <td>2.05</td>\n      <td>0.76</td>\n      <td>0.56</td>\n      <td>1.35</td>\n      <td>9.20</td>\n      <td>0.61</td>\n      <td>1.60</td>\n      <td>560</td>\n      <td>2</td>\n    </tr>\n  </tbody>\n</table>\n<p>178 rows × 14 columns</p>\n</div>"
     },
     "execution_count": 24,
     "metadata": {},
     "output_type": "execute_result"
    }
   ],
   "source": [
    "data.fillna(data.mean())"
   ],
   "metadata": {
    "collapsed": false,
    "pycharm": {
     "name": "#%%\n"
    }
   }
  },
  {
   "cell_type": "code",
   "execution_count": 25,
   "outputs": [],
   "source": [
    "data.fillna(data.median(), inplace= True) # 결측치를 중위값으로 대체"
   ],
   "metadata": {
    "collapsed": false,
    "pycharm": {
     "name": "#%%\n"
    }
   }
  },
  {
   "cell_type": "code",
   "execution_count": 26,
   "outputs": [
    {
     "data": {
      "text/plain": "alcohol                         0.0\nmalic_acid                      0.0\nash                             0.0\nalcalinity_of_ash               0.0\nmagnesium                       0.0\ntotal_phenols                   0.0\nflavanoids                      0.0\nnonflavanoid_phenols            0.0\nproanthocyanins                 0.0\ncolor_intensity                 0.0\nhue                             0.0\nod280/od315_of_diluted_wines    0.0\nproline                         0.0\nclass                           0.0\ndtype: float64"
     },
     "execution_count": 26,
     "metadata": {},
     "output_type": "execute_result"
    }
   ],
   "source": [
    "data.isna().mean()"
   ],
   "metadata": {
    "collapsed": false,
    "pycharm": {
     "name": "#%%\n"
    }
   }
  },
  {
   "cell_type": "markdown",
   "source": [
    "## 스케일링"
   ],
   "metadata": {
    "collapsed": false,
    "pycharm": {
     "name": "#%% md\n"
    }
   }
  },
  {
   "cell_type": "code",
   "execution_count": 28,
   "outputs": [],
   "source": [
    "# 표준화 스케일링\n",
    "st_scaler = StandardScaler()"
   ],
   "metadata": {
    "collapsed": false,
    "pycharm": {
     "name": "#%%\n"
    }
   }
  },
  {
   "cell_type": "code",
   "execution_count": 29,
   "outputs": [
    {
     "data": {
      "text/plain": "StandardScaler()",
      "text/html": "<style>#sk-container-id-1 {color: black;background-color: white;}#sk-container-id-1 pre{padding: 0;}#sk-container-id-1 div.sk-toggleable {background-color: white;}#sk-container-id-1 label.sk-toggleable__label {cursor: pointer;display: block;width: 100%;margin-bottom: 0;padding: 0.3em;box-sizing: border-box;text-align: center;}#sk-container-id-1 label.sk-toggleable__label-arrow:before {content: \"▸\";float: left;margin-right: 0.25em;color: #696969;}#sk-container-id-1 label.sk-toggleable__label-arrow:hover:before {color: black;}#sk-container-id-1 div.sk-estimator:hover label.sk-toggleable__label-arrow:before {color: black;}#sk-container-id-1 div.sk-toggleable__content {max-height: 0;max-width: 0;overflow: hidden;text-align: left;background-color: #f0f8ff;}#sk-container-id-1 div.sk-toggleable__content pre {margin: 0.2em;color: black;border-radius: 0.25em;background-color: #f0f8ff;}#sk-container-id-1 input.sk-toggleable__control:checked~div.sk-toggleable__content {max-height: 200px;max-width: 100%;overflow: auto;}#sk-container-id-1 input.sk-toggleable__control:checked~label.sk-toggleable__label-arrow:before {content: \"▾\";}#sk-container-id-1 div.sk-estimator input.sk-toggleable__control:checked~label.sk-toggleable__label {background-color: #d4ebff;}#sk-container-id-1 div.sk-label input.sk-toggleable__control:checked~label.sk-toggleable__label {background-color: #d4ebff;}#sk-container-id-1 input.sk-hidden--visually {border: 0;clip: rect(1px 1px 1px 1px);clip: rect(1px, 1px, 1px, 1px);height: 1px;margin: -1px;overflow: hidden;padding: 0;position: absolute;width: 1px;}#sk-container-id-1 div.sk-estimator {font-family: monospace;background-color: #f0f8ff;border: 1px dotted black;border-radius: 0.25em;box-sizing: border-box;margin-bottom: 0.5em;}#sk-container-id-1 div.sk-estimator:hover {background-color: #d4ebff;}#sk-container-id-1 div.sk-parallel-item::after {content: \"\";width: 100%;border-bottom: 1px solid gray;flex-grow: 1;}#sk-container-id-1 div.sk-label:hover label.sk-toggleable__label {background-color: #d4ebff;}#sk-container-id-1 div.sk-serial::before {content: \"\";position: absolute;border-left: 1px solid gray;box-sizing: border-box;top: 0;bottom: 0;left: 50%;z-index: 0;}#sk-container-id-1 div.sk-serial {display: flex;flex-direction: column;align-items: center;background-color: white;padding-right: 0.2em;padding-left: 0.2em;position: relative;}#sk-container-id-1 div.sk-item {position: relative;z-index: 1;}#sk-container-id-1 div.sk-parallel {display: flex;align-items: stretch;justify-content: center;background-color: white;position: relative;}#sk-container-id-1 div.sk-item::before, #sk-container-id-1 div.sk-parallel-item::before {content: \"\";position: absolute;border-left: 1px solid gray;box-sizing: border-box;top: 0;bottom: 0;left: 50%;z-index: -1;}#sk-container-id-1 div.sk-parallel-item {display: flex;flex-direction: column;z-index: 1;position: relative;background-color: white;}#sk-container-id-1 div.sk-parallel-item:first-child::after {align-self: flex-end;width: 50%;}#sk-container-id-1 div.sk-parallel-item:last-child::after {align-self: flex-start;width: 50%;}#sk-container-id-1 div.sk-parallel-item:only-child::after {width: 0;}#sk-container-id-1 div.sk-dashed-wrapped {border: 1px dashed gray;margin: 0 0.4em 0.5em 0.4em;box-sizing: border-box;padding-bottom: 0.4em;background-color: white;}#sk-container-id-1 div.sk-label label {font-family: monospace;font-weight: bold;display: inline-block;line-height: 1.2em;}#sk-container-id-1 div.sk-label-container {text-align: center;}#sk-container-id-1 div.sk-container {/* jupyter's `normalize.less` sets `[hidden] { display: none; }` but bootstrap.min.css set `[hidden] { display: none !important; }` so we also need the `!important` here to be able to override the default hidden behavior on the sphinx rendered scikit-learn.org. See: https://github.com/scikit-learn/scikit-learn/issues/21755 */display: inline-block !important;position: relative;}#sk-container-id-1 div.sk-text-repr-fallback {display: none;}</style><div id=\"sk-container-id-1\" class=\"sk-top-container\"><div class=\"sk-text-repr-fallback\"><pre>StandardScaler()</pre><b>In a Jupyter environment, please rerun this cell to show the HTML representation or trust the notebook. <br />On GitHub, the HTML representation is unable to render, please try loading this page with nbviewer.org.</b></div><div class=\"sk-container\" hidden><div class=\"sk-item\"><div class=\"sk-estimator sk-toggleable\"><input class=\"sk-toggleable__control sk-hidden--visually\" id=\"sk-estimator-id-1\" type=\"checkbox\" checked><label for=\"sk-estimator-id-1\" class=\"sk-toggleable__label sk-toggleable__label-arrow\">StandardScaler</label><div class=\"sk-toggleable__content\"><pre>StandardScaler()</pre></div></div></div></div></div>"
     },
     "execution_count": 29,
     "metadata": {},
     "output_type": "execute_result"
    }
   ],
   "source": [
    "st_scaler.fit(data)"
   ],
   "metadata": {
    "collapsed": false,
    "pycharm": {
     "name": "#%%\n"
    }
   }
  },
  {
   "cell_type": "code",
   "execution_count": 30,
   "outputs": [],
   "source": [
    "st_scaled = st_scaler.transform(data)"
   ],
   "metadata": {
    "collapsed": false,
    "pycharm": {
     "name": "#%%\n"
    }
   }
  },
  {
   "cell_type": "code",
   "execution_count": 31,
   "outputs": [
    {
     "data": {
      "text/plain": "array([[ 1.55484903, -0.5622498 ,  0.23205254, ...,  1.84791957,\n         1.01300893, -1.21394365],\n       [ 0.07550273, -0.49941338, -0.82799632, ...,  1.1134493 ,\n         0.96524152, -1.21394365],\n       [ 0.21340789,  0.02123125,  1.10933436, ...,  0.78858745,\n         1.39514818, -1.21394365],\n       ...,\n       [ 0.35131305,  1.74474449, -0.38935541, ..., -1.48544548,\n         0.28057537,  1.37386437],\n       [ 0.22594472,  0.22769377,  0.01273209, ..., -1.40069891,\n         0.29649784,  1.37386437],\n       [ 1.4294807 ,  1.58316512,  1.36520822, ..., -1.42894777,\n        -0.59516041,  1.37386437]])"
     },
     "execution_count": 31,
     "metadata": {},
     "output_type": "execute_result"
    }
   ],
   "source": [
    "st_scaled # 스케일링 된 데이터 확인"
   ],
   "metadata": {
    "collapsed": false,
    "pycharm": {
     "name": "#%%\n"
    }
   }
  },
  {
   "cell_type": "code",
   "execution_count": 32,
   "outputs": [
    {
     "data": {
      "text/plain": "           0         1         2         3         4         5         6    \n0    1.554849 -0.562250  0.232053 -1.169593  1.913905  0.808997  1.034819  \\\n1    0.075503 -0.499413 -0.827996 -2.490847  0.018145  0.568648  0.733629   \n2    0.213408  0.021231  1.109334 -0.268738  0.088358  0.808997  1.215533   \n3    1.730365 -0.346811  0.487926 -0.809251  0.930918  2.491446  1.466525   \n4    0.313703  0.227694  1.840403  0.451946  1.281985  0.808997  0.663351   \n..        ...       ...       ...       ...       ...       ...       ...   \n173  0.902934  2.974543  0.305159  0.301803 -0.332922 -0.985614 -1.424900   \n174  0.514292  1.412609  0.414820  1.052516  0.158572 -0.793334 -1.284344   \n175  0.351313  1.744744 -0.389355  0.151661  1.422412 -1.129824 -1.344582   \n176  0.225945  0.227694  0.012732  0.151661  1.422412 -1.033684 -1.354622   \n177  1.429481  1.583165  1.365208  1.502943 -0.262708 -0.392751 -1.274305   \n\n           7         8         9         10        11        12        13  \n0   -0.658865  1.224884  0.251717  0.362177  1.847920  1.013009 -1.213944  \n1   -0.820072 -0.544721 -0.293321  0.406051  1.113449  0.965242 -1.213944  \n2   -0.497658  2.135968  0.269020  0.318304  0.788587  1.395148 -1.213944  \n3   -0.981279  1.032155  1.186068 -0.427544  1.184071  2.334574 -1.213944  \n4    0.227773  0.401404 -0.319276  0.362177  0.449601 -0.037874 -1.213944  \n..        ...       ...       ...       ...       ...       ...       ...  \n173  1.275618 -0.930179  1.142811 -1.392758 -1.231206 -0.021952  1.373864  \n174  0.550187 -0.316950  0.969783 -1.129518 -1.485445  0.009893  1.373864  \n175  0.550187 -0.422075  2.224236 -1.612125 -1.485445  0.280575  1.373864  \n176  1.356221 -0.229346  1.834923 -1.568252 -1.400699  0.296498  1.373864  \n177  1.598032 -0.422075  1.791666 -1.524378 -1.428948 -0.595160  1.373864  \n\n[178 rows x 14 columns]",
      "text/html": "<div>\n<style scoped>\n    .dataframe tbody tr th:only-of-type {\n        vertical-align: middle;\n    }\n\n    .dataframe tbody tr th {\n        vertical-align: top;\n    }\n\n    .dataframe thead th {\n        text-align: right;\n    }\n</style>\n<table border=\"1\" class=\"dataframe\">\n  <thead>\n    <tr style=\"text-align: right;\">\n      <th></th>\n      <th>0</th>\n      <th>1</th>\n      <th>2</th>\n      <th>3</th>\n      <th>4</th>\n      <th>5</th>\n      <th>6</th>\n      <th>7</th>\n      <th>8</th>\n      <th>9</th>\n      <th>10</th>\n      <th>11</th>\n      <th>12</th>\n      <th>13</th>\n    </tr>\n  </thead>\n  <tbody>\n    <tr>\n      <th>0</th>\n      <td>1.554849</td>\n      <td>-0.562250</td>\n      <td>0.232053</td>\n      <td>-1.169593</td>\n      <td>1.913905</td>\n      <td>0.808997</td>\n      <td>1.034819</td>\n      <td>-0.658865</td>\n      <td>1.224884</td>\n      <td>0.251717</td>\n      <td>0.362177</td>\n      <td>1.847920</td>\n      <td>1.013009</td>\n      <td>-1.213944</td>\n    </tr>\n    <tr>\n      <th>1</th>\n      <td>0.075503</td>\n      <td>-0.499413</td>\n      <td>-0.827996</td>\n      <td>-2.490847</td>\n      <td>0.018145</td>\n      <td>0.568648</td>\n      <td>0.733629</td>\n      <td>-0.820072</td>\n      <td>-0.544721</td>\n      <td>-0.293321</td>\n      <td>0.406051</td>\n      <td>1.113449</td>\n      <td>0.965242</td>\n      <td>-1.213944</td>\n    </tr>\n    <tr>\n      <th>2</th>\n      <td>0.213408</td>\n      <td>0.021231</td>\n      <td>1.109334</td>\n      <td>-0.268738</td>\n      <td>0.088358</td>\n      <td>0.808997</td>\n      <td>1.215533</td>\n      <td>-0.497658</td>\n      <td>2.135968</td>\n      <td>0.269020</td>\n      <td>0.318304</td>\n      <td>0.788587</td>\n      <td>1.395148</td>\n      <td>-1.213944</td>\n    </tr>\n    <tr>\n      <th>3</th>\n      <td>1.730365</td>\n      <td>-0.346811</td>\n      <td>0.487926</td>\n      <td>-0.809251</td>\n      <td>0.930918</td>\n      <td>2.491446</td>\n      <td>1.466525</td>\n      <td>-0.981279</td>\n      <td>1.032155</td>\n      <td>1.186068</td>\n      <td>-0.427544</td>\n      <td>1.184071</td>\n      <td>2.334574</td>\n      <td>-1.213944</td>\n    </tr>\n    <tr>\n      <th>4</th>\n      <td>0.313703</td>\n      <td>0.227694</td>\n      <td>1.840403</td>\n      <td>0.451946</td>\n      <td>1.281985</td>\n      <td>0.808997</td>\n      <td>0.663351</td>\n      <td>0.227773</td>\n      <td>0.401404</td>\n      <td>-0.319276</td>\n      <td>0.362177</td>\n      <td>0.449601</td>\n      <td>-0.037874</td>\n      <td>-1.213944</td>\n    </tr>\n    <tr>\n      <th>...</th>\n      <td>...</td>\n      <td>...</td>\n      <td>...</td>\n      <td>...</td>\n      <td>...</td>\n      <td>...</td>\n      <td>...</td>\n      <td>...</td>\n      <td>...</td>\n      <td>...</td>\n      <td>...</td>\n      <td>...</td>\n      <td>...</td>\n      <td>...</td>\n    </tr>\n    <tr>\n      <th>173</th>\n      <td>0.902934</td>\n      <td>2.974543</td>\n      <td>0.305159</td>\n      <td>0.301803</td>\n      <td>-0.332922</td>\n      <td>-0.985614</td>\n      <td>-1.424900</td>\n      <td>1.275618</td>\n      <td>-0.930179</td>\n      <td>1.142811</td>\n      <td>-1.392758</td>\n      <td>-1.231206</td>\n      <td>-0.021952</td>\n      <td>1.373864</td>\n    </tr>\n    <tr>\n      <th>174</th>\n      <td>0.514292</td>\n      <td>1.412609</td>\n      <td>0.414820</td>\n      <td>1.052516</td>\n      <td>0.158572</td>\n      <td>-0.793334</td>\n      <td>-1.284344</td>\n      <td>0.550187</td>\n      <td>-0.316950</td>\n      <td>0.969783</td>\n      <td>-1.129518</td>\n      <td>-1.485445</td>\n      <td>0.009893</td>\n      <td>1.373864</td>\n    </tr>\n    <tr>\n      <th>175</th>\n      <td>0.351313</td>\n      <td>1.744744</td>\n      <td>-0.389355</td>\n      <td>0.151661</td>\n      <td>1.422412</td>\n      <td>-1.129824</td>\n      <td>-1.344582</td>\n      <td>0.550187</td>\n      <td>-0.422075</td>\n      <td>2.224236</td>\n      <td>-1.612125</td>\n      <td>-1.485445</td>\n      <td>0.280575</td>\n      <td>1.373864</td>\n    </tr>\n    <tr>\n      <th>176</th>\n      <td>0.225945</td>\n      <td>0.227694</td>\n      <td>0.012732</td>\n      <td>0.151661</td>\n      <td>1.422412</td>\n      <td>-1.033684</td>\n      <td>-1.354622</td>\n      <td>1.356221</td>\n      <td>-0.229346</td>\n      <td>1.834923</td>\n      <td>-1.568252</td>\n      <td>-1.400699</td>\n      <td>0.296498</td>\n      <td>1.373864</td>\n    </tr>\n    <tr>\n      <th>177</th>\n      <td>1.429481</td>\n      <td>1.583165</td>\n      <td>1.365208</td>\n      <td>1.502943</td>\n      <td>-0.262708</td>\n      <td>-0.392751</td>\n      <td>-1.274305</td>\n      <td>1.598032</td>\n      <td>-0.422075</td>\n      <td>1.791666</td>\n      <td>-1.524378</td>\n      <td>-1.428948</td>\n      <td>-0.595160</td>\n      <td>1.373864</td>\n    </tr>\n  </tbody>\n</table>\n<p>178 rows × 14 columns</p>\n</div>"
     },
     "execution_count": 32,
     "metadata": {},
     "output_type": "execute_result"
    }
   ],
   "source": [
    "pd.DataFrame(st_scaled)"
   ],
   "metadata": {
    "collapsed": false,
    "pycharm": {
     "name": "#%%\n"
    }
   }
  },
  {
   "cell_type": "code",
   "execution_count": 34,
   "outputs": [
    {
     "data": {
      "text/plain": "      alcohol  malic_acid       ash  alcalinity_of_ash  magnesium   \n0    1.554849   -0.562250  0.232053          -1.169593   1.913905  \\\n1    0.075503   -0.499413 -0.827996          -2.490847   0.018145   \n2    0.213408    0.021231  1.109334          -0.268738   0.088358   \n3    1.730365   -0.346811  0.487926          -0.809251   0.930918   \n4    0.313703    0.227694  1.840403           0.451946   1.281985   \n..        ...         ...       ...                ...        ...   \n173  0.902934    2.974543  0.305159           0.301803  -0.332922   \n174  0.514292    1.412609  0.414820           1.052516   0.158572   \n175  0.351313    1.744744 -0.389355           0.151661   1.422412   \n176  0.225945    0.227694  0.012732           0.151661   1.422412   \n177  1.429481    1.583165  1.365208           1.502943  -0.262708   \n\n     total_phenols  flavanoids  nonflavanoid_phenols  proanthocyanins   \n0         0.808997    1.034819             -0.658865         1.224884  \\\n1         0.568648    0.733629             -0.820072        -0.544721   \n2         0.808997    1.215533             -0.497658         2.135968   \n3         2.491446    1.466525             -0.981279         1.032155   \n4         0.808997    0.663351              0.227773         0.401404   \n..             ...         ...                   ...              ...   \n173      -0.985614   -1.424900              1.275618        -0.930179   \n174      -0.793334   -1.284344              0.550187        -0.316950   \n175      -1.129824   -1.344582              0.550187        -0.422075   \n176      -1.033684   -1.354622              1.356221        -0.229346   \n177      -0.392751   -1.274305              1.598032        -0.422075   \n\n     color_intensity       hue  od280/od315_of_diluted_wines   proline   \n0           0.251717  0.362177                      1.847920  1.013009  \\\n1          -0.293321  0.406051                      1.113449  0.965242   \n2           0.269020  0.318304                      0.788587  1.395148   \n3           1.186068 -0.427544                      1.184071  2.334574   \n4          -0.319276  0.362177                      0.449601 -0.037874   \n..               ...       ...                           ...       ...   \n173         1.142811 -1.392758                     -1.231206 -0.021952   \n174         0.969783 -1.129518                     -1.485445  0.009893   \n175         2.224236 -1.612125                     -1.485445  0.280575   \n176         1.834923 -1.568252                     -1.400699  0.296498   \n177         1.791666 -1.524378                     -1.428948 -0.595160   \n\n        class  \n0   -1.213944  \n1   -1.213944  \n2   -1.213944  \n3   -1.213944  \n4   -1.213944  \n..        ...  \n173  1.373864  \n174  1.373864  \n175  1.373864  \n176  1.373864  \n177  1.373864  \n\n[178 rows x 14 columns]",
      "text/html": "<div>\n<style scoped>\n    .dataframe tbody tr th:only-of-type {\n        vertical-align: middle;\n    }\n\n    .dataframe tbody tr th {\n        vertical-align: top;\n    }\n\n    .dataframe thead th {\n        text-align: right;\n    }\n</style>\n<table border=\"1\" class=\"dataframe\">\n  <thead>\n    <tr style=\"text-align: right;\">\n      <th></th>\n      <th>alcohol</th>\n      <th>malic_acid</th>\n      <th>ash</th>\n      <th>alcalinity_of_ash</th>\n      <th>magnesium</th>\n      <th>total_phenols</th>\n      <th>flavanoids</th>\n      <th>nonflavanoid_phenols</th>\n      <th>proanthocyanins</th>\n      <th>color_intensity</th>\n      <th>hue</th>\n      <th>od280/od315_of_diluted_wines</th>\n      <th>proline</th>\n      <th>class</th>\n    </tr>\n  </thead>\n  <tbody>\n    <tr>\n      <th>0</th>\n      <td>1.554849</td>\n      <td>-0.562250</td>\n      <td>0.232053</td>\n      <td>-1.169593</td>\n      <td>1.913905</td>\n      <td>0.808997</td>\n      <td>1.034819</td>\n      <td>-0.658865</td>\n      <td>1.224884</td>\n      <td>0.251717</td>\n      <td>0.362177</td>\n      <td>1.847920</td>\n      <td>1.013009</td>\n      <td>-1.213944</td>\n    </tr>\n    <tr>\n      <th>1</th>\n      <td>0.075503</td>\n      <td>-0.499413</td>\n      <td>-0.827996</td>\n      <td>-2.490847</td>\n      <td>0.018145</td>\n      <td>0.568648</td>\n      <td>0.733629</td>\n      <td>-0.820072</td>\n      <td>-0.544721</td>\n      <td>-0.293321</td>\n      <td>0.406051</td>\n      <td>1.113449</td>\n      <td>0.965242</td>\n      <td>-1.213944</td>\n    </tr>\n    <tr>\n      <th>2</th>\n      <td>0.213408</td>\n      <td>0.021231</td>\n      <td>1.109334</td>\n      <td>-0.268738</td>\n      <td>0.088358</td>\n      <td>0.808997</td>\n      <td>1.215533</td>\n      <td>-0.497658</td>\n      <td>2.135968</td>\n      <td>0.269020</td>\n      <td>0.318304</td>\n      <td>0.788587</td>\n      <td>1.395148</td>\n      <td>-1.213944</td>\n    </tr>\n    <tr>\n      <th>3</th>\n      <td>1.730365</td>\n      <td>-0.346811</td>\n      <td>0.487926</td>\n      <td>-0.809251</td>\n      <td>0.930918</td>\n      <td>2.491446</td>\n      <td>1.466525</td>\n      <td>-0.981279</td>\n      <td>1.032155</td>\n      <td>1.186068</td>\n      <td>-0.427544</td>\n      <td>1.184071</td>\n      <td>2.334574</td>\n      <td>-1.213944</td>\n    </tr>\n    <tr>\n      <th>4</th>\n      <td>0.313703</td>\n      <td>0.227694</td>\n      <td>1.840403</td>\n      <td>0.451946</td>\n      <td>1.281985</td>\n      <td>0.808997</td>\n      <td>0.663351</td>\n      <td>0.227773</td>\n      <td>0.401404</td>\n      <td>-0.319276</td>\n      <td>0.362177</td>\n      <td>0.449601</td>\n      <td>-0.037874</td>\n      <td>-1.213944</td>\n    </tr>\n    <tr>\n      <th>...</th>\n      <td>...</td>\n      <td>...</td>\n      <td>...</td>\n      <td>...</td>\n      <td>...</td>\n      <td>...</td>\n      <td>...</td>\n      <td>...</td>\n      <td>...</td>\n      <td>...</td>\n      <td>...</td>\n      <td>...</td>\n      <td>...</td>\n      <td>...</td>\n    </tr>\n    <tr>\n      <th>173</th>\n      <td>0.902934</td>\n      <td>2.974543</td>\n      <td>0.305159</td>\n      <td>0.301803</td>\n      <td>-0.332922</td>\n      <td>-0.985614</td>\n      <td>-1.424900</td>\n      <td>1.275618</td>\n      <td>-0.930179</td>\n      <td>1.142811</td>\n      <td>-1.392758</td>\n      <td>-1.231206</td>\n      <td>-0.021952</td>\n      <td>1.373864</td>\n    </tr>\n    <tr>\n      <th>174</th>\n      <td>0.514292</td>\n      <td>1.412609</td>\n      <td>0.414820</td>\n      <td>1.052516</td>\n      <td>0.158572</td>\n      <td>-0.793334</td>\n      <td>-1.284344</td>\n      <td>0.550187</td>\n      <td>-0.316950</td>\n      <td>0.969783</td>\n      <td>-1.129518</td>\n      <td>-1.485445</td>\n      <td>0.009893</td>\n      <td>1.373864</td>\n    </tr>\n    <tr>\n      <th>175</th>\n      <td>0.351313</td>\n      <td>1.744744</td>\n      <td>-0.389355</td>\n      <td>0.151661</td>\n      <td>1.422412</td>\n      <td>-1.129824</td>\n      <td>-1.344582</td>\n      <td>0.550187</td>\n      <td>-0.422075</td>\n      <td>2.224236</td>\n      <td>-1.612125</td>\n      <td>-1.485445</td>\n      <td>0.280575</td>\n      <td>1.373864</td>\n    </tr>\n    <tr>\n      <th>176</th>\n      <td>0.225945</td>\n      <td>0.227694</td>\n      <td>0.012732</td>\n      <td>0.151661</td>\n      <td>1.422412</td>\n      <td>-1.033684</td>\n      <td>-1.354622</td>\n      <td>1.356221</td>\n      <td>-0.229346</td>\n      <td>1.834923</td>\n      <td>-1.568252</td>\n      <td>-1.400699</td>\n      <td>0.296498</td>\n      <td>1.373864</td>\n    </tr>\n    <tr>\n      <th>177</th>\n      <td>1.429481</td>\n      <td>1.583165</td>\n      <td>1.365208</td>\n      <td>1.502943</td>\n      <td>-0.262708</td>\n      <td>-0.392751</td>\n      <td>-1.274305</td>\n      <td>1.598032</td>\n      <td>-0.422075</td>\n      <td>1.791666</td>\n      <td>-1.524378</td>\n      <td>-1.428948</td>\n      <td>-0.595160</td>\n      <td>1.373864</td>\n    </tr>\n  </tbody>\n</table>\n<p>178 rows × 14 columns</p>\n</div>"
     },
     "execution_count": 34,
     "metadata": {},
     "output_type": "execute_result"
    }
   ],
   "source": [
    "st_scaled = pd.DataFrame(st_scaled, columns = data.columns)\n",
    "st_scaled"
   ],
   "metadata": {
    "collapsed": false,
    "pycharm": {
     "name": "#%%\n"
    }
   }
  },
  {
   "cell_type": "code",
   "execution_count": 35,
   "outputs": [
    {
     "data": {
      "text/plain": "       alcohol  malic_acid     ash  alcalinity_of_ash  magnesium   \ncount   178.00      178.00  178.00             178.00     178.00  \\\nmean     -0.00       -0.00   -0.00              -0.00      -0.00   \nstd       1.00        1.00    1.00               1.00       1.00   \nmin      -2.46       -1.43   -3.68              -2.67      -2.09   \n25%      -0.79       -0.66   -0.57              -0.69      -0.82   \n50%       0.08       -0.42   -0.02               0.00      -0.12   \n75%       0.84        0.67    0.70               0.60       0.51   \nmax       2.21        3.11    3.16               3.15       4.37   \n\n       total_phenols  flavanoids  nonflavanoid_phenols  proanthocyanins   \ncount         178.00      178.00                178.00           178.00  \\\nmean            0.00       -0.00                  0.00            -0.00   \nstd             1.00        1.00                  1.00             1.00   \nmin            -2.11       -1.70                 -1.87            -2.07   \n25%            -0.89       -0.83                 -0.74            -0.60   \n50%             0.10        0.11                 -0.18            -0.06   \n75%             0.81        0.85                  0.61             0.63   \nmax             2.54        3.06                  2.40             3.49   \n\n       color_intensity     hue  od280/od315_of_diluted_wines  proline   class  \ncount           178.00  178.00                        178.00   178.00  178.00  \nmean              0.00    0.00                          0.00    -0.00    0.00  \nstd               1.00    1.00                          1.00     1.00    1.00  \nmin              -1.63   -2.09                         -1.90    -1.49   -1.21  \n25%              -0.80   -0.77                         -0.95    -0.78   -1.21  \n50%              -0.16    0.03                          0.24    -0.23    0.08  \n75%               0.49    0.71                          0.79     0.76    1.37  \nmax               3.44    3.30                          1.96     2.97    1.37  ",
      "text/html": "<div>\n<style scoped>\n    .dataframe tbody tr th:only-of-type {\n        vertical-align: middle;\n    }\n\n    .dataframe tbody tr th {\n        vertical-align: top;\n    }\n\n    .dataframe thead th {\n        text-align: right;\n    }\n</style>\n<table border=\"1\" class=\"dataframe\">\n  <thead>\n    <tr style=\"text-align: right;\">\n      <th></th>\n      <th>alcohol</th>\n      <th>malic_acid</th>\n      <th>ash</th>\n      <th>alcalinity_of_ash</th>\n      <th>magnesium</th>\n      <th>total_phenols</th>\n      <th>flavanoids</th>\n      <th>nonflavanoid_phenols</th>\n      <th>proanthocyanins</th>\n      <th>color_intensity</th>\n      <th>hue</th>\n      <th>od280/od315_of_diluted_wines</th>\n      <th>proline</th>\n      <th>class</th>\n    </tr>\n  </thead>\n  <tbody>\n    <tr>\n      <th>count</th>\n      <td>178.00</td>\n      <td>178.00</td>\n      <td>178.00</td>\n      <td>178.00</td>\n      <td>178.00</td>\n      <td>178.00</td>\n      <td>178.00</td>\n      <td>178.00</td>\n      <td>178.00</td>\n      <td>178.00</td>\n      <td>178.00</td>\n      <td>178.00</td>\n      <td>178.00</td>\n      <td>178.00</td>\n    </tr>\n    <tr>\n      <th>mean</th>\n      <td>-0.00</td>\n      <td>-0.00</td>\n      <td>-0.00</td>\n      <td>-0.00</td>\n      <td>-0.00</td>\n      <td>0.00</td>\n      <td>-0.00</td>\n      <td>0.00</td>\n      <td>-0.00</td>\n      <td>0.00</td>\n      <td>0.00</td>\n      <td>0.00</td>\n      <td>-0.00</td>\n      <td>0.00</td>\n    </tr>\n    <tr>\n      <th>std</th>\n      <td>1.00</td>\n      <td>1.00</td>\n      <td>1.00</td>\n      <td>1.00</td>\n      <td>1.00</td>\n      <td>1.00</td>\n      <td>1.00</td>\n      <td>1.00</td>\n      <td>1.00</td>\n      <td>1.00</td>\n      <td>1.00</td>\n      <td>1.00</td>\n      <td>1.00</td>\n      <td>1.00</td>\n    </tr>\n    <tr>\n      <th>min</th>\n      <td>-2.46</td>\n      <td>-1.43</td>\n      <td>-3.68</td>\n      <td>-2.67</td>\n      <td>-2.09</td>\n      <td>-2.11</td>\n      <td>-1.70</td>\n      <td>-1.87</td>\n      <td>-2.07</td>\n      <td>-1.63</td>\n      <td>-2.09</td>\n      <td>-1.90</td>\n      <td>-1.49</td>\n      <td>-1.21</td>\n    </tr>\n    <tr>\n      <th>25%</th>\n      <td>-0.79</td>\n      <td>-0.66</td>\n      <td>-0.57</td>\n      <td>-0.69</td>\n      <td>-0.82</td>\n      <td>-0.89</td>\n      <td>-0.83</td>\n      <td>-0.74</td>\n      <td>-0.60</td>\n      <td>-0.80</td>\n      <td>-0.77</td>\n      <td>-0.95</td>\n      <td>-0.78</td>\n      <td>-1.21</td>\n    </tr>\n    <tr>\n      <th>50%</th>\n      <td>0.08</td>\n      <td>-0.42</td>\n      <td>-0.02</td>\n      <td>0.00</td>\n      <td>-0.12</td>\n      <td>0.10</td>\n      <td>0.11</td>\n      <td>-0.18</td>\n      <td>-0.06</td>\n      <td>-0.16</td>\n      <td>0.03</td>\n      <td>0.24</td>\n      <td>-0.23</td>\n      <td>0.08</td>\n    </tr>\n    <tr>\n      <th>75%</th>\n      <td>0.84</td>\n      <td>0.67</td>\n      <td>0.70</td>\n      <td>0.60</td>\n      <td>0.51</td>\n      <td>0.81</td>\n      <td>0.85</td>\n      <td>0.61</td>\n      <td>0.63</td>\n      <td>0.49</td>\n      <td>0.71</td>\n      <td>0.79</td>\n      <td>0.76</td>\n      <td>1.37</td>\n    </tr>\n    <tr>\n      <th>max</th>\n      <td>2.21</td>\n      <td>3.11</td>\n      <td>3.16</td>\n      <td>3.15</td>\n      <td>4.37</td>\n      <td>2.54</td>\n      <td>3.06</td>\n      <td>2.40</td>\n      <td>3.49</td>\n      <td>3.44</td>\n      <td>3.30</td>\n      <td>1.96</td>\n      <td>2.97</td>\n      <td>1.37</td>\n    </tr>\n  </tbody>\n</table>\n</div>"
     },
     "execution_count": 35,
     "metadata": {},
     "output_type": "execute_result"
    }
   ],
   "source": [
    "round(st_scaled.describe(), 2)"
   ],
   "metadata": {
    "collapsed": false,
    "pycharm": {
     "name": "#%%\n"
    }
   }
  },
  {
   "cell_type": "code",
   "execution_count": 36,
   "outputs": [],
   "source": [
    "# 로버스트 스케일링\n",
    "rb_scaler = RobustScaler()"
   ],
   "metadata": {
    "collapsed": false,
    "pycharm": {
     "name": "#%%\n"
    }
   }
  },
  {
   "cell_type": "code",
   "execution_count": 37,
   "outputs": [
    {
     "data": {
      "text/plain": "      alcohol  malic_acid       ash  alcalinity_of_ash  magnesium   \n0    0.907692   -0.104730  0.201439          -0.906977   1.526316  \\\n1    0.000000   -0.057432 -0.633094          -1.930233   0.105263   \n2    0.084615    0.334459  0.892086          -0.209302   0.157895   \n3    1.015385    0.057432  0.402878          -0.627907   0.789474   \n4    0.146154    0.489865  1.467626           0.348837   1.052632   \n..        ...         ...       ...                ...        ...   \n173  0.507692    2.557432  0.258993           0.232558  -0.157895   \n174  0.269231    1.381757  0.345324           0.813953   0.210526   \n175  0.169231    1.631757 -0.287770           0.116279   1.157895   \n176  0.092308    0.489865  0.028777           0.116279   1.157895   \n177  0.830769    1.510135  1.093525           1.162791  -0.105263   \n\n     total_phenols  flavanoids  nonflavanoid_phenols  proanthocyanins   \n0         0.420804    0.553892             -0.358209         1.050000  \\\n1         0.278960    0.374251             -0.477612        -0.392857   \n2         0.420804    0.661677             -0.238806         1.792857   \n3         1.413712    0.811377             -0.597015         0.892857   \n4         0.420804    0.332335              0.298507         0.378571   \n..             ...         ...                   ...              ...   \n173      -0.638298   -0.913174              1.074627        -0.707143   \n174      -0.524823   -0.829341              0.537313        -0.207143   \n175      -0.723404   -0.865269              0.537313        -0.292857   \n176      -0.666667   -0.871257              1.134328        -0.135714   \n177      -0.288416   -0.823353              1.313433        -0.292857   \n\n     color_intensity       hue  od280/od315_of_diluted_wines   proline  class  \n0           0.318792  0.222222                      0.924949  0.808050   -0.5  \n1          -0.104027  0.251852                      0.503043  0.777090   -0.5  \n2           0.332215  0.192593                      0.316430  1.055728   -0.5  \n3           1.043624 -0.311111                      0.543611  1.664603   -0.5  \n4          -0.124161  0.222222                      0.121704  0.126935   -0.5  \n..               ...       ...                           ...       ...    ...  \n173         1.010067 -0.962963                     -0.843813  0.137255    0.5  \n174         0.875839 -0.785185                     -0.989858  0.157895    0.5  \n175         1.848993 -1.111111                     -0.989858  0.333333    0.5  \n176         1.546980 -1.081481                     -0.941176  0.343653    0.5  \n177         1.513423 -1.051852                     -0.957404 -0.234262    0.5  \n\n[178 rows x 14 columns]",
      "text/html": "<div>\n<style scoped>\n    .dataframe tbody tr th:only-of-type {\n        vertical-align: middle;\n    }\n\n    .dataframe tbody tr th {\n        vertical-align: top;\n    }\n\n    .dataframe thead th {\n        text-align: right;\n    }\n</style>\n<table border=\"1\" class=\"dataframe\">\n  <thead>\n    <tr style=\"text-align: right;\">\n      <th></th>\n      <th>alcohol</th>\n      <th>malic_acid</th>\n      <th>ash</th>\n      <th>alcalinity_of_ash</th>\n      <th>magnesium</th>\n      <th>total_phenols</th>\n      <th>flavanoids</th>\n      <th>nonflavanoid_phenols</th>\n      <th>proanthocyanins</th>\n      <th>color_intensity</th>\n      <th>hue</th>\n      <th>od280/od315_of_diluted_wines</th>\n      <th>proline</th>\n      <th>class</th>\n    </tr>\n  </thead>\n  <tbody>\n    <tr>\n      <th>0</th>\n      <td>0.907692</td>\n      <td>-0.104730</td>\n      <td>0.201439</td>\n      <td>-0.906977</td>\n      <td>1.526316</td>\n      <td>0.420804</td>\n      <td>0.553892</td>\n      <td>-0.358209</td>\n      <td>1.050000</td>\n      <td>0.318792</td>\n      <td>0.222222</td>\n      <td>0.924949</td>\n      <td>0.808050</td>\n      <td>-0.5</td>\n    </tr>\n    <tr>\n      <th>1</th>\n      <td>0.000000</td>\n      <td>-0.057432</td>\n      <td>-0.633094</td>\n      <td>-1.930233</td>\n      <td>0.105263</td>\n      <td>0.278960</td>\n      <td>0.374251</td>\n      <td>-0.477612</td>\n      <td>-0.392857</td>\n      <td>-0.104027</td>\n      <td>0.251852</td>\n      <td>0.503043</td>\n      <td>0.777090</td>\n      <td>-0.5</td>\n    </tr>\n    <tr>\n      <th>2</th>\n      <td>0.084615</td>\n      <td>0.334459</td>\n      <td>0.892086</td>\n      <td>-0.209302</td>\n      <td>0.157895</td>\n      <td>0.420804</td>\n      <td>0.661677</td>\n      <td>-0.238806</td>\n      <td>1.792857</td>\n      <td>0.332215</td>\n      <td>0.192593</td>\n      <td>0.316430</td>\n      <td>1.055728</td>\n      <td>-0.5</td>\n    </tr>\n    <tr>\n      <th>3</th>\n      <td>1.015385</td>\n      <td>0.057432</td>\n      <td>0.402878</td>\n      <td>-0.627907</td>\n      <td>0.789474</td>\n      <td>1.413712</td>\n      <td>0.811377</td>\n      <td>-0.597015</td>\n      <td>0.892857</td>\n      <td>1.043624</td>\n      <td>-0.311111</td>\n      <td>0.543611</td>\n      <td>1.664603</td>\n      <td>-0.5</td>\n    </tr>\n    <tr>\n      <th>4</th>\n      <td>0.146154</td>\n      <td>0.489865</td>\n      <td>1.467626</td>\n      <td>0.348837</td>\n      <td>1.052632</td>\n      <td>0.420804</td>\n      <td>0.332335</td>\n      <td>0.298507</td>\n      <td>0.378571</td>\n      <td>-0.124161</td>\n      <td>0.222222</td>\n      <td>0.121704</td>\n      <td>0.126935</td>\n      <td>-0.5</td>\n    </tr>\n    <tr>\n      <th>...</th>\n      <td>...</td>\n      <td>...</td>\n      <td>...</td>\n      <td>...</td>\n      <td>...</td>\n      <td>...</td>\n      <td>...</td>\n      <td>...</td>\n      <td>...</td>\n      <td>...</td>\n      <td>...</td>\n      <td>...</td>\n      <td>...</td>\n      <td>...</td>\n    </tr>\n    <tr>\n      <th>173</th>\n      <td>0.507692</td>\n      <td>2.557432</td>\n      <td>0.258993</td>\n      <td>0.232558</td>\n      <td>-0.157895</td>\n      <td>-0.638298</td>\n      <td>-0.913174</td>\n      <td>1.074627</td>\n      <td>-0.707143</td>\n      <td>1.010067</td>\n      <td>-0.962963</td>\n      <td>-0.843813</td>\n      <td>0.137255</td>\n      <td>0.5</td>\n    </tr>\n    <tr>\n      <th>174</th>\n      <td>0.269231</td>\n      <td>1.381757</td>\n      <td>0.345324</td>\n      <td>0.813953</td>\n      <td>0.210526</td>\n      <td>-0.524823</td>\n      <td>-0.829341</td>\n      <td>0.537313</td>\n      <td>-0.207143</td>\n      <td>0.875839</td>\n      <td>-0.785185</td>\n      <td>-0.989858</td>\n      <td>0.157895</td>\n      <td>0.5</td>\n    </tr>\n    <tr>\n      <th>175</th>\n      <td>0.169231</td>\n      <td>1.631757</td>\n      <td>-0.287770</td>\n      <td>0.116279</td>\n      <td>1.157895</td>\n      <td>-0.723404</td>\n      <td>-0.865269</td>\n      <td>0.537313</td>\n      <td>-0.292857</td>\n      <td>1.848993</td>\n      <td>-1.111111</td>\n      <td>-0.989858</td>\n      <td>0.333333</td>\n      <td>0.5</td>\n    </tr>\n    <tr>\n      <th>176</th>\n      <td>0.092308</td>\n      <td>0.489865</td>\n      <td>0.028777</td>\n      <td>0.116279</td>\n      <td>1.157895</td>\n      <td>-0.666667</td>\n      <td>-0.871257</td>\n      <td>1.134328</td>\n      <td>-0.135714</td>\n      <td>1.546980</td>\n      <td>-1.081481</td>\n      <td>-0.941176</td>\n      <td>0.343653</td>\n      <td>0.5</td>\n    </tr>\n    <tr>\n      <th>177</th>\n      <td>0.830769</td>\n      <td>1.510135</td>\n      <td>1.093525</td>\n      <td>1.162791</td>\n      <td>-0.105263</td>\n      <td>-0.288416</td>\n      <td>-0.823353</td>\n      <td>1.313433</td>\n      <td>-0.292857</td>\n      <td>1.513423</td>\n      <td>-1.051852</td>\n      <td>-0.957404</td>\n      <td>-0.234262</td>\n      <td>0.5</td>\n    </tr>\n  </tbody>\n</table>\n<p>178 rows × 14 columns</p>\n</div>"
     },
     "execution_count": 37,
     "metadata": {},
     "output_type": "execute_result"
    }
   ],
   "source": [
    "rb_scaled = rb_scaler.fit_transform(data)\n",
    "rb_scaled = pd.DataFrame(rb_scaled, columns = data.columns)\n",
    "rb_scaled"
   ],
   "metadata": {
    "collapsed": false,
    "pycharm": {
     "name": "#%%\n"
    }
   }
  },
  {
   "cell_type": "code",
   "execution_count": 38,
   "outputs": [
    {
     "data": {
      "text/plain": "       alcohol  malic_acid     ash  alcalinity_of_ash  magnesium   \ncount   178.00      178.00  178.00             178.00     178.00  \\\nmean     -0.05        0.32    0.02              -0.00       0.09   \nstd       0.62        0.75    0.79               0.78       0.75   \nmin      -1.55       -0.76   -2.88              -2.07      -1.47   \n25%      -0.53       -0.18   -0.43              -0.53      -0.53   \n50%       0.00       -0.00    0.00               0.00       0.00   \n75%       0.47        0.82    0.57               0.47       0.47   \nmax       1.31        2.66    2.50               2.44       3.37   \n\n       total_phenols  flavanoids  nonflavanoid_phenols  proanthocyanins   \ncount         178.00      178.00                178.00           178.00  \\\nmean           -0.06       -0.06                  0.13             0.05   \nstd             0.59        0.60                  0.74             0.82   \nmin            -1.30       -1.07                 -1.25            -1.64   \n25%            -0.58       -0.56                 -0.42            -0.44   \n50%             0.00        0.00                  0.00            -0.00   \n75%             0.42        0.44                  0.58             0.56   \nmax             1.44        1.76                  1.91             2.89   \n\n       color_intensity     hue  od280/od315_of_diluted_wines  proline   class  \ncount           178.00  178.00                        178.00   178.00  178.00  \nmean              0.12   -0.02                         -0.14     0.15   -0.03  \nstd               0.78    0.68                          0.58     0.65    0.39  \nmin              -1.14   -1.44                         -1.23    -0.82   -0.50  \n25%              -0.49   -0.54                         -0.68    -0.36   -0.50  \n50%               0.00    0.00                          0.00     0.00    0.00  \n75%               0.51    0.46                          0.32     0.64    0.50  \nmax               2.79    2.21                          0.99     2.08    0.50  ",
      "text/html": "<div>\n<style scoped>\n    .dataframe tbody tr th:only-of-type {\n        vertical-align: middle;\n    }\n\n    .dataframe tbody tr th {\n        vertical-align: top;\n    }\n\n    .dataframe thead th {\n        text-align: right;\n    }\n</style>\n<table border=\"1\" class=\"dataframe\">\n  <thead>\n    <tr style=\"text-align: right;\">\n      <th></th>\n      <th>alcohol</th>\n      <th>malic_acid</th>\n      <th>ash</th>\n      <th>alcalinity_of_ash</th>\n      <th>magnesium</th>\n      <th>total_phenols</th>\n      <th>flavanoids</th>\n      <th>nonflavanoid_phenols</th>\n      <th>proanthocyanins</th>\n      <th>color_intensity</th>\n      <th>hue</th>\n      <th>od280/od315_of_diluted_wines</th>\n      <th>proline</th>\n      <th>class</th>\n    </tr>\n  </thead>\n  <tbody>\n    <tr>\n      <th>count</th>\n      <td>178.00</td>\n      <td>178.00</td>\n      <td>178.00</td>\n      <td>178.00</td>\n      <td>178.00</td>\n      <td>178.00</td>\n      <td>178.00</td>\n      <td>178.00</td>\n      <td>178.00</td>\n      <td>178.00</td>\n      <td>178.00</td>\n      <td>178.00</td>\n      <td>178.00</td>\n      <td>178.00</td>\n    </tr>\n    <tr>\n      <th>mean</th>\n      <td>-0.05</td>\n      <td>0.32</td>\n      <td>0.02</td>\n      <td>-0.00</td>\n      <td>0.09</td>\n      <td>-0.06</td>\n      <td>-0.06</td>\n      <td>0.13</td>\n      <td>0.05</td>\n      <td>0.12</td>\n      <td>-0.02</td>\n      <td>-0.14</td>\n      <td>0.15</td>\n      <td>-0.03</td>\n    </tr>\n    <tr>\n      <th>std</th>\n      <td>0.62</td>\n      <td>0.75</td>\n      <td>0.79</td>\n      <td>0.78</td>\n      <td>0.75</td>\n      <td>0.59</td>\n      <td>0.60</td>\n      <td>0.74</td>\n      <td>0.82</td>\n      <td>0.78</td>\n      <td>0.68</td>\n      <td>0.58</td>\n      <td>0.65</td>\n      <td>0.39</td>\n    </tr>\n    <tr>\n      <th>min</th>\n      <td>-1.55</td>\n      <td>-0.76</td>\n      <td>-2.88</td>\n      <td>-2.07</td>\n      <td>-1.47</td>\n      <td>-1.30</td>\n      <td>-1.07</td>\n      <td>-1.25</td>\n      <td>-1.64</td>\n      <td>-1.14</td>\n      <td>-1.44</td>\n      <td>-1.23</td>\n      <td>-0.82</td>\n      <td>-0.50</td>\n    </tr>\n    <tr>\n      <th>25%</th>\n      <td>-0.53</td>\n      <td>-0.18</td>\n      <td>-0.43</td>\n      <td>-0.53</td>\n      <td>-0.53</td>\n      <td>-0.58</td>\n      <td>-0.56</td>\n      <td>-0.42</td>\n      <td>-0.44</td>\n      <td>-0.49</td>\n      <td>-0.54</td>\n      <td>-0.68</td>\n      <td>-0.36</td>\n      <td>-0.50</td>\n    </tr>\n    <tr>\n      <th>50%</th>\n      <td>0.00</td>\n      <td>-0.00</td>\n      <td>0.00</td>\n      <td>0.00</td>\n      <td>0.00</td>\n      <td>0.00</td>\n      <td>0.00</td>\n      <td>0.00</td>\n      <td>-0.00</td>\n      <td>0.00</td>\n      <td>0.00</td>\n      <td>0.00</td>\n      <td>0.00</td>\n      <td>0.00</td>\n    </tr>\n    <tr>\n      <th>75%</th>\n      <td>0.47</td>\n      <td>0.82</td>\n      <td>0.57</td>\n      <td>0.47</td>\n      <td>0.47</td>\n      <td>0.42</td>\n      <td>0.44</td>\n      <td>0.58</td>\n      <td>0.56</td>\n      <td>0.51</td>\n      <td>0.46</td>\n      <td>0.32</td>\n      <td>0.64</td>\n      <td>0.50</td>\n    </tr>\n    <tr>\n      <th>max</th>\n      <td>1.31</td>\n      <td>2.66</td>\n      <td>2.50</td>\n      <td>2.44</td>\n      <td>3.37</td>\n      <td>1.44</td>\n      <td>1.76</td>\n      <td>1.91</td>\n      <td>2.89</td>\n      <td>2.79</td>\n      <td>2.21</td>\n      <td>0.99</td>\n      <td>2.08</td>\n      <td>0.50</td>\n    </tr>\n  </tbody>\n</table>\n</div>"
     },
     "execution_count": 38,
     "metadata": {},
     "output_type": "execute_result"
    }
   ],
   "source": [
    "round(rb_scaled.describe(), 2)"
   ],
   "metadata": {
    "collapsed": false,
    "pycharm": {
     "name": "#%%\n"
    }
   }
  },
  {
   "cell_type": "code",
   "execution_count": 39,
   "outputs": [
    {
     "data": {
      "text/plain": "      alcohol  malic_acid       ash  alcalinity_of_ash  magnesium   \n0    0.860215    0.191700  0.572193           0.257732   0.619565  \\\n1    0.543011    0.205534  0.417112           0.030928   0.326087   \n2    0.572581    0.320158  0.700535           0.412371   0.336957   \n3    0.897849    0.239130  0.609626           0.319588   0.467391   \n4    0.594086    0.365613  0.807487           0.536082   0.521739   \n..        ...         ...       ...                ...        ...   \n173  0.720430    0.970356  0.582888           0.510309   0.271739   \n174  0.637097    0.626482  0.598930           0.639175   0.347826   \n175  0.602151    0.699605  0.481283           0.484536   0.543478   \n176  0.575269    0.365613  0.540107           0.484536   0.543478   \n177  0.833333    0.664032  0.737968           0.716495   0.282609   \n\n     total_phenols  flavanoids  nonflavanoid_phenols  proanthocyanins   \n0         0.627586    0.573840              0.283019         0.593060  \\\n1         0.575862    0.510549              0.245283         0.274448   \n2         0.627586    0.611814              0.320755         0.757098   \n3         0.989655    0.664557              0.207547         0.558360   \n4         0.627586    0.495781              0.490566         0.444795   \n..             ...         ...                   ...              ...   \n173       0.241379    0.056962              0.735849         0.205047   \n174       0.282759    0.086498              0.566038         0.315457   \n175       0.210345    0.073840              0.566038         0.296530   \n176       0.231034    0.071730              0.754717         0.331230   \n177       0.368966    0.088608              0.811321         0.296530   \n\n     color_intensity       hue  od280/od315_of_diluted_wines   proline  class  \n0           0.372014  0.455285                      0.970696  0.561341    0.0  \n1           0.264505  0.463415                      0.780220  0.550642    0.0  \n2           0.375427  0.447154                      0.695971  0.646933    0.0  \n3           0.556314  0.308943                      0.798535  0.857347    0.0  \n4           0.259386  0.455285                      0.608059  0.325963    0.0  \n..               ...       ...                           ...       ...    ...  \n173         0.547782  0.130081                      0.172161  0.329529    1.0  \n174         0.513652  0.178862                      0.106227  0.336662    1.0  \n175         0.761092  0.089431                      0.106227  0.397290    1.0  \n176         0.684300  0.097561                      0.128205  0.400856    1.0  \n177         0.675768  0.105691                      0.120879  0.201141    1.0  \n\n[178 rows x 14 columns]",
      "text/html": "<div>\n<style scoped>\n    .dataframe tbody tr th:only-of-type {\n        vertical-align: middle;\n    }\n\n    .dataframe tbody tr th {\n        vertical-align: top;\n    }\n\n    .dataframe thead th {\n        text-align: right;\n    }\n</style>\n<table border=\"1\" class=\"dataframe\">\n  <thead>\n    <tr style=\"text-align: right;\">\n      <th></th>\n      <th>alcohol</th>\n      <th>malic_acid</th>\n      <th>ash</th>\n      <th>alcalinity_of_ash</th>\n      <th>magnesium</th>\n      <th>total_phenols</th>\n      <th>flavanoids</th>\n      <th>nonflavanoid_phenols</th>\n      <th>proanthocyanins</th>\n      <th>color_intensity</th>\n      <th>hue</th>\n      <th>od280/od315_of_diluted_wines</th>\n      <th>proline</th>\n      <th>class</th>\n    </tr>\n  </thead>\n  <tbody>\n    <tr>\n      <th>0</th>\n      <td>0.860215</td>\n      <td>0.191700</td>\n      <td>0.572193</td>\n      <td>0.257732</td>\n      <td>0.619565</td>\n      <td>0.627586</td>\n      <td>0.573840</td>\n      <td>0.283019</td>\n      <td>0.593060</td>\n      <td>0.372014</td>\n      <td>0.455285</td>\n      <td>0.970696</td>\n      <td>0.561341</td>\n      <td>0.0</td>\n    </tr>\n    <tr>\n      <th>1</th>\n      <td>0.543011</td>\n      <td>0.205534</td>\n      <td>0.417112</td>\n      <td>0.030928</td>\n      <td>0.326087</td>\n      <td>0.575862</td>\n      <td>0.510549</td>\n      <td>0.245283</td>\n      <td>0.274448</td>\n      <td>0.264505</td>\n      <td>0.463415</td>\n      <td>0.780220</td>\n      <td>0.550642</td>\n      <td>0.0</td>\n    </tr>\n    <tr>\n      <th>2</th>\n      <td>0.572581</td>\n      <td>0.320158</td>\n      <td>0.700535</td>\n      <td>0.412371</td>\n      <td>0.336957</td>\n      <td>0.627586</td>\n      <td>0.611814</td>\n      <td>0.320755</td>\n      <td>0.757098</td>\n      <td>0.375427</td>\n      <td>0.447154</td>\n      <td>0.695971</td>\n      <td>0.646933</td>\n      <td>0.0</td>\n    </tr>\n    <tr>\n      <th>3</th>\n      <td>0.897849</td>\n      <td>0.239130</td>\n      <td>0.609626</td>\n      <td>0.319588</td>\n      <td>0.467391</td>\n      <td>0.989655</td>\n      <td>0.664557</td>\n      <td>0.207547</td>\n      <td>0.558360</td>\n      <td>0.556314</td>\n      <td>0.308943</td>\n      <td>0.798535</td>\n      <td>0.857347</td>\n      <td>0.0</td>\n    </tr>\n    <tr>\n      <th>4</th>\n      <td>0.594086</td>\n      <td>0.365613</td>\n      <td>0.807487</td>\n      <td>0.536082</td>\n      <td>0.521739</td>\n      <td>0.627586</td>\n      <td>0.495781</td>\n      <td>0.490566</td>\n      <td>0.444795</td>\n      <td>0.259386</td>\n      <td>0.455285</td>\n      <td>0.608059</td>\n      <td>0.325963</td>\n      <td>0.0</td>\n    </tr>\n    <tr>\n      <th>...</th>\n      <td>...</td>\n      <td>...</td>\n      <td>...</td>\n      <td>...</td>\n      <td>...</td>\n      <td>...</td>\n      <td>...</td>\n      <td>...</td>\n      <td>...</td>\n      <td>...</td>\n      <td>...</td>\n      <td>...</td>\n      <td>...</td>\n      <td>...</td>\n    </tr>\n    <tr>\n      <th>173</th>\n      <td>0.720430</td>\n      <td>0.970356</td>\n      <td>0.582888</td>\n      <td>0.510309</td>\n      <td>0.271739</td>\n      <td>0.241379</td>\n      <td>0.056962</td>\n      <td>0.735849</td>\n      <td>0.205047</td>\n      <td>0.547782</td>\n      <td>0.130081</td>\n      <td>0.172161</td>\n      <td>0.329529</td>\n      <td>1.0</td>\n    </tr>\n    <tr>\n      <th>174</th>\n      <td>0.637097</td>\n      <td>0.626482</td>\n      <td>0.598930</td>\n      <td>0.639175</td>\n      <td>0.347826</td>\n      <td>0.282759</td>\n      <td>0.086498</td>\n      <td>0.566038</td>\n      <td>0.315457</td>\n      <td>0.513652</td>\n      <td>0.178862</td>\n      <td>0.106227</td>\n      <td>0.336662</td>\n      <td>1.0</td>\n    </tr>\n    <tr>\n      <th>175</th>\n      <td>0.602151</td>\n      <td>0.699605</td>\n      <td>0.481283</td>\n      <td>0.484536</td>\n      <td>0.543478</td>\n      <td>0.210345</td>\n      <td>0.073840</td>\n      <td>0.566038</td>\n      <td>0.296530</td>\n      <td>0.761092</td>\n      <td>0.089431</td>\n      <td>0.106227</td>\n      <td>0.397290</td>\n      <td>1.0</td>\n    </tr>\n    <tr>\n      <th>176</th>\n      <td>0.575269</td>\n      <td>0.365613</td>\n      <td>0.540107</td>\n      <td>0.484536</td>\n      <td>0.543478</td>\n      <td>0.231034</td>\n      <td>0.071730</td>\n      <td>0.754717</td>\n      <td>0.331230</td>\n      <td>0.684300</td>\n      <td>0.097561</td>\n      <td>0.128205</td>\n      <td>0.400856</td>\n      <td>1.0</td>\n    </tr>\n    <tr>\n      <th>177</th>\n      <td>0.833333</td>\n      <td>0.664032</td>\n      <td>0.737968</td>\n      <td>0.716495</td>\n      <td>0.282609</td>\n      <td>0.368966</td>\n      <td>0.088608</td>\n      <td>0.811321</td>\n      <td>0.296530</td>\n      <td>0.675768</td>\n      <td>0.105691</td>\n      <td>0.120879</td>\n      <td>0.201141</td>\n      <td>1.0</td>\n    </tr>\n  </tbody>\n</table>\n<p>178 rows × 14 columns</p>\n</div>"
     },
     "execution_count": 39,
     "metadata": {},
     "output_type": "execute_result"
    }
   ],
   "source": [
    "# 최소-최대 스케일링\n",
    "mm_scaler = MinMaxScaler()\n",
    "mm_scaled = mm_scaler.fit_transform(data)\n",
    "mm_scaled = pd.DataFrame(mm_scaled, columns = data.columns)\n",
    "mm_scaled"
   ],
   "metadata": {
    "collapsed": false,
    "pycharm": {
     "name": "#%%\n"
    }
   }
  },
  {
   "cell_type": "code",
   "execution_count": 40,
   "outputs": [
    {
     "data": {
      "text/plain": "       alcohol  malic_acid     ash  alcalinity_of_ash  magnesium   \ncount   178.00      178.00  178.00             178.00     178.00  \\\nmean      0.53        0.32    0.54               0.46       0.32   \nstd       0.22        0.22    0.15               0.17       0.16   \nmin       0.00        0.00    0.00               0.00       0.00   \n25%       0.36        0.17    0.45               0.34       0.20   \n50%       0.54        0.22    0.53               0.46       0.30   \n75%       0.71        0.46    0.64               0.56       0.40   \nmax       1.00        1.00    1.00               1.00       1.00   \n\n       total_phenols  flavanoids  nonflavanoid_phenols  proanthocyanins   \ncount         178.00      178.00                178.00           178.00  \\\nmean            0.45        0.36                  0.44             0.37   \nstd             0.22        0.21                  0.23             0.18   \nmin             0.00        0.00                  0.00             0.00   \n25%             0.26        0.18                  0.26             0.26   \n50%             0.47        0.38                  0.40             0.36   \n75%             0.63        0.53                  0.58             0.49   \nmax             1.00        1.00                  1.00             1.00   \n\n       color_intensity     hue  od280/od315_of_diluted_wines  proline   class  \ncount           178.00  178.00                        178.00   178.00  178.00  \nmean              0.32    0.39                          0.49     0.33    0.47  \nstd               0.20    0.19                          0.26     0.22    0.39  \nmin               0.00    0.00                          0.00     0.00    0.00  \n25%               0.17    0.25                          0.24     0.16    0.00  \n50%               0.29    0.39                          0.55     0.28    0.50  \n75%               0.42    0.52                          0.70     0.50    1.00  \nmax               1.00    1.00                          1.00     1.00    1.00  ",
      "text/html": "<div>\n<style scoped>\n    .dataframe tbody tr th:only-of-type {\n        vertical-align: middle;\n    }\n\n    .dataframe tbody tr th {\n        vertical-align: top;\n    }\n\n    .dataframe thead th {\n        text-align: right;\n    }\n</style>\n<table border=\"1\" class=\"dataframe\">\n  <thead>\n    <tr style=\"text-align: right;\">\n      <th></th>\n      <th>alcohol</th>\n      <th>malic_acid</th>\n      <th>ash</th>\n      <th>alcalinity_of_ash</th>\n      <th>magnesium</th>\n      <th>total_phenols</th>\n      <th>flavanoids</th>\n      <th>nonflavanoid_phenols</th>\n      <th>proanthocyanins</th>\n      <th>color_intensity</th>\n      <th>hue</th>\n      <th>od280/od315_of_diluted_wines</th>\n      <th>proline</th>\n      <th>class</th>\n    </tr>\n  </thead>\n  <tbody>\n    <tr>\n      <th>count</th>\n      <td>178.00</td>\n      <td>178.00</td>\n      <td>178.00</td>\n      <td>178.00</td>\n      <td>178.00</td>\n      <td>178.00</td>\n      <td>178.00</td>\n      <td>178.00</td>\n      <td>178.00</td>\n      <td>178.00</td>\n      <td>178.00</td>\n      <td>178.00</td>\n      <td>178.00</td>\n      <td>178.00</td>\n    </tr>\n    <tr>\n      <th>mean</th>\n      <td>0.53</td>\n      <td>0.32</td>\n      <td>0.54</td>\n      <td>0.46</td>\n      <td>0.32</td>\n      <td>0.45</td>\n      <td>0.36</td>\n      <td>0.44</td>\n      <td>0.37</td>\n      <td>0.32</td>\n      <td>0.39</td>\n      <td>0.49</td>\n      <td>0.33</td>\n      <td>0.47</td>\n    </tr>\n    <tr>\n      <th>std</th>\n      <td>0.22</td>\n      <td>0.22</td>\n      <td>0.15</td>\n      <td>0.17</td>\n      <td>0.16</td>\n      <td>0.22</td>\n      <td>0.21</td>\n      <td>0.23</td>\n      <td>0.18</td>\n      <td>0.20</td>\n      <td>0.19</td>\n      <td>0.26</td>\n      <td>0.22</td>\n      <td>0.39</td>\n    </tr>\n    <tr>\n      <th>min</th>\n      <td>0.00</td>\n      <td>0.00</td>\n      <td>0.00</td>\n      <td>0.00</td>\n      <td>0.00</td>\n      <td>0.00</td>\n      <td>0.00</td>\n      <td>0.00</td>\n      <td>0.00</td>\n      <td>0.00</td>\n      <td>0.00</td>\n      <td>0.00</td>\n      <td>0.00</td>\n      <td>0.00</td>\n    </tr>\n    <tr>\n      <th>25%</th>\n      <td>0.36</td>\n      <td>0.17</td>\n      <td>0.45</td>\n      <td>0.34</td>\n      <td>0.20</td>\n      <td>0.26</td>\n      <td>0.18</td>\n      <td>0.26</td>\n      <td>0.26</td>\n      <td>0.17</td>\n      <td>0.25</td>\n      <td>0.24</td>\n      <td>0.16</td>\n      <td>0.00</td>\n    </tr>\n    <tr>\n      <th>50%</th>\n      <td>0.54</td>\n      <td>0.22</td>\n      <td>0.53</td>\n      <td>0.46</td>\n      <td>0.30</td>\n      <td>0.47</td>\n      <td>0.38</td>\n      <td>0.40</td>\n      <td>0.36</td>\n      <td>0.29</td>\n      <td>0.39</td>\n      <td>0.55</td>\n      <td>0.28</td>\n      <td>0.50</td>\n    </tr>\n    <tr>\n      <th>75%</th>\n      <td>0.71</td>\n      <td>0.46</td>\n      <td>0.64</td>\n      <td>0.56</td>\n      <td>0.40</td>\n      <td>0.63</td>\n      <td>0.53</td>\n      <td>0.58</td>\n      <td>0.49</td>\n      <td>0.42</td>\n      <td>0.52</td>\n      <td>0.70</td>\n      <td>0.50</td>\n      <td>1.00</td>\n    </tr>\n    <tr>\n      <th>max</th>\n      <td>1.00</td>\n      <td>1.00</td>\n      <td>1.00</td>\n      <td>1.00</td>\n      <td>1.00</td>\n      <td>1.00</td>\n      <td>1.00</td>\n      <td>1.00</td>\n      <td>1.00</td>\n      <td>1.00</td>\n      <td>1.00</td>\n      <td>1.00</td>\n      <td>1.00</td>\n      <td>1.00</td>\n    </tr>\n  </tbody>\n</table>\n</div>"
     },
     "execution_count": 40,
     "metadata": {},
     "output_type": "execute_result"
    }
   ],
   "source": [
    "round(mm_scaled.describe(), 2)"
   ],
   "metadata": {
    "collapsed": false,
    "pycharm": {
     "name": "#%%\n"
    }
   }
  },
  {
   "cell_type": "code",
   "execution_count": 41,
   "outputs": [],
   "source": [
    "# 스케일링 적용\n",
    "X_train, X_test, y_train, y_test = train_test_split(data.drop('class', axis=1),\n",
    "                                                    data['class'],\n",
    "                                                    test_size=0.2,\n",
    "                                                    random_state=100)"
   ],
   "metadata": {
    "collapsed": false,
    "pycharm": {
     "name": "#%%\n"
    }
   }
  },
  {
   "cell_type": "code",
   "execution_count": 42,
   "outputs": [
    {
     "data": {
      "text/plain": "MinMaxScaler()",
      "text/html": "<style>#sk-container-id-2 {color: black;background-color: white;}#sk-container-id-2 pre{padding: 0;}#sk-container-id-2 div.sk-toggleable {background-color: white;}#sk-container-id-2 label.sk-toggleable__label {cursor: pointer;display: block;width: 100%;margin-bottom: 0;padding: 0.3em;box-sizing: border-box;text-align: center;}#sk-container-id-2 label.sk-toggleable__label-arrow:before {content: \"▸\";float: left;margin-right: 0.25em;color: #696969;}#sk-container-id-2 label.sk-toggleable__label-arrow:hover:before {color: black;}#sk-container-id-2 div.sk-estimator:hover label.sk-toggleable__label-arrow:before {color: black;}#sk-container-id-2 div.sk-toggleable__content {max-height: 0;max-width: 0;overflow: hidden;text-align: left;background-color: #f0f8ff;}#sk-container-id-2 div.sk-toggleable__content pre {margin: 0.2em;color: black;border-radius: 0.25em;background-color: #f0f8ff;}#sk-container-id-2 input.sk-toggleable__control:checked~div.sk-toggleable__content {max-height: 200px;max-width: 100%;overflow: auto;}#sk-container-id-2 input.sk-toggleable__control:checked~label.sk-toggleable__label-arrow:before {content: \"▾\";}#sk-container-id-2 div.sk-estimator input.sk-toggleable__control:checked~label.sk-toggleable__label {background-color: #d4ebff;}#sk-container-id-2 div.sk-label input.sk-toggleable__control:checked~label.sk-toggleable__label {background-color: #d4ebff;}#sk-container-id-2 input.sk-hidden--visually {border: 0;clip: rect(1px 1px 1px 1px);clip: rect(1px, 1px, 1px, 1px);height: 1px;margin: -1px;overflow: hidden;padding: 0;position: absolute;width: 1px;}#sk-container-id-2 div.sk-estimator {font-family: monospace;background-color: #f0f8ff;border: 1px dotted black;border-radius: 0.25em;box-sizing: border-box;margin-bottom: 0.5em;}#sk-container-id-2 div.sk-estimator:hover {background-color: #d4ebff;}#sk-container-id-2 div.sk-parallel-item::after {content: \"\";width: 100%;border-bottom: 1px solid gray;flex-grow: 1;}#sk-container-id-2 div.sk-label:hover label.sk-toggleable__label {background-color: #d4ebff;}#sk-container-id-2 div.sk-serial::before {content: \"\";position: absolute;border-left: 1px solid gray;box-sizing: border-box;top: 0;bottom: 0;left: 50%;z-index: 0;}#sk-container-id-2 div.sk-serial {display: flex;flex-direction: column;align-items: center;background-color: white;padding-right: 0.2em;padding-left: 0.2em;position: relative;}#sk-container-id-2 div.sk-item {position: relative;z-index: 1;}#sk-container-id-2 div.sk-parallel {display: flex;align-items: stretch;justify-content: center;background-color: white;position: relative;}#sk-container-id-2 div.sk-item::before, #sk-container-id-2 div.sk-parallel-item::before {content: \"\";position: absolute;border-left: 1px solid gray;box-sizing: border-box;top: 0;bottom: 0;left: 50%;z-index: -1;}#sk-container-id-2 div.sk-parallel-item {display: flex;flex-direction: column;z-index: 1;position: relative;background-color: white;}#sk-container-id-2 div.sk-parallel-item:first-child::after {align-self: flex-end;width: 50%;}#sk-container-id-2 div.sk-parallel-item:last-child::after {align-self: flex-start;width: 50%;}#sk-container-id-2 div.sk-parallel-item:only-child::after {width: 0;}#sk-container-id-2 div.sk-dashed-wrapped {border: 1px dashed gray;margin: 0 0.4em 0.5em 0.4em;box-sizing: border-box;padding-bottom: 0.4em;background-color: white;}#sk-container-id-2 div.sk-label label {font-family: monospace;font-weight: bold;display: inline-block;line-height: 1.2em;}#sk-container-id-2 div.sk-label-container {text-align: center;}#sk-container-id-2 div.sk-container {/* jupyter's `normalize.less` sets `[hidden] { display: none; }` but bootstrap.min.css set `[hidden] { display: none !important; }` so we also need the `!important` here to be able to override the default hidden behavior on the sphinx rendered scikit-learn.org. See: https://github.com/scikit-learn/scikit-learn/issues/21755 */display: inline-block !important;position: relative;}#sk-container-id-2 div.sk-text-repr-fallback {display: none;}</style><div id=\"sk-container-id-2\" class=\"sk-top-container\"><div class=\"sk-text-repr-fallback\"><pre>MinMaxScaler()</pre><b>In a Jupyter environment, please rerun this cell to show the HTML representation or trust the notebook. <br />On GitHub, the HTML representation is unable to render, please try loading this page with nbviewer.org.</b></div><div class=\"sk-container\" hidden><div class=\"sk-item\"><div class=\"sk-estimator sk-toggleable\"><input class=\"sk-toggleable__control sk-hidden--visually\" id=\"sk-estimator-id-2\" type=\"checkbox\" checked><label for=\"sk-estimator-id-2\" class=\"sk-toggleable__label sk-toggleable__label-arrow\">MinMaxScaler</label><div class=\"sk-toggleable__content\"><pre>MinMaxScaler()</pre></div></div></div></div></div>"
     },
     "execution_count": 42,
     "metadata": {},
     "output_type": "execute_result"
    }
   ],
   "source": [
    "mm_scaler = MinMaxScaler() # 스케일러 객체 생성\n",
    "mm_scaler.fit(X_train)"
   ],
   "metadata": {
    "collapsed": false,
    "pycharm": {
     "name": "#%%\n"
    }
   }
  },
  {
   "cell_type": "code",
   "execution_count": 43,
   "outputs": [],
   "source": [
    "X_train_scaled = mm_scaler.transform(X_train)\n",
    "X_test_scaled = mm_scaler.transform(X_test)"
   ],
   "metadata": {
    "collapsed": false,
    "pycharm": {
     "name": "#%%\n"
    }
   }
  },
  {
   "cell_type": "code",
   "execution_count": 44,
   "outputs": [],
   "source": [
    "# fit_transform 함수로 간단히 할 수 있음\n",
    "# mm_scaler = MinMaxScaler()\n",
    "# X_train_scaled = mm_scaler.fit_transform(X_train)\n",
    "# X_test_scaled = mm_scaler.transform(X_test)"
   ],
   "metadata": {
    "collapsed": false,
    "pycharm": {
     "name": "#%%\n"
    }
   }
  },
  {
   "cell_type": "markdown",
   "source": [
    "## 모델링 및 예측/평가"
   ],
   "metadata": {
    "collapsed": false,
    "pycharm": {
     "name": "#%% md\n"
    }
   }
  },
  {
   "cell_type": "code",
   "execution_count": 45,
   "outputs": [],
   "source": [
    "knn = KNeighborsClassifier()      # KNN 모델 생성\n",
    "knn.fit(X_train_scaled, y_train)  # 학습\n",
    "pred = knn.predict(X_test_scaled) # 예측"
   ],
   "metadata": {
    "collapsed": false,
    "pycharm": {
     "name": "#%%\n"
    }
   }
  },
  {
   "cell_type": "code",
   "execution_count": 46,
   "outputs": [
    {
     "data": {
      "text/plain": "array([1, 2, 0, 1, 2, 2, 1, 2, 1, 0, 2, 0, 2, 2, 2, 0, 2, 0, 1, 0, 2, 0,\n       2, 1, 0, 0, 1, 1, 1, 2, 2, 1, 0, 1, 2, 2], dtype=int64)"
     },
     "execution_count": 46,
     "metadata": {},
     "output_type": "execute_result"
    }
   ],
   "source": [
    "pred"
   ],
   "metadata": {
    "collapsed": false,
    "pycharm": {
     "name": "#%%\n"
    }
   }
  },
  {
   "cell_type": "code",
   "execution_count": 47,
   "outputs": [
    {
     "data": {
      "text/plain": "0.8888888888888888"
     },
     "execution_count": 47,
     "metadata": {},
     "output_type": "execute_result"
    }
   ],
   "source": [
    "accuracy_score(y_test, pred)"
   ],
   "metadata": {
    "collapsed": false,
    "pycharm": {
     "name": "#%%\n"
    }
   }
  },
  {
   "cell_type": "markdown",
   "source": [
    "## 하이퍼파라미터 튜닝"
   ],
   "metadata": {
    "collapsed": false,
    "pycharm": {
     "name": "#%% md\n"
    }
   }
  },
  {
   "cell_type": "code",
   "execution_count": 48,
   "outputs": [
    {
     "data": {
      "text/plain": "0.9166666666666666"
     },
     "execution_count": 48,
     "metadata": {},
     "output_type": "execute_result"
    }
   ],
   "source": [
    "knn = KNeighborsClassifier(n_neighbors=7) # 군집 7 설정\n",
    "knn.fit(X_train_scaled,y_train)\n",
    "pred = knn.predict(X_test_scaled)\n",
    "accuracy_score(y_test, pred)"
   ],
   "metadata": {
    "collapsed": false,
    "pycharm": {
     "name": "#%%\n"
    }
   }
  },
  {
   "cell_type": "code",
   "execution_count": 49,
   "outputs": [
    {
     "data": {
      "text/plain": "0.8888888888888888"
     },
     "execution_count": 49,
     "metadata": {},
     "output_type": "execute_result"
    }
   ],
   "source": [
    "knn = KNeighborsClassifier(n_neighbors=3) # 군집 3 설정\n",
    "knn.fit(X_train_scaled,y_train)\n",
    "pred = knn.predict(X_test_scaled)\n",
    "accuracy_score(y_test, pred)"
   ],
   "metadata": {
    "collapsed": false,
    "pycharm": {
     "name": "#%%\n"
    }
   }
  },
  {
   "cell_type": "code",
   "execution_count": 50,
   "outputs": [
    {
     "name": "stdout",
     "output_type": "stream",
     "text": [
      "0.9166666666666666\n",
      "0.8888888888888888\n",
      "0.8888888888888888\n",
      "0.9166666666666666\n",
      "0.8888888888888888\n",
      "0.9166666666666666\n",
      "0.9166666666666666\n",
      "0.8888888888888888\n",
      "0.8888888888888888\n",
      "0.8888888888888888\n",
      "0.9166666666666666\n",
      "0.9166666666666666\n",
      "0.9722222222222222\n",
      "0.9444444444444444\n",
      "0.9444444444444444\n",
      "0.9444444444444444\n",
      "0.9166666666666666\n",
      "0.9722222222222222\n",
      "0.9444444444444444\n",
      "0.9722222222222222\n"
     ]
    }
   ],
   "source": [
    "for i in range(1, 21): # 20번 반복\n",
    "    knn = KNeighborsClassifier(n_neighbors=i)\n",
    "    knn.fit(X_train_scaled, y_train)\n",
    "    pred = knn.predict(X_test_scaled)\n",
    "    print(accuracy_score(y_test, pred))"
   ],
   "metadata": {
    "collapsed": false,
    "pycharm": {
     "name": "#%%\n"
    }
   }
  },
  {
   "cell_type": "code",
   "execution_count": 51,
   "outputs": [],
   "source": [
    "scores = []"
   ],
   "metadata": {
    "collapsed": false,
    "pycharm": {
     "name": "#%%\n"
    }
   }
  },
  {
   "cell_type": "code",
   "execution_count": 52,
   "outputs": [],
   "source": [
    "for i in range(1, 21):\n",
    "    knn = KNeighborsClassifier(n_neighbors=i)\n",
    "    knn.fit(X_train_scaled,y_train)\n",
    "    pred = knn.predict(X_test_scaled)\n",
    "    acc = accuracy_score(y_test, pred)\n",
    "    scores.append(acc)"
   ],
   "metadata": {
    "collapsed": false,
    "pycharm": {
     "name": "#%%\n"
    }
   }
  },
  {
   "cell_type": "code",
   "execution_count": 53,
   "outputs": [
    {
     "data": {
      "text/plain": "[0.9166666666666666,\n 0.8888888888888888,\n 0.8888888888888888,\n 0.9166666666666666,\n 0.8888888888888888,\n 0.9166666666666666,\n 0.9166666666666666,\n 0.8888888888888888,\n 0.8888888888888888,\n 0.8888888888888888,\n 0.9166666666666666,\n 0.9166666666666666,\n 0.9722222222222222,\n 0.9444444444444444,\n 0.9444444444444444,\n 0.9444444444444444,\n 0.9166666666666666,\n 0.9722222222222222,\n 0.9444444444444444,\n 0.9722222222222222]"
     },
     "execution_count": 53,
     "metadata": {},
     "output_type": "execute_result"
    }
   ],
   "source": [
    "scores"
   ],
   "metadata": {
    "collapsed": false,
    "pycharm": {
     "name": "#%%\n"
    }
   }
  },
  {
   "cell_type": "code",
   "execution_count": 54,
   "outputs": [
    {
     "data": {
      "text/plain": "<Axes: >"
     },
     "execution_count": 54,
     "metadata": {},
     "output_type": "execute_result"
    },
    {
     "data": {
      "text/plain": "<Figure size 640x480 with 1 Axes>",
      "image/png": "[encoded data removed]"
     },
     "metadata": {},
     "output_type": "display_data"
    }
   ],
   "source": [
    "sns.lineplot(x=range(1,21), y=scores) # 군집이 13일 경우가 최적화"
   ],
   "metadata": {
    "collapsed": false,
    "pycharm": {
     "name": "#%%\n"
    }
   }
  },
  {
   "cell_type": "code",
   "execution_count": 55,
   "outputs": [
    {
     "data": {
      "text/plain": "0.9722222222222222"
     },
     "execution_count": 55,
     "metadata": {},
     "output_type": "execute_result"
    }
   ],
   "source": [
    "knn = KNeighborsClassifier(n_neighbors=13)\n",
    "knn.fit(X_train_scaled,y_train)\n",
    "pred = knn.predict(X_test_scaled)\n",
    "accuracy_score(y_test, pred)"
   ],
   "metadata": {
    "collapsed": false,
    "pycharm": {
     "name": "#%%\n"
    }
   }
  },
  {
   "cell_type": "code",
   "execution_count": null,
   "outputs": [],
   "source": [],
   "metadata": {
    "collapsed": false,
    "pycharm": {
     "name": "#%%\n"
    }
   }
  }
 ],
 "metadata": {
  "kernelspec": {
   "display_name": "Python 3",
   "language": "python",
   "name": "python3"
  },
  "language_info": {
   "codemirror_mode": {
    "name": "ipython",
    "version": 2
   },
   "file_extension": ".py",
   "mimetype": "text/x-python",
   "name": "python",
   "nbconvert_exporter": "python",
   "pygments_lexer": "ipython2",
   "version": "2.7.6"
  }
 },
 "nbformat": 4,
 "nbformat_minor": 0
}