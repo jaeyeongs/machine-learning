{
 "cells": [
  {
   "cell_type": "markdown",
   "id": "893fb6c1",
   "metadata": {},
   "source": [
    "# 데이터의 차원을 축소해 학습 시간을 줄이고 성능 향상시키기"
   ]
  },
  {
   "cell_type": "markdown",
   "id": "e0d56042",
   "metadata": {},
   "source": [
    "## 다차원 데이터 불러오기"
   ]
  },
  {
   "cell_type": "code",
   "execution_count": 1,
   "id": "38597b8a",
   "metadata": {},
   "outputs": [],
   "source": [
    "import pandas as pd\n",
    "import numpy as np\n",
    "import matplotlib.pyplot as plt\n",
    "import seaborn as sns\n",
    "\n",
    "file_url = 'https://media.githubusercontent.com/media/musthave-ML10/data_source/main/anonymous.csv'\n",
    "anonymous = pd.read_csv(file_url)"
   ]
  },
  {
   "cell_type": "code",
   "execution_count": 2,
   "id": "82c5da21",
   "metadata": {},
   "outputs": [
    {
     "data": {
      "text/html": [
       "<div>\n",
       "<style scoped>\n",
       "    .dataframe tbody tr th:only-of-type {\n",
       "        vertical-align: middle;\n",
       "    }\n",
       "\n",
       "    .dataframe tbody tr th {\n",
       "        vertical-align: top;\n",
       "    }\n",
       "\n",
       "    .dataframe thead th {\n",
       "        text-align: right;\n",
       "    }\n",
       "</style>\n",
       "<table border=\"1\" class=\"dataframe\">\n",
       "  <thead>\n",
       "    <tr style=\"text-align: right;\">\n",
       "      <th></th>\n",
       "      <th>class</th>\n",
       "      <th>V1</th>\n",
       "      <th>V2</th>\n",
       "      <th>V3</th>\n",
       "      <th>V4</th>\n",
       "      <th>V5</th>\n",
       "      <th>V6</th>\n",
       "      <th>V7</th>\n",
       "      <th>V8</th>\n",
       "      <th>V9</th>\n",
       "      <th>...</th>\n",
       "      <th>V4287</th>\n",
       "      <th>V4288</th>\n",
       "      <th>V4289</th>\n",
       "      <th>V4290</th>\n",
       "      <th>V4291</th>\n",
       "      <th>V4292</th>\n",
       "      <th>V4293</th>\n",
       "      <th>V4294</th>\n",
       "      <th>V4295</th>\n",
       "      <th>V4296</th>\n",
       "    </tr>\n",
       "  </thead>\n",
       "  <tbody>\n",
       "    <tr>\n",
       "      <th>0</th>\n",
       "      <td>1</td>\n",
       "      <td>0.0</td>\n",
       "      <td>0.0</td>\n",
       "      <td>0.56758</td>\n",
       "      <td>0.0</td>\n",
       "      <td>0.0</td>\n",
       "      <td>0.0</td>\n",
       "      <td>0.0</td>\n",
       "      <td>0.82585</td>\n",
       "      <td>0.83788</td>\n",
       "      <td>...</td>\n",
       "      <td>-0.25777</td>\n",
       "      <td>0.12220</td>\n",
       "      <td>0.348620</td>\n",
       "      <td>0.12957</td>\n",
       "      <td>0.43846</td>\n",
       "      <td>-0.108020</td>\n",
       "      <td>0.128330</td>\n",
       "      <td>0.318820</td>\n",
       "      <td>-0.041559</td>\n",
       "      <td>0.22589</td>\n",
       "    </tr>\n",
       "    <tr>\n",
       "      <th>1</th>\n",
       "      <td>1</td>\n",
       "      <td>0.0</td>\n",
       "      <td>0.0</td>\n",
       "      <td>0.56758</td>\n",
       "      <td>0.0</td>\n",
       "      <td>0.0</td>\n",
       "      <td>0.0</td>\n",
       "      <td>0.0</td>\n",
       "      <td>0.82585</td>\n",
       "      <td>0.83788</td>\n",
       "      <td>...</td>\n",
       "      <td>-0.15316</td>\n",
       "      <td>0.14062</td>\n",
       "      <td>-0.030201</td>\n",
       "      <td>0.10134</td>\n",
       "      <td>-0.14546</td>\n",
       "      <td>-0.166650</td>\n",
       "      <td>0.401300</td>\n",
       "      <td>0.035392</td>\n",
       "      <td>0.019906</td>\n",
       "      <td>0.31952</td>\n",
       "    </tr>\n",
       "    <tr>\n",
       "      <th>2</th>\n",
       "      <td>1</td>\n",
       "      <td>0.0</td>\n",
       "      <td>0.0</td>\n",
       "      <td>0.56758</td>\n",
       "      <td>0.0</td>\n",
       "      <td>0.0</td>\n",
       "      <td>0.0</td>\n",
       "      <td>0.0</td>\n",
       "      <td>0.82585</td>\n",
       "      <td>0.83788</td>\n",
       "      <td>...</td>\n",
       "      <td>-0.40122</td>\n",
       "      <td>0.13790</td>\n",
       "      <td>0.138350</td>\n",
       "      <td>0.15746</td>\n",
       "      <td>0.51216</td>\n",
       "      <td>-0.330690</td>\n",
       "      <td>0.070346</td>\n",
       "      <td>0.179250</td>\n",
       "      <td>-0.188740</td>\n",
       "      <td>0.16386</td>\n",
       "    </tr>\n",
       "    <tr>\n",
       "      <th>3</th>\n",
       "      <td>1</td>\n",
       "      <td>0.0</td>\n",
       "      <td>0.0</td>\n",
       "      <td>0.56758</td>\n",
       "      <td>0.0</td>\n",
       "      <td>0.0</td>\n",
       "      <td>0.0</td>\n",
       "      <td>0.0</td>\n",
       "      <td>0.82585</td>\n",
       "      <td>0.83788</td>\n",
       "      <td>...</td>\n",
       "      <td>-0.15587</td>\n",
       "      <td>-0.26686</td>\n",
       "      <td>0.158930</td>\n",
       "      <td>-0.13204</td>\n",
       "      <td>0.32221</td>\n",
       "      <td>-0.042086</td>\n",
       "      <td>0.588970</td>\n",
       "      <td>0.526990</td>\n",
       "      <td>-0.574320</td>\n",
       "      <td>0.20891</td>\n",
       "    </tr>\n",
       "    <tr>\n",
       "      <th>4</th>\n",
       "      <td>1</td>\n",
       "      <td>0.0</td>\n",
       "      <td>0.0</td>\n",
       "      <td>0.56758</td>\n",
       "      <td>0.0</td>\n",
       "      <td>0.0</td>\n",
       "      <td>0.0</td>\n",
       "      <td>0.0</td>\n",
       "      <td>0.82585</td>\n",
       "      <td>0.83788</td>\n",
       "      <td>...</td>\n",
       "      <td>0.24020</td>\n",
       "      <td>0.44605</td>\n",
       "      <td>-0.163560</td>\n",
       "      <td>0.45311</td>\n",
       "      <td>0.59073</td>\n",
       "      <td>0.356800</td>\n",
       "      <td>0.395780</td>\n",
       "      <td>0.035871</td>\n",
       "      <td>-0.293430</td>\n",
       "      <td>0.38124</td>\n",
       "    </tr>\n",
       "  </tbody>\n",
       "</table>\n",
       "<p>5 rows × 4297 columns</p>\n",
       "</div>"
      ],
      "text/plain": [
       "   class   V1   V2       V3   V4   V5   V6   V7       V8       V9  ...  \\\n",
       "0      1  0.0  0.0  0.56758  0.0  0.0  0.0  0.0  0.82585  0.83788  ...   \n",
       "1      1  0.0  0.0  0.56758  0.0  0.0  0.0  0.0  0.82585  0.83788  ...   \n",
       "2      1  0.0  0.0  0.56758  0.0  0.0  0.0  0.0  0.82585  0.83788  ...   \n",
       "3      1  0.0  0.0  0.56758  0.0  0.0  0.0  0.0  0.82585  0.83788  ...   \n",
       "4      1  0.0  0.0  0.56758  0.0  0.0  0.0  0.0  0.82585  0.83788  ...   \n",
       "\n",
       "     V4287    V4288     V4289    V4290    V4291     V4292     V4293     V4294  \\\n",
       "0 -0.25777  0.12220  0.348620  0.12957  0.43846 -0.108020  0.128330  0.318820   \n",
       "1 -0.15316  0.14062 -0.030201  0.10134 -0.14546 -0.166650  0.401300  0.035392   \n",
       "2 -0.40122  0.13790  0.138350  0.15746  0.51216 -0.330690  0.070346  0.179250   \n",
       "3 -0.15587 -0.26686  0.158930 -0.13204  0.32221 -0.042086  0.588970  0.526990   \n",
       "4  0.24020  0.44605 -0.163560  0.45311  0.59073  0.356800  0.395780  0.035871   \n",
       "\n",
       "      V4295    V4296  \n",
       "0 -0.041559  0.22589  \n",
       "1  0.019906  0.31952  \n",
       "2 -0.188740  0.16386  \n",
       "3 -0.574320  0.20891  \n",
       "4 -0.293430  0.38124  \n",
       "\n",
       "[5 rows x 4297 columns]"
      ]
     },
     "execution_count": 2,
     "metadata": {},
     "output_type": "execute_result"
    }
   ],
   "source": [
    "anonymous.head()"
   ]
  },
  {
   "cell_type": "code",
   "execution_count": 3,
   "id": "76614206",
   "metadata": {},
   "outputs": [
    {
     "data": {
      "text/plain": [
       "0.25"
      ]
     },
     "execution_count": 3,
     "metadata": {},
     "output_type": "execute_result"
    }
   ],
   "source": [
    "anonymous['class'].mean()"
   ]
  },
  {
   "cell_type": "code",
   "execution_count": 4,
   "id": "58b19218",
   "metadata": {},
   "outputs": [
    {
     "data": {
      "text/plain": [
       "0"
      ]
     },
     "execution_count": 4,
     "metadata": {},
     "output_type": "execute_result"
    }
   ],
   "source": [
    "anonymous.isna().sum().sum() # 결측치 확인"
   ]
  },
  {
   "cell_type": "markdown",
   "id": "f255393c",
   "metadata": {},
   "source": [
    "## PCA에 따른 모델링 성능/결과 비교"
   ]
  },
  {
   "cell_type": "code",
   "execution_count": 5,
   "id": "a1c051c8",
   "metadata": {},
   "outputs": [],
   "source": [
    "from sklearn.model_selection import train_test_split\n",
    "X_train, X_test, y_train, y_test = train_test_split(anonymous.drop('class', axis=1), \n",
    "                                                    anonymous['class'],\n",
    "                                                    test_size=0.2,\n",
    "                                                    random_state=100)"
   ]
  },
  {
   "cell_type": "code",
   "execution_count": 6,
   "id": "4243fcde",
   "metadata": {},
   "outputs": [],
   "source": [
    "# 스케일링 작업\n",
    "from sklearn.preprocessing import StandardScaler\n",
    "\n",
    "scaler = StandardScaler()\n",
    "scaler.fit(X_train)\n",
    "\n",
    "X_train_scaled = scaler.transform(X_train)\n",
    "X_test_scaled = scaler.transform(X_test)"
   ]
  },
  {
   "cell_type": "code",
   "execution_count": 7,
   "id": "9483b9d9",
   "metadata": {},
   "outputs": [],
   "source": [
    "# 랜덤 포레스트로 모델링하여 학습 시간 비교\n",
    "from sklearn.ensemble import RandomForestClassifier\n",
    "model_1 = RandomForestClassifier(random_state=100)"
   ]
  },
  {
   "cell_type": "code",
   "execution_count": 8,
   "id": "99c9c8ce",
   "metadata": {},
   "outputs": [
    {
     "name": "stdout",
     "output_type": "stream",
     "text": [
      "79.75538444519043\n"
     ]
    }
   ],
   "source": [
    "import time\n",
    "start_time = time.time()\n",
    "model_1.fit(X_train_scaled, y_train)\n",
    "print(time.time() - start_time)"
   ]
  },
  {
   "cell_type": "code",
   "execution_count": 9,
   "id": "d00d5c01",
   "metadata": {},
   "outputs": [
    {
     "data": {
      "text/plain": [
       "0.958"
      ]
     },
     "execution_count": 9,
     "metadata": {},
     "output_type": "execute_result"
    }
   ],
   "source": [
    "from sklearn.metrics import accuracy_score, roc_auc_score\n",
    "\n",
    "pred_1 = model_1.predict(X_test_scaled)\n",
    "accuracy_score(y_test, pred_1) # 정확도 값"
   ]
  },
  {
   "cell_type": "code",
   "execution_count": 10,
   "id": "f3999e2a",
   "metadata": {},
   "outputs": [
    {
     "data": {
      "text/plain": [
       "0.9982541957107813"
      ]
     },
     "execution_count": 10,
     "metadata": {},
     "output_type": "execute_result"
    }
   ],
   "source": [
    "proba_1 = model_1.predict_proba(X_test_scaled)\n",
    "roc_auc_score(y_test, proba_1[:,1]) # AUC 값"
   ]
  },
  {
   "cell_type": "code",
   "execution_count": 11,
   "id": "fb976a73",
   "metadata": {},
   "outputs": [
    {
     "data": {
      "text/plain": [
       "PCA(n_components=2)"
      ]
     },
     "execution_count": 11,
     "metadata": {},
     "output_type": "execute_result"
    }
   ],
   "source": [
    "# 차원 축소\n",
    "from sklearn.decomposition import PCA\n",
    "\n",
    "pca = PCA(n_components=2)\n",
    "pca.fit(X_train_scaled)"
   ]
  },
  {
   "cell_type": "code",
   "execution_count": 12,
   "id": "8b6333d2",
   "metadata": {},
   "outputs": [
    {
     "data": {
      "text/plain": [
       "array([0.04992445, 0.03331409])"
      ]
     },
     "execution_count": 12,
     "metadata": {},
     "output_type": "execute_result"
    }
   ],
   "source": [
    "# 데이터 반영 비율\n",
    "pca.explained_variance_ratio_"
   ]
  },
  {
   "cell_type": "code",
   "execution_count": 13,
   "id": "d2143809",
   "metadata": {},
   "outputs": [],
   "source": [
    "var_ratio = []\n",
    "\n",
    "for i in range(100, 550, 50): # 주성분 개수를 100부터 50단위로 500까지 설정\n",
    "    pca = PCA(n_components=i)\n",
    "    pca.fit_transform(X_train_scaled)\n",
    "    ratio = pca.explained_variance_ratio_.sum()\n",
    "    var_ratio.append(ratio)"
   ]
  },
  {
   "cell_type": "code",
   "execution_count": 14,
   "id": "f4769d9c",
   "metadata": {},
   "outputs": [
    {
     "data": {
      "text/plain": [
       "<AxesSubplot:>"
      ]
     },
     "execution_count": 14,
     "metadata": {},
     "output_type": "execute_result"
    },
    {
     "data": {
      "image/png": "[encoded data removed]",
      "text/plain": [
       "<Figure size 432x288 with 1 Axes>"
      ]
     },
     "metadata": {
      "needs_background": "light"
     },
     "output_type": "display_data"
    }
   ],
   "source": [
    "sns.lineplot(x=range(100, 550, 50), y=var_ratio)"
   ]
  },
  {
   "cell_type": "code",
   "execution_count": 15,
   "id": "0f7c457c",
   "metadata": {},
   "outputs": [],
   "source": [
    "pca = PCA(n_components=400, random_state = 100) # 최적의 주성분 개수(400)로 설정\n",
    "pca.fit(X_train_scaled) \n",
    "X_train_scaled_pca = pca.transform(X_train_scaled) \n",
    "X_test_scaled_pca = pca.transform(X_test_scaled)   "
   ]
  },
  {
   "cell_type": "code",
   "execution_count": 16,
   "id": "94860192",
   "metadata": {},
   "outputs": [
    {
     "name": "stdout",
     "output_type": "stream",
     "text": [
      "50.125033378601074\n"
     ]
    }
   ],
   "source": [
    "model_2 = RandomForestClassifier(random_state=100) \n",
    "start_time = time.time()\n",
    "model_2.fit(X_train_scaled_pca, y_train)\n",
    "print(time.time() - start_time)"
   ]
  },
  {
   "cell_type": "code",
   "execution_count": 17,
   "id": "1e26b1c7",
   "metadata": {},
   "outputs": [
    {
     "data": {
      "text/plain": [
       "0.98925"
      ]
     },
     "execution_count": 17,
     "metadata": {},
     "output_type": "execute_result"
    }
   ],
   "source": [
    "pred_2 = model_2.predict(X_test_scaled_pca)\n",
    "accuracy_score(y_test, pred_2)"
   ]
  },
  {
   "cell_type": "code",
   "execution_count": 18,
   "id": "54fac122",
   "metadata": {},
   "outputs": [
    {
     "data": {
      "text/plain": [
       "0.9982517669346417"
      ]
     },
     "execution_count": 18,
     "metadata": {},
     "output_type": "execute_result"
    }
   ],
   "source": [
    "proba_2 = model_2.predict_proba(X_test_scaled_pca)\n",
    "roc_auc_score(y_test, proba_2[:,1])"
   ]
  },
  {
   "cell_type": "code",
   "execution_count": null,
   "id": "19f26279",
   "metadata": {},
   "outputs": [],
   "source": []
  }
 ],
 "metadata": {
  "kernelspec": {
   "display_name": "Python 3",
   "language": "python",
   "name": "python3"
  },
  "language_info": {
   "codemirror_mode": {
    "name": "ipython",
    "version": 3
   },
   "file_extension": ".py",
   "mimetype": "text/x-python",
   "name": "python",
   "nbconvert_exporter": "python",
   "pygments_lexer": "ipython3",
   "version": "3.8.8"
  }
 },
 "nbformat": 4,
 "nbformat_minor": 5
}
