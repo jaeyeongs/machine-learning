{
 "cells": [
  {
   "cell_type": "markdown",
   "id": "7ebcd3e4",
   "metadata": {},
   "source": [
    "# 데이터의 차원을 축소하여 이해하기 쉽게 시각화"
   ]
  },
  {
   "cell_type": "markdown",
   "id": "a3b4a5aa",
   "metadata": {},
   "source": [
    "## 라이브러리 및 데이터 불러오기"
   ]
  },
  {
   "cell_type": "code",
   "execution_count": 1,
   "id": "a91630c2",
   "metadata": {},
   "outputs": [],
   "source": [
    "import pandas as pd\n",
    "import numpy as np\n",
    "import matplotlib.pyplot as plt\n",
    "import seaborn as sns\n",
    "\n",
    "file_url = 'https://raw.githubusercontent.com/snkn1959/data_source/main/customer_pca.csv'\n",
    "customer = pd.read_csv(file_url)"
   ]
  },
  {
   "cell_type": "code",
   "execution_count": 2,
   "id": "60d275d6",
   "metadata": {},
   "outputs": [
    {
     "data": {
      "text/html": [
       "<div>\n",
       "<style scoped>\n",
       "    .dataframe tbody tr th:only-of-type {\n",
       "        vertical-align: middle;\n",
       "    }\n",
       "\n",
       "    .dataframe tbody tr th {\n",
       "        vertical-align: top;\n",
       "    }\n",
       "\n",
       "    .dataframe thead th {\n",
       "        text-align: right;\n",
       "    }\n",
       "</style>\n",
       "<table border=\"1\" class=\"dataframe\">\n",
       "  <thead>\n",
       "    <tr style=\"text-align: right;\">\n",
       "      <th></th>\n",
       "      <th>amt</th>\n",
       "      <th>category_entertainment</th>\n",
       "      <th>category_food_dining</th>\n",
       "      <th>category_gas_transport</th>\n",
       "      <th>category_grocery</th>\n",
       "      <th>category_health_fitness</th>\n",
       "      <th>category_home</th>\n",
       "      <th>category_kids_pets</th>\n",
       "      <th>category_misc</th>\n",
       "      <th>category_personal_care</th>\n",
       "      <th>category_shopping</th>\n",
       "      <th>category_travel</th>\n",
       "      <th>label</th>\n",
       "    </tr>\n",
       "  </thead>\n",
       "  <tbody>\n",
       "    <tr>\n",
       "      <th>0</th>\n",
       "      <td>-1.402327</td>\n",
       "      <td>-1.135617</td>\n",
       "      <td>-0.971069</td>\n",
       "      <td>-1.000180</td>\n",
       "      <td>-1.118217</td>\n",
       "      <td>-1.561756</td>\n",
       "      <td>-1.145051</td>\n",
       "      <td>-1.276913</td>\n",
       "      <td>-1.124693</td>\n",
       "      <td>-1.070260</td>\n",
       "      <td>-1.141424</td>\n",
       "      <td>-0.619930</td>\n",
       "      <td>0</td>\n",
       "    </tr>\n",
       "    <tr>\n",
       "      <th>1</th>\n",
       "      <td>1.079407</td>\n",
       "      <td>0.414075</td>\n",
       "      <td>0.168880</td>\n",
       "      <td>2.090013</td>\n",
       "      <td>0.767268</td>\n",
       "      <td>1.040236</td>\n",
       "      <td>0.844969</td>\n",
       "      <td>1.127922</td>\n",
       "      <td>1.210503</td>\n",
       "      <td>1.807350</td>\n",
       "      <td>0.659967</td>\n",
       "      <td>-0.222587</td>\n",
       "      <td>3</td>\n",
       "    </tr>\n",
       "    <tr>\n",
       "      <th>2</th>\n",
       "      <td>1.200151</td>\n",
       "      <td>0.747127</td>\n",
       "      <td>1.622968</td>\n",
       "      <td>-0.606627</td>\n",
       "      <td>0.439476</td>\n",
       "      <td>1.376630</td>\n",
       "      <td>2.126364</td>\n",
       "      <td>0.378610</td>\n",
       "      <td>-0.196523</td>\n",
       "      <td>0.127825</td>\n",
       "      <td>1.299938</td>\n",
       "      <td>2.766891</td>\n",
       "      <td>1</td>\n",
       "    </tr>\n",
       "    <tr>\n",
       "      <th>3</th>\n",
       "      <td>-1.474915</td>\n",
       "      <td>-1.129427</td>\n",
       "      <td>-1.539741</td>\n",
       "      <td>-0.930355</td>\n",
       "      <td>-1.079803</td>\n",
       "      <td>-1.222903</td>\n",
       "      <td>-1.572733</td>\n",
       "      <td>-1.516610</td>\n",
       "      <td>-1.274986</td>\n",
       "      <td>-1.185705</td>\n",
       "      <td>-1.166127</td>\n",
       "      <td>-0.601675</td>\n",
       "      <td>0</td>\n",
       "    </tr>\n",
       "    <tr>\n",
       "      <th>4</th>\n",
       "      <td>0.901491</td>\n",
       "      <td>0.257905</td>\n",
       "      <td>-0.320220</td>\n",
       "      <td>2.083588</td>\n",
       "      <td>0.540547</td>\n",
       "      <td>0.705908</td>\n",
       "      <td>1.097814</td>\n",
       "      <td>0.955178</td>\n",
       "      <td>1.198524</td>\n",
       "      <td>1.640103</td>\n",
       "      <td>0.578781</td>\n",
       "      <td>-0.484796</td>\n",
       "      <td>3</td>\n",
       "    </tr>\n",
       "  </tbody>\n",
       "</table>\n",
       "</div>"
      ],
      "text/plain": [
       "        amt  category_entertainment  category_food_dining  \\\n",
       "0 -1.402327               -1.135617             -0.971069   \n",
       "1  1.079407                0.414075              0.168880   \n",
       "2  1.200151                0.747127              1.622968   \n",
       "3 -1.474915               -1.129427             -1.539741   \n",
       "4  0.901491                0.257905             -0.320220   \n",
       "\n",
       "   category_gas_transport  category_grocery  category_health_fitness  \\\n",
       "0               -1.000180         -1.118217                -1.561756   \n",
       "1                2.090013          0.767268                 1.040236   \n",
       "2               -0.606627          0.439476                 1.376630   \n",
       "3               -0.930355         -1.079803                -1.222903   \n",
       "4                2.083588          0.540547                 0.705908   \n",
       "\n",
       "   category_home  category_kids_pets  category_misc  category_personal_care  \\\n",
       "0      -1.145051           -1.276913      -1.124693               -1.070260   \n",
       "1       0.844969            1.127922       1.210503                1.807350   \n",
       "2       2.126364            0.378610      -0.196523                0.127825   \n",
       "3      -1.572733           -1.516610      -1.274986               -1.185705   \n",
       "4       1.097814            0.955178       1.198524                1.640103   \n",
       "\n",
       "   category_shopping  category_travel  label  \n",
       "0          -1.141424        -0.619930      0  \n",
       "1           0.659967        -0.222587      3  \n",
       "2           1.299938         2.766891      1  \n",
       "3          -1.166127        -0.601675      0  \n",
       "4           0.578781        -0.484796      3  "
      ]
     },
     "execution_count": 2,
     "metadata": {},
     "output_type": "execute_result"
    }
   ],
   "source": [
    "customer.head()"
   ]
  },
  {
   "cell_type": "code",
   "execution_count": 3,
   "id": "a4473cd5",
   "metadata": {},
   "outputs": [],
   "source": [
    "customer_X = customer.drop('label', axis=1) # 독립변수\n",
    "customer_y = customer['label'] # 종속변수"
   ]
  },
  {
   "cell_type": "markdown",
   "id": "364f7e1f",
   "metadata": {},
   "source": [
    "## 그래프 표현을 위한 차원 축소"
   ]
  },
  {
   "cell_type": "code",
   "execution_count": 4,
   "id": "da9155b1",
   "metadata": {},
   "outputs": [],
   "source": [
    "from sklearn.decomposition import PCA\n",
    "pca = PCA(n_components=2) # 2개 주성분 설정"
   ]
  },
  {
   "cell_type": "code",
   "execution_count": 5,
   "id": "0180c536",
   "metadata": {},
   "outputs": [],
   "source": [
    "pca.fit(customer_X) # 학습\n",
    "customer_pca = pca.transform(customer_X)"
   ]
  },
  {
   "cell_type": "code",
   "execution_count": 6,
   "id": "2e3dcb24",
   "metadata": {
    "collapsed": true
   },
   "outputs": [
    {
     "data": {
      "text/plain": [
       "array([[-3.92906072e+00,  1.02604491e-01],\n",
       "       [ 3.10758276e+00, -1.74887930e+00],\n",
       "       [ 3.02379272e+00,  3.21221215e+00],\n",
       "       [-4.28241767e+00,  1.13781030e-02],\n",
       "       [ 2.59065802e+00, -1.90612064e+00],\n",
       "       [ 8.70343520e-01, -1.79154348e-02],\n",
       "       [-1.16508938e+00,  2.00387900e+00],\n",
       "       [ 1.41163657e+00, -1.21220170e+00],\n",
       "       [ 1.79302072e-01, -1.15337545e+00],\n",
       "       [-2.74166293e+00, -3.48112299e-02],\n",
       "       [ 4.03108363e-01, -2.56426911e-01],\n",
       "       [-4.32816586e+00,  1.09280479e-01],\n",
       "       [-1.06779010e+00, -4.71336448e-01],\n",
       "       [-3.54208654e+00,  2.09373453e-01],\n",
       "       [ 3.00321739e+00,  6.85140300e-02],\n",
       "       [ 5.08464052e+00, -1.92234923e+00],\n",
       "       [-1.39044460e+00,  3.22162225e-01],\n",
       "       [-2.64318989e+00, -4.59744830e-01],\n",
       "       [-7.37714393e-01, -9.30393910e-01],\n",
       "       [-3.93420145e+00,  1.62749639e-01],\n",
       "       [ 3.16675507e-01, -4.22288613e-01],\n",
       "       [ 7.31864853e+00,  5.17885391e-02],\n",
       "       [ 6.60448573e-01, -1.13828656e+00],\n",
       "       [-3.96099431e+00, -5.54999191e-02],\n",
       "       [ 2.88515690e+00, -1.50950875e+00],\n",
       "       [-9.13413956e-01, -2.84250823e-01],\n",
       "       [ 7.47738674e+00,  4.13602819e-01],\n",
       "       [ 8.51161986e-01,  2.66450095e+00],\n",
       "       [ 3.11683289e+00,  3.55512199e+00],\n",
       "       [-2.61734209e+00, -2.27449931e-03],\n",
       "       [-1.22771428e-01, -3.31216229e-01],\n",
       "       [ 9.13108512e-01,  3.00138893e+00],\n",
       "       [-9.55686582e-02, -2.02640440e-01],\n",
       "       [ 2.51249575e+00, -6.33108713e-01],\n",
       "       [ 3.12230426e+00,  3.70599880e+00],\n",
       "       [ 3.14778237e+00,  4.33267256e+00],\n",
       "       [ 6.06549063e-01, -9.86110799e-01],\n",
       "       [-3.46744343e+00,  1.08940594e+00],\n",
       "       [ 6.18615770e-02, -1.27174586e+00],\n",
       "       [ 2.87266476e-01, -1.05338012e+00],\n",
       "       [ 5.08834370e-01, -2.02343984e-01],\n",
       "       [-9.01515768e-01, -2.68070767e-01],\n",
       "       [-8.05819264e-02, -6.27176745e-01],\n",
       "       [-2.57697663e+00, -1.32747276e-01],\n",
       "       [ 2.92716445e+00,  4.17160726e-01],\n",
       "       [ 7.53139122e+00,  8.91638114e-01],\n",
       "       [ 2.37952005e+00, -1.70940926e+00],\n",
       "       [-1.24997746e+00,  2.93538981e-01],\n",
       "       [ 5.08939438e-01,  5.05213153e-01],\n",
       "       [ 2.00027356e+00, -5.82652255e-01],\n",
       "       [-4.11163191e+00,  1.20451458e-02],\n",
       "       [ 7.19921286e-01, -1.02373898e+00],\n",
       "       [ 5.13207228e+00, -3.55005462e-02],\n",
       "       [-1.30152112e+00, -2.92916652e-01],\n",
       "       [-1.26229904e+00,  1.99571763e+00],\n",
       "       [-3.92072783e+00,  4.19591569e-01],\n",
       "       [-3.92335605e+00,  2.90238232e-01],\n",
       "       [-1.07974232e+00, -7.56236332e-01],\n",
       "       [ 2.29847276e+00, -1.71731618e+00],\n",
       "       [-2.41712125e+00, -1.65314491e-01],\n",
       "       [-1.94038751e+00,  8.65325435e-02],\n",
       "       [ 9.61908159e-01,  3.07626115e+00],\n",
       "       [ 3.07761364e+00,  6.23734925e-01],\n",
       "       [ 6.98825143e-02, -1.26850385e+00],\n",
       "       [-3.83324310e+00,  1.04062564e-01],\n",
       "       [ 5.07062308e+00,  3.66619197e-01],\n",
       "       [ 3.03194691e+00,  3.70983803e+00],\n",
       "       [-3.79352069e+00,  2.43265665e-01],\n",
       "       [ 8.44571030e-01, -9.03608885e-01],\n",
       "       [ 1.10497065e+00, -5.69239958e-01],\n",
       "       [-1.20868859e+00, -5.47974662e-01],\n",
       "       [-3.74634015e+00,  6.45711112e-01],\n",
       "       [ 6.55382011e-01, -6.80909837e-01],\n",
       "       [ 3.18270985e+00, -1.60458982e+00],\n",
       "       [-6.86581666e-01,  4.12809181e-02],\n",
       "       [-1.14472565e+00, -5.80928792e-01],\n",
       "       [ 2.25158156e+00, -1.86551742e+00],\n",
       "       [-4.11846276e+00,  2.43692755e-01],\n",
       "       [-3.61019796e+00,  3.80018798e-01],\n",
       "       [-2.39950827e+00, -2.99975577e-01],\n",
       "       [-1.38050726e+00,  2.37925206e-01],\n",
       "       [ 5.69227545e-01, -9.45067658e-01],\n",
       "       [-7.54661391e-01, -5.46883930e-02],\n",
       "       [-2.06403817e+00, -2.02782822e-01],\n",
       "       [-1.25451597e+00, -5.30717565e-02],\n",
       "       [ 5.47010496e-01, -1.18056800e+00],\n",
       "       [ 7.28182232e+00,  3.68954923e-01],\n",
       "       [ 1.51779943e-01, -2.94127566e-01],\n",
       "       [-1.06550470e+00, -6.32866500e-01],\n",
       "       [ 2.20734751e+00, -1.60190057e+00],\n",
       "       [ 5.58915914e-01,  2.22725170e-01],\n",
       "       [-4.39374365e+00,  1.84102321e-02],\n",
       "       [-2.09512738e+00, -2.05503210e-01],\n",
       "       [-1.93572397e+00, -1.86190550e-01],\n",
       "       [ 1.57812958e-01, -5.61152392e-01],\n",
       "       [ 3.05786793e+00, -2.07006100e+00],\n",
       "       [-1.98087248e+00, -1.85123765e-01],\n",
       "       [-3.46538499e+00,  1.02229842e+00],\n",
       "       [-3.27716415e+00,  1.39247995e+00],\n",
       "       [ 2.17218468e+00, -6.13946378e-01]])"
      ]
     },
     "execution_count": 6,
     "metadata": {},
     "output_type": "execute_result"
    }
   ],
   "source": [
    "customer_pca"
   ]
  },
  {
   "cell_type": "code",
   "execution_count": 7,
   "id": "c12fa238",
   "metadata": {},
   "outputs": [],
   "source": [
    "# 데이터프레임 형식으로 변환\n",
    "customer_pca = pd.DataFrame(customer_pca, columns=['PCA1', 'PCA2'])"
   ]
  },
  {
   "cell_type": "code",
   "execution_count": 8,
   "id": "ff3a5dc1",
   "metadata": {},
   "outputs": [
    {
     "data": {
      "text/html": [
       "<div>\n",
       "<style scoped>\n",
       "    .dataframe tbody tr th:only-of-type {\n",
       "        vertical-align: middle;\n",
       "    }\n",
       "\n",
       "    .dataframe tbody tr th {\n",
       "        vertical-align: top;\n",
       "    }\n",
       "\n",
       "    .dataframe thead th {\n",
       "        text-align: right;\n",
       "    }\n",
       "</style>\n",
       "<table border=\"1\" class=\"dataframe\">\n",
       "  <thead>\n",
       "    <tr style=\"text-align: right;\">\n",
       "      <th></th>\n",
       "      <th>PCA1</th>\n",
       "      <th>PCA2</th>\n",
       "      <th>label</th>\n",
       "    </tr>\n",
       "  </thead>\n",
       "  <tbody>\n",
       "    <tr>\n",
       "      <th>0</th>\n",
       "      <td>-3.929061</td>\n",
       "      <td>0.102604</td>\n",
       "      <td>0</td>\n",
       "    </tr>\n",
       "    <tr>\n",
       "      <th>1</th>\n",
       "      <td>3.107583</td>\n",
       "      <td>-1.748879</td>\n",
       "      <td>3</td>\n",
       "    </tr>\n",
       "    <tr>\n",
       "      <th>2</th>\n",
       "      <td>3.023793</td>\n",
       "      <td>3.212212</td>\n",
       "      <td>1</td>\n",
       "    </tr>\n",
       "    <tr>\n",
       "      <th>3</th>\n",
       "      <td>-4.282418</td>\n",
       "      <td>0.011378</td>\n",
       "      <td>0</td>\n",
       "    </tr>\n",
       "    <tr>\n",
       "      <th>4</th>\n",
       "      <td>2.590658</td>\n",
       "      <td>-1.906121</td>\n",
       "      <td>3</td>\n",
       "    </tr>\n",
       "  </tbody>\n",
       "</table>\n",
       "</div>"
      ],
      "text/plain": [
       "       PCA1      PCA2  label\n",
       "0 -3.929061  0.102604      0\n",
       "1  3.107583 -1.748879      3\n",
       "2  3.023793  3.212212      1\n",
       "3 -4.282418  0.011378      0\n",
       "4  2.590658 -1.906121      3"
      ]
     },
     "execution_count": 8,
     "metadata": {},
     "output_type": "execute_result"
    }
   ],
   "source": [
    "# label 붙이기\n",
    "customer_pca = customer_pca.join(customer_y)\n",
    "customer_pca.head()"
   ]
  },
  {
   "cell_type": "code",
   "execution_count": 9,
   "id": "b554f2c5",
   "metadata": {},
   "outputs": [
    {
     "data": {
      "text/plain": [
       "<AxesSubplot:xlabel='PCA1', ylabel='PCA2'>"
      ]
     },
     "execution_count": 9,
     "metadata": {},
     "output_type": "execute_result"
    },
    {
     "data": {
      "image/png": "[encoded data removed]",
      "text/plain": [
       "<Figure size 432x288 with 1 Axes>"
      ]
     },
     "metadata": {
      "needs_background": "light"
     },
     "output_type": "display_data"
    }
   ],
   "source": [
    "# 산점도 그리기\n",
    "sns.scatterplot(x='PCA1',\n",
    "                y='PCA2',\n",
    "                data=customer_pca, \n",
    "                hue='label',\n",
    "                palette='rainbow')"
   ]
  },
  {
   "cell_type": "code",
   "execution_count": 10,
   "id": "08cff520",
   "metadata": {},
   "outputs": [
    {
     "data": {
      "text/html": [
       "<div>\n",
       "<style scoped>\n",
       "    .dataframe tbody tr th:only-of-type {\n",
       "        vertical-align: middle;\n",
       "    }\n",
       "\n",
       "    .dataframe tbody tr th {\n",
       "        vertical-align: top;\n",
       "    }\n",
       "\n",
       "    .dataframe thead th {\n",
       "        text-align: right;\n",
       "    }\n",
       "</style>\n",
       "<table border=\"1\" class=\"dataframe\">\n",
       "  <thead>\n",
       "    <tr style=\"text-align: right;\">\n",
       "      <th></th>\n",
       "      <th>amt</th>\n",
       "      <th>category_entertainment</th>\n",
       "      <th>category_food_dining</th>\n",
       "      <th>category_gas_transport</th>\n",
       "      <th>category_grocery</th>\n",
       "      <th>category_health_fitness</th>\n",
       "      <th>category_home</th>\n",
       "      <th>category_kids_pets</th>\n",
       "      <th>category_misc</th>\n",
       "      <th>category_personal_care</th>\n",
       "      <th>category_shopping</th>\n",
       "      <th>category_travel</th>\n",
       "    </tr>\n",
       "  </thead>\n",
       "  <tbody>\n",
       "    <tr>\n",
       "      <th>0</th>\n",
       "      <td>0.348468</td>\n",
       "      <td>0.324472</td>\n",
       "      <td>0.303037</td>\n",
       "      <td>0.141869</td>\n",
       "      <td>0.306183</td>\n",
       "      <td>0.312973</td>\n",
       "      <td>0.297189</td>\n",
       "      <td>0.304582</td>\n",
       "      <td>0.293413</td>\n",
       "      <td>0.302877</td>\n",
       "      <td>0.320534</td>\n",
       "      <td>0.089275</td>\n",
       "    </tr>\n",
       "    <tr>\n",
       "      <th>1</th>\n",
       "      <td>0.058276</td>\n",
       "      <td>0.060343</td>\n",
       "      <td>0.152647</td>\n",
       "      <td>-0.544356</td>\n",
       "      <td>0.031095</td>\n",
       "      <td>0.037906</td>\n",
       "      <td>0.238096</td>\n",
       "      <td>-0.231528</td>\n",
       "      <td>-0.247193</td>\n",
       "      <td>-0.208983</td>\n",
       "      <td>0.144790</td>\n",
       "      <td>0.659468</td>\n",
       "    </tr>\n",
       "  </tbody>\n",
       "</table>\n",
       "</div>"
      ],
      "text/plain": [
       "        amt  category_entertainment  category_food_dining  \\\n",
       "0  0.348468                0.324472              0.303037   \n",
       "1  0.058276                0.060343              0.152647   \n",
       "\n",
       "   category_gas_transport  category_grocery  category_health_fitness  \\\n",
       "0                0.141869          0.306183                 0.312973   \n",
       "1               -0.544356          0.031095                 0.037906   \n",
       "\n",
       "   category_home  category_kids_pets  category_misc  category_personal_care  \\\n",
       "0       0.297189            0.304582       0.293413                0.302877   \n",
       "1       0.238096           -0.231528      -0.247193               -0.208983   \n",
       "\n",
       "   category_shopping  category_travel  \n",
       "0           0.320534         0.089275  \n",
       "1           0.144790         0.659468  "
      ]
     },
     "execution_count": 10,
     "metadata": {},
     "output_type": "execute_result"
    }
   ],
   "source": [
    "# 주성분과 변수의 관계 확인\n",
    "df_comp = pd.DataFrame(pca.components_, columns=customer_X.columns)\n",
    "df_comp"
   ]
  },
  {
   "cell_type": "code",
   "execution_count": 12,
   "id": "0f47c60c",
   "metadata": {},
   "outputs": [
    {
     "data": {
      "text/plain": [
       "<AxesSubplot:>"
      ]
     },
     "execution_count": 12,
     "metadata": {},
     "output_type": "execute_result"
    },
    {
     "data": {
      "image/png": "[encoded data removed]",
      "text/plain": [
       "<Figure size 432x288 with 2 Axes>"
      ]
     },
     "metadata": {
      "needs_background": "light"
     },
     "output_type": "display_data"
    }
   ],
   "source": [
    "# heatmap\n",
    "sns.heatmap(df_comp, cmap='coolwarm')"
   ]
  },
  {
   "cell_type": "code",
   "execution_count": null,
   "id": "1549d466",
   "metadata": {},
   "outputs": [],
   "source": []
  }
 ],
 "metadata": {
  "kernelspec": {
   "display_name": "Python 3",
   "language": "python",
   "name": "python3"
  },
  "language_info": {
   "codemirror_mode": {
    "name": "ipython",
    "version": 3
   },
   "file_extension": ".py",
   "mimetype": "text/x-python",
   "name": "python",
   "nbconvert_exporter": "python",
   "pygments_lexer": "ipython3",
   "version": "3.8.8"
  }
 },
 "nbformat": 4,
 "nbformat_minor": 5
}
